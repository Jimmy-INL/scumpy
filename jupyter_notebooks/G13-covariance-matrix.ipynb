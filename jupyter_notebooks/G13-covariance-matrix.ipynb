{
 "cells": [
  {
   "cell_type": "markdown",
   "id": "68d1a8ef-f7dc-4d43-959a-878bb0aa2e97",
   "metadata": {},
   "source": [
    "# G13 covariance matrix\n",
    "Main Reference:\n",
    "\n",
    "* <a href=https://ftp.cs.ucla.edu/pub/stat_ser/r493.pdf>A Crash Course in Good and Bad Controls</a>,\n",
    "by Carlos Cinelli, Andrew Forney and Judea Pearl\n",
    "\n",
    "In this notebook, we derive, using a symbolic manipulator (SymPy), the covariance matrix and jacobian as a function of the gains, for \n",
    "\n",
    "## G13 \n",
    "\n",
    "This covariance matrix appears at the end of that paper."
   ]
  },
  {
   "cell_type": "markdown",
   "id": "43eaed3d-6ba9-44c6-890d-61310aea60a9",
   "metadata": {},
   "source": [
When $\underline{Z}$ is held fixed to a constant
value $z$, we must set
1. $\langle \underline{Z},\underline{a}\rangle=0$
for any node $\underline{a}$. That's because if one of the two arguments
of a covariance is a constant, the covariance is zero. Hence,
for arbitrary nodes $\underline{a}$
and $\underline{b}$,
ratios such as
$\langle \underline{Z},
\underline{a}\rangle/\langle \underline{Z},
\underline{b}\rangle$,
are indefinite,
and can take on any value.

2. $\langle\underline{\epsilon}_\underline{Z},\underline{\epsilon}_\underline{a}\rangle=0$
for any node $\underline{a}$.
That's because when $\underline{Z}$ is held fixed,
$\underline{\epsilon}_\underline{Z}$ no longer serves any
purpose and becomes arbitrary.

3. $\langle\underline{\epsilon}_\underline{a},\underline{\epsilon}_\underline{b}\rangle=0$
for any two distinct nodes $\underline{a}, \underline{b}$.
This is the standard SCM assumption that
$\langle \underline{\epsilon}_i, \underline{\epsilon}_j\rangle=0$
if $i\neq j$.

When $\underline{Z}$ is a "good" control (see, for example,
the notebooks for graph G1),
(1), (2) and (3) can all be satisfied without contradiction.

When $\underline{Z}$ is a "bad" control (see, for example,
the notebooks for graph G7),
(1), (2) and (3) cannot all be satisfied without contradiction. It  is possible,
however, to satisfy constraints (1) and (2), but
discard (3). The SCuMpy function 'CovMatCalculator()'
has a parameter 'conditioned_nds' which is
normally set to None, but which when set to a list of nodes as in
'conditioned_nds=["Z"]', includes all covariances
$\langle \underline{\epsilon}_i, \underline{\epsilon}_j\rangle\neq 0$,
as long neither $i$ nor $j$ is in the conditioned nodes list.

The reason that discarding constraint (3) when we condition
on some nodes makes sense is as follows. If one of the
nodes you are conditioning on is a collider, you might
open an unblocked path between two of the $\underline{\epsilon}_j$
nodes. This is exactly what happens when you condition
graph G7 on node $\underline{Z}$.
   ]
  },
  {
   "cell_type": "code",
   "execution_count": 1,
   "id": "73d99326-85ad-40c0-b3ba-cc873ed5276e",
   "metadata": {},
   "outputs": [
    {
     "name": "stdout",
     "output_type": "stream",
     "text": [
      "C:\\Users\\rrtuc\\Desktop\\backed-up\\python-projects\\scumpy\n"
     ]
    }
   ],
   "source": [
    "# this makes sure it starts looking for things from the scumpy folder down.\n",
    "import os\n",
    "import sys\n",
    "os.chdir('../')\n",
    "sys.path.insert(0,os.getcwd())\n",
    "print(os.getcwd())"
   ]
  },
  {
   "cell_type": "code",
   "execution_count": 2,
   "id": "bfa6c1fe-c023-4169-b42c-820512fbf67f",
   "metadata": {},
   "outputs": [],
   "source": [
    "from Graph import *\n",
    "from CovMatCalculator import *"
   ]
  },
  {
   "cell_type": "code",
   "execution_count": 3,
   "id": "c83d0949-c9a8-429a-b1a2-eda0d229b558",
   "metadata": {},
   "outputs": [
    {
     "data": {
      "image/png": "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\n",
      "text/plain": [
       "<IPython.core.display.Image object>"
      ]
     },
     "metadata": {},
     "output_type": "display_data"
    }
   ],
   "source": [
    "path = 'dot_atlas/good_bad_trols_G13.dot'\n",
    "graph = Graph(path)\n",
    "graph.draw(jupyter=True)"
   ]
  },
  {
   "cell_type": "code",
   "execution_count": 4,
   "id": "4c12a223-53ac-4d70-b124-e6f812dff43d",
   "metadata": {},
   "outputs": [
    {
     "data": {
      "text/latex": [
       "$\\displaystyle \\begin{array}{l}\n",
       "\\left\\langle\\underline{X}, \\underline{X}\\right\\rangle=\\sigma^2_{\\underline{\\epsilon}_{\\underline{X}}}\n",
       "\\\\\n",
       "\\left\\langle\\underline{X}, \\underline{Z}\\right\\rangle=0\n",
       "\\\\\n",
       "\\left\\langle\\underline{X}, \\underline{M}\\right\\rangle=\\alpha_{\\underline{M}|\\underline{X}} \\sigma^2_{\\underline{\\epsilon}_{\\underline{X}}}\n",
       "\\\\\n",
       "\\left\\langle\\underline{X}, \\underline{Y}\\right\\rangle=\\alpha_{\\underline{M}|\\underline{X}} \\alpha_{\\underline{Y}|\\underline{M}} \\sigma^2_{\\underline{\\epsilon}_{\\underline{X}}}\n",
       "\\\\\n",
       "\\left\\langle\\underline{Z}, \\underline{X}\\right\\rangle=0\n",
       "\\\\\n",
       "\\left\\langle\\underline{Z}, \\underline{Z}\\right\\rangle=\\sigma^2_{\\underline{\\epsilon}_{\\underline{Z}}}\n",
       "\\\\\n",
       "\\left\\langle\\underline{Z}, \\underline{M}\\right\\rangle=\\alpha_{\\underline{M}|\\underline{Z}} \\sigma^2_{\\underline{\\epsilon}_{\\underline{Z}}}\n",
       "\\\\\n",
       "\\left\\langle\\underline{Z}, \\underline{Y}\\right\\rangle=\\alpha_{\\underline{M}|\\underline{Z}} \\alpha_{\\underline{Y}|\\underline{M}} \\sigma^2_{\\underline{\\epsilon}_{\\underline{Z}}}\n",
       "\\\\\n",
       "\\left\\langle\\underline{M}, \\underline{X}\\right\\rangle=\\alpha_{\\underline{M}|\\underline{X}} \\sigma^2_{\\underline{\\epsilon}_{\\underline{X}}}\n",
       "\\\\\n",
       "\\left\\langle\\underline{M}, \\underline{Z}\\right\\rangle=\\alpha_{\\underline{M}|\\underline{Z}} \\sigma^2_{\\underline{\\epsilon}_{\\underline{Z}}}\n",
       "\\\\\n",
       "\\left\\langle\\underline{M}, \\underline{M}\\right\\rangle=\\alpha_{\\underline{M}|\\underline{X}}^{2} \\sigma^2_{\\underline{\\epsilon}_{\\underline{X}}} + \\alpha_{\\underline{M}|\\underline{Z}}^{2} \\sigma^2_{\\underline{\\epsilon}_{\\underline{Z}}} + \\sigma^2_{\\underline{\\epsilon}_{\\underline{M}}}\n",
       "\\\\\n",
       "\\left\\langle\\underline{M}, \\underline{Y}\\right\\rangle=\\alpha_{\\underline{Y}|\\underline{M}} \\left(\\alpha_{\\underline{M}|\\underline{X}}^{2} \\sigma^2_{\\underline{\\epsilon}_{\\underline{X}}} + \\alpha_{\\underline{M}|\\underline{Z}}^{2} \\sigma^2_{\\underline{\\epsilon}_{\\underline{Z}}} + \\sigma^2_{\\underline{\\epsilon}_{\\underline{M}}}\\right)\n",
       "\\\\\n",
       "\\left\\langle\\underline{Y}, \\underline{X}\\right\\rangle=\\alpha_{\\underline{M}|\\underline{X}} \\alpha_{\\underline{Y}|\\underline{M}} \\sigma^2_{\\underline{\\epsilon}_{\\underline{X}}}\n",
       "\\\\\n",
       "\\left\\langle\\underline{Y}, \\underline{Z}\\right\\rangle=\\alpha_{\\underline{M}|\\underline{Z}} \\alpha_{\\underline{Y}|\\underline{M}} \\sigma^2_{\\underline{\\epsilon}_{\\underline{Z}}}\n",
       "\\\\\n",
       "\\left\\langle\\underline{Y}, \\underline{M}\\right\\rangle=\\alpha_{\\underline{Y}|\\underline{M}} \\left(\\alpha_{\\underline{M}|\\underline{X}}^{2} \\sigma^2_{\\underline{\\epsilon}_{\\underline{X}}} + \\alpha_{\\underline{M}|\\underline{Z}}^{2} \\sigma^2_{\\underline{\\epsilon}_{\\underline{Z}}} + \\sigma^2_{\\underline{\\epsilon}_{\\underline{M}}}\\right)\n",
       "\\\\\n",
       "\\left\\langle\\underline{Y}, \\underline{Y}\\right\\rangle=\\alpha_{\\underline{M}|\\underline{X}}^{2} \\alpha_{\\underline{Y}|\\underline{M}}^{2} \\sigma^2_{\\underline{\\epsilon}_{\\underline{X}}} + \\alpha_{\\underline{M}|\\underline{Z}}^{2} \\alpha_{\\underline{Y}|\\underline{M}}^{2} \\sigma^2_{\\underline{\\epsilon}_{\\underline{Z}}} + \\alpha_{\\underline{Y}|\\underline{M}}^{2} \\sigma^2_{\\underline{\\epsilon}_{\\underline{M}}} + \\sigma^2_{\\underline{\\epsilon}_{\\underline{Y}}}\n",
       "\\end{array}$"
      ],
      "text/plain": [
       "\\begin{array}{l}\n",
       "\\left\\langle\\underline{X}, \\underline{X}\\right\\rangle=\\sigma^2_{\\underline{\\epsilon}_{\\underline{X}}}\n",
       "\\\\\n",
       "\\left\\langle\\underline{X}, \\underline{Z}\\right\\rangle=0\n",
       "\\\\\n",
       "\\left\\langle\\underline{X}, \\underline{M}\\right\\rangle=\\alpha_{\\underline{M}|\\underline{X}} \\sigma^2_{\\underline{\\epsilon}_{\\underline{X}}}\n",
       "\\\\\n",
       "\\left\\langle\\underline{X}, \\underline{Y}\\right\\rangle=\\alpha_{\\underline{M}|\\underline{X}} \\alpha_{\\underline{Y}|\\underline{M}} \\sigma^2_{\\underline{\\epsilon}_{\\underline{X}}}\n",
       "\\\\\n",
       "\\left\\langle\\underline{Z}, \\underline{X}\\right\\rangle=0\n",
       "\\\\\n",
       "\\left\\langle\\underline{Z}, \\underline{Z}\\right\\rangle=\\sigma^2_{\\underline{\\epsilon}_{\\underline{Z}}}\n",
       "\\\\\n",
       "\\left\\langle\\underline{Z}, \\underline{M}\\right\\rangle=\\alpha_{\\underline{M}|\\underline{Z}} \\sigma^2_{\\underline{\\epsilon}_{\\underline{Z}}}\n",
       "\\\\\n",
       "\\left\\langle\\underline{Z}, \\underline{Y}\\right\\rangle=\\alpha_{\\underline{M}|\\underline{Z}} \\alpha_{\\underline{Y}|\\underline{M}} \\sigma^2_{\\underline{\\epsilon}_{\\underline{Z}}}\n",
       "\\\\\n",
       "\\left\\langle\\underline{M}, \\underline{X}\\right\\rangle=\\alpha_{\\underline{M}|\\underline{X}} \\sigma^2_{\\underline{\\epsilon}_{\\underline{X}}}\n",
       "\\\\\n",
       "\\left\\langle\\underline{M}, \\underline{Z}\\right\\rangle=\\alpha_{\\underline{M}|\\underline{Z}} \\sigma^2_{\\underline{\\epsilon}_{\\underline{Z}}}\n",
       "\\\\\n",
       "\\left\\langle\\underline{M}, \\underline{M}\\right\\rangle=\\alpha_{\\underline{M}|\\underline{X}}^{2} \\sigma^2_{\\underline{\\epsilon}_{\\underline{X}}} + \\alpha_{\\underline{M}|\\underline{Z}}^{2} \\sigma^2_{\\underline{\\epsilon}_{\\underline{Z}}} + \\sigma^2_{\\underline{\\epsilon}_{\\underline{M}}}\n",
       "\\\\\n",
       "\\left\\langle\\underline{M}, \\underline{Y}\\right\\rangle=\\alpha_{\\underline{Y}|\\underline{M}} \\left(\\alpha_{\\underline{M}|\\underline{X}}^{2} \\sigma^2_{\\underline{\\epsilon}_{\\underline{X}}} + \\alpha_{\\underline{M}|\\underline{Z}}^{2} \\sigma^2_{\\underline{\\epsilon}_{\\underline{Z}}} + \\sigma^2_{\\underline{\\epsilon}_{\\underline{M}}}\\right)\n",
       "\\\\\n",
       "\\left\\langle\\underline{Y}, \\underline{X}\\right\\rangle=\\alpha_{\\underline{M}|\\underline{X}} \\alpha_{\\underline{Y}|\\underline{M}} \\sigma^2_{\\underline{\\epsilon}_{\\underline{X}}}\n",
       "\\\\\n",
       "\\left\\langle\\underline{Y}, \\underline{Z}\\right\\rangle=\\alpha_{\\underline{M}|\\underline{Z}} \\alpha_{\\underline{Y}|\\underline{M}} \\sigma^2_{\\underline{\\epsilon}_{\\underline{Z}}}\n",
       "\\\\\n",
       "\\left\\langle\\underline{Y}, \\underline{M}\\right\\rangle=\\alpha_{\\underline{Y}|\\underline{M}} \\left(\\alpha_{\\underline{M}|\\underline{X}}^{2} \\sigma^2_{\\underline{\\epsilon}_{\\underline{X}}} + \\alpha_{\\underline{M}|\\underline{Z}}^{2} \\sigma^2_{\\underline{\\epsilon}_{\\underline{Z}}} + \\sigma^2_{\\underline{\\epsilon}_{\\underline{M}}}\\right)\n",
       "\\\\\n",
       "\\left\\langle\\underline{Y}, \\underline{Y}\\right\\rangle=\\alpha_{\\underline{M}|\\underline{X}}^{2} \\alpha_{\\underline{Y}|\\underline{M}}^{2} \\sigma^2_{\\underline{\\epsilon}_{\\underline{X}}} + \\alpha_{\\underline{M}|\\underline{Z}}^{2} \\alpha_{\\underline{Y}|\\underline{M}}^{2} \\sigma^2_{\\underline{\\epsilon}_{\\underline{Z}}} + \\alpha_{\\underline{Y}|\\underline{M}}^{2} \\sigma^2_{\\underline{\\epsilon}_{\\underline{M}}} + \\sigma^2_{\\underline{\\epsilon}_{\\underline{Y}}}\n",
       "\\end{array}"
      ]
     },
     "execution_count": 4,
     "metadata": {},
     "output_type": "execute_result"
    }
   ],
   "source": [
    "cal = CovMatCalculator(graph)\n",
    "cal.calculate_cov_mat_sb()\n",
    "cal.print_cov_mat_entries()"
   ]
  },
  {
   "cell_type": "code",
   "execution_count": 5,
   "id": "ce95729c-58ec-4756-bd2d-e157014b69e0",
   "metadata": {},
   "outputs": [
    {
     "data": {
      "text/latex": [
       "$\\displaystyle \\begin{array}{l}\n",
       "\\frac{\\partial\\underline{X}}{\\partial\\underline{X}}=1\n",
       "\\\\\n",
       "\\frac{\\partial\\underline{X}}{\\partial\\underline{Z}}=0\n",
       "\\\\\n",
       "\\frac{\\partial\\underline{X}}{\\partial\\underline{M}}=\\frac{\\alpha_{\\underline{M}|\\underline{X}} \\sigma^2_{\\underline{\\epsilon}_{\\underline{X}}}}{\\alpha_{\\underline{M}|\\underline{X}}^{2} \\sigma^2_{\\underline{\\epsilon}_{\\underline{X}}} + \\alpha_{\\underline{M}|\\underline{Z}}^{2} \\sigma^2_{\\underline{\\epsilon}_{\\underline{Z}}} + \\sigma^2_{\\underline{\\epsilon}_{\\underline{M}}}}\n",
       "\\\\\n",
       "\\frac{\\partial\\underline{X}}{\\partial\\underline{Y}}=\\frac{\\alpha_{\\underline{M}|\\underline{X}} \\alpha_{\\underline{Y}|\\underline{M}} \\sigma^2_{\\underline{\\epsilon}_{\\underline{X}}}}{\\alpha_{\\underline{M}|\\underline{X}}^{2} \\alpha_{\\underline{Y}|\\underline{M}}^{2} \\sigma^2_{\\underline{\\epsilon}_{\\underline{X}}} + \\alpha_{\\underline{M}|\\underline{Z}}^{2} \\alpha_{\\underline{Y}|\\underline{M}}^{2} \\sigma^2_{\\underline{\\epsilon}_{\\underline{Z}}} + \\alpha_{\\underline{Y}|\\underline{M}}^{2} \\sigma^2_{\\underline{\\epsilon}_{\\underline{M}}} + \\sigma^2_{\\underline{\\epsilon}_{\\underline{Y}}}}\n",
       "\\\\\n",
       "\\frac{\\partial\\underline{Z}}{\\partial\\underline{X}}=0\n",
       "\\\\\n",
       "\\frac{\\partial\\underline{Z}}{\\partial\\underline{Z}}=1\n",
       "\\\\\n",
       "\\frac{\\partial\\underline{Z}}{\\partial\\underline{M}}=\\frac{\\alpha_{\\underline{M}|\\underline{Z}} \\sigma^2_{\\underline{\\epsilon}_{\\underline{Z}}}}{\\alpha_{\\underline{M}|\\underline{X}}^{2} \\sigma^2_{\\underline{\\epsilon}_{\\underline{X}}} + \\alpha_{\\underline{M}|\\underline{Z}}^{2} \\sigma^2_{\\underline{\\epsilon}_{\\underline{Z}}} + \\sigma^2_{\\underline{\\epsilon}_{\\underline{M}}}}\n",
       "\\\\\n",
       "\\frac{\\partial\\underline{Z}}{\\partial\\underline{Y}}=\\frac{\\alpha_{\\underline{M}|\\underline{Z}} \\alpha_{\\underline{Y}|\\underline{M}} \\sigma^2_{\\underline{\\epsilon}_{\\underline{Z}}}}{\\alpha_{\\underline{M}|\\underline{X}}^{2} \\alpha_{\\underline{Y}|\\underline{M}}^{2} \\sigma^2_{\\underline{\\epsilon}_{\\underline{X}}} + \\alpha_{\\underline{M}|\\underline{Z}}^{2} \\alpha_{\\underline{Y}|\\underline{M}}^{2} \\sigma^2_{\\underline{\\epsilon}_{\\underline{Z}}} + \\alpha_{\\underline{Y}|\\underline{M}}^{2} \\sigma^2_{\\underline{\\epsilon}_{\\underline{M}}} + \\sigma^2_{\\underline{\\epsilon}_{\\underline{Y}}}}\n",
       "\\\\\n",
       "\\frac{\\partial\\underline{M}}{\\partial\\underline{X}}=\\alpha_{\\underline{M}|\\underline{X}}\n",
       "\\\\\n",
       "\\frac{\\partial\\underline{M}}{\\partial\\underline{Z}}=\\alpha_{\\underline{M}|\\underline{Z}}\n",
       "\\\\\n",
       "\\frac{\\partial\\underline{M}}{\\partial\\underline{M}}=1\n",
       "\\\\\n",
       "\\frac{\\partial\\underline{M}}{\\partial\\underline{Y}}=\\frac{\\alpha_{\\underline{Y}|\\underline{M}} \\left(\\alpha_{\\underline{M}|\\underline{X}}^{2} \\sigma^2_{\\underline{\\epsilon}_{\\underline{X}}} + \\alpha_{\\underline{M}|\\underline{Z}}^{2} \\sigma^2_{\\underline{\\epsilon}_{\\underline{Z}}} + \\sigma^2_{\\underline{\\epsilon}_{\\underline{M}}}\\right)}{\\alpha_{\\underline{M}|\\underline{X}}^{2} \\alpha_{\\underline{Y}|\\underline{M}}^{2} \\sigma^2_{\\underline{\\epsilon}_{\\underline{X}}} + \\alpha_{\\underline{M}|\\underline{Z}}^{2} \\alpha_{\\underline{Y}|\\underline{M}}^{2} \\sigma^2_{\\underline{\\epsilon}_{\\underline{Z}}} + \\alpha_{\\underline{Y}|\\underline{M}}^{2} \\sigma^2_{\\underline{\\epsilon}_{\\underline{M}}} + \\sigma^2_{\\underline{\\epsilon}_{\\underline{Y}}}}\n",
       "\\\\\n",
       "\\frac{\\partial\\underline{Y}}{\\partial\\underline{X}}=\\alpha_{\\underline{M}|\\underline{X}} \\alpha_{\\underline{Y}|\\underline{M}}\n",
       "\\\\\n",
       "\\frac{\\partial\\underline{Y}}{\\partial\\underline{Z}}=\\alpha_{\\underline{M}|\\underline{Z}} \\alpha_{\\underline{Y}|\\underline{M}}\n",
       "\\\\\n",
       "\\frac{\\partial\\underline{Y}}{\\partial\\underline{M}}=\\alpha_{\\underline{Y}|\\underline{M}}\n",
       "\\\\\n",
       "\\frac{\\partial\\underline{Y}}{\\partial\\underline{Y}}=1\n",
       "\\end{array}$"
      ],
      "text/plain": [
       "\\begin{array}{l}\n",
       "\\frac{\\partial\\underline{X}}{\\partial\\underline{X}}=1\n",
       "\\\\\n",
       "\\frac{\\partial\\underline{X}}{\\partial\\underline{Z}}=0\n",
       "\\\\\n",
       "\\frac{\\partial\\underline{X}}{\\partial\\underline{M}}=\\frac{\\alpha_{\\underline{M}|\\underline{X}} \\sigma^2_{\\underline{\\epsilon}_{\\underline{X}}}}{\\alpha_{\\underline{M}|\\underline{X}}^{2} \\sigma^2_{\\underline{\\epsilon}_{\\underline{X}}} + \\alpha_{\\underline{M}|\\underline{Z}}^{2} \\sigma^2_{\\underline{\\epsilon}_{\\underline{Z}}} + \\sigma^2_{\\underline{\\epsilon}_{\\underline{M}}}}\n",
       "\\\\\n",
       "\\frac{\\partial\\underline{X}}{\\partial\\underline{Y}}=\\frac{\\alpha_{\\underline{M}|\\underline{X}} \\alpha_{\\underline{Y}|\\underline{M}} \\sigma^2_{\\underline{\\epsilon}_{\\underline{X}}}}{\\alpha_{\\underline{M}|\\underline{X}}^{2} \\alpha_{\\underline{Y}|\\underline{M}}^{2} \\sigma^2_{\\underline{\\epsilon}_{\\underline{X}}} + \\alpha_{\\underline{M}|\\underline{Z}}^{2} \\alpha_{\\underline{Y}|\\underline{M}}^{2} \\sigma^2_{\\underline{\\epsilon}_{\\underline{Z}}} + \\alpha_{\\underline{Y}|\\underline{M}}^{2} \\sigma^2_{\\underline{\\epsilon}_{\\underline{M}}} + \\sigma^2_{\\underline{\\epsilon}_{\\underline{Y}}}}\n",
       "\\\\\n",
       "\\frac{\\partial\\underline{Z}}{\\partial\\underline{X}}=0\n",
       "\\\\\n",
       "\\frac{\\partial\\underline{Z}}{\\partial\\underline{Z}}=1\n",
       "\\\\\n",
       "\\frac{\\partial\\underline{Z}}{\\partial\\underline{M}}=\\frac{\\alpha_{\\underline{M}|\\underline{Z}} \\sigma^2_{\\underline{\\epsilon}_{\\underline{Z}}}}{\\alpha_{\\underline{M}|\\underline{X}}^{2} \\sigma^2_{\\underline{\\epsilon}_{\\underline{X}}} + \\alpha_{\\underline{M}|\\underline{Z}}^{2} \\sigma^2_{\\underline{\\epsilon}_{\\underline{Z}}} + \\sigma^2_{\\underline{\\epsilon}_{\\underline{M}}}}\n",
       "\\\\\n",
       "\\frac{\\partial\\underline{Z}}{\\partial\\underline{Y}}=\\frac{\\alpha_{\\underline{M}|\\underline{Z}} \\alpha_{\\underline{Y}|\\underline{M}} \\sigma^2_{\\underline{\\epsilon}_{\\underline{Z}}}}{\\alpha_{\\underline{M}|\\underline{X}}^{2} \\alpha_{\\underline{Y}|\\underline{M}}^{2} \\sigma^2_{\\underline{\\epsilon}_{\\underline{X}}} + \\alpha_{\\underline{M}|\\underline{Z}}^{2} \\alpha_{\\underline{Y}|\\underline{M}}^{2} \\sigma^2_{\\underline{\\epsilon}_{\\underline{Z}}} + \\alpha_{\\underline{Y}|\\underline{M}}^{2} \\sigma^2_{\\underline{\\epsilon}_{\\underline{M}}} + \\sigma^2_{\\underline{\\epsilon}_{\\underline{Y}}}}\n",
       "\\\\\n",
       "\\frac{\\partial\\underline{M}}{\\partial\\underline{X}}=\\alpha_{\\underline{M}|\\underline{X}}\n",
       "\\\\\n",
       "\\frac{\\partial\\underline{M}}{\\partial\\underline{Z}}=\\alpha_{\\underline{M}|\\underline{Z}}\n",
       "\\\\\n",
       "\\frac{\\partial\\underline{M}}{\\partial\\underline{M}}=1\n",
       "\\\\\n",
       "\\frac{\\partial\\underline{M}}{\\partial\\underline{Y}}=\\frac{\\alpha_{\\underline{Y}|\\underline{M}} \\left(\\alpha_{\\underline{M}|\\underline{X}}^{2} \\sigma^2_{\\underline{\\epsilon}_{\\underline{X}}} + \\alpha_{\\underline{M}|\\underline{Z}}^{2} \\sigma^2_{\\underline{\\epsilon}_{\\underline{Z}}} + \\sigma^2_{\\underline{\\epsilon}_{\\underline{M}}}\\right)}{\\alpha_{\\underline{M}|\\underline{X}}^{2} \\alpha_{\\underline{Y}|\\underline{M}}^{2} \\sigma^2_{\\underline{\\epsilon}_{\\underline{X}}} + \\alpha_{\\underline{M}|\\underline{Z}}^{2} \\alpha_{\\underline{Y}|\\underline{M}}^{2} \\sigma^2_{\\underline{\\epsilon}_{\\underline{Z}}} + \\alpha_{\\underline{Y}|\\underline{M}}^{2} \\sigma^2_{\\underline{\\epsilon}_{\\underline{M}}} + \\sigma^2_{\\underline{\\epsilon}_{\\underline{Y}}}}\n",
       "\\\\\n",
       "\\frac{\\partial\\underline{Y}}{\\partial\\underline{X}}=\\alpha_{\\underline{M}|\\underline{X}} \\alpha_{\\underline{Y}|\\underline{M}}\n",
       "\\\\\n",
       "\\frac{\\partial\\underline{Y}}{\\partial\\underline{Z}}=\\alpha_{\\underline{M}|\\underline{Z}} \\alpha_{\\underline{Y}|\\underline{M}}\n",
       "\\\\\n",
       "\\frac{\\partial\\underline{Y}}{\\partial\\underline{M}}=\\alpha_{\\underline{Y}|\\underline{M}}\n",
       "\\\\\n",
       "\\frac{\\partial\\underline{Y}}{\\partial\\underline{Y}}=1\n",
       "\\end{array}"
      ]
     },
     "execution_count": 5,
     "metadata": {},
     "output_type": "execute_result"
    }
   ],
   "source": [
    "cal.print_jacobian_entries()"
   ]
  },
  {
   "cell_type": "code",
   "execution_count": null,
   "id": "32f8f8fa-4427-4827-81d7-7806a5b58a96",
   "metadata": {},
   "outputs": [],
   "source": []
  }
 ],
 "metadata": {
  "kernelspec": {
   "display_name": "Python 3 (ipykernel)",
   "language": "python",
   "name": "python3"
  },
  "language_info": {
   "codemirror_mode": {
    "name": "ipython",
    "version": 3
   },
   "file_extension": ".py",
   "mimetype": "text/x-python",
   "name": "python",
   "nbconvert_exporter": "python",
   "pygments_lexer": "ipython3",
   "version": "3.10.9"
  }
 },
 "nbformat": 4,
 "nbformat_minor": 5
}
