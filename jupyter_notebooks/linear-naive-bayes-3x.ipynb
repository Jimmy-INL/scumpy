{
 "cells": [
  {
   "cell_type": "markdown",
   "id": "68d1a8ef-f7dc-4d43-959a-878bb0aa2e97",
   "metadata": {},
   "source": [
    "# Linear Naive Bayes with 3x\n",
    "When we do Naive Bayes classification with 3x (i.e., with 3\n",
    "features $x_1, x_2, x_3$), we use the following DAG:\n",
    "$\\underline{m}\\rightarrow \\underline{x}_1, \n",
    "\\underline{x}_2, \\underline{x}_3$_. In the linear case, this DAG \n",
    "is described by the following 3 structural equation,\n",
    "\n",
    "$$ \\underline{x}_j  =\n",
    "\\alpha_{\\underline{x_j}|\\underline{m}}\\; \\underline{m}\n",
    "+ \\underline{\\epsilon}_{\\underline{x_j}}\n",
    "$$\n",
    "for $j=1,2,3$.\n",
    "\n",
    "Of course, in Naive Bayes, every $\\underline{x}_j$ can only assume a finite number of values. But if we partition the real line of possible values of $\\underline{x}_j$  into a finite number of intervals $I_j^\\alpha$, we can then define $\\underline{x}_j$ to be of category $\\alpha$ whenever $\\underline{x}_j\\in I_j^\\alpha$."
   ]
  },
  {
   "cell_type": "code",
   "execution_count": 7,
   "id": "73d99326-85ad-40c0-b3ba-cc873ed5276e",
   "metadata": {},
   "outputs": [
    {
     "name": "stdout",
     "output_type": "stream",
     "text": [
      "C:\\Users\\rrtuc\\Desktop\\backed-up\\python-projects\n"
     ]
    }
   ],
   "source": [
    "# this makes sure it starts looking for things from the scumpy folder down.\n",
    "import os\n",
    "import sys\n",
    "os.chdir('../')\n",
    "sys.path.insert(0,os.getcwd())\n",
    "print(os.getcwd())"
   ]
  },
  {
   "cell_type": "code",
   "execution_count": 2,
   "id": "bfa6c1fe-c023-4169-b42c-820512fbf67f",
   "metadata": {},
   "outputs": [],
   "source": [
    "from Graph import *\n",
    "from CovMatCalculator import *"
   ]
  },
  {
   "cell_type": "code",
   "execution_count": 3,
   "id": "c83d0949-c9a8-429a-b1a2-eda0d229b558",
   "metadata": {},
   "outputs": [
    {
     "data": {
      "image/png": "[encoded data removed]",
      "text/plain": [
       "<IPython.core.display.Image object>"
      ]
     },
     "metadata": {},
     "output_type": "display_data"
    }
   ],
   "source": [
    "path = 'dot_atlas/linear-naive-bayes-3x.dot'\n",
    "graph = Graph(path)\n",
    "graph.draw(jupyter=True)"
   ]
  },
  {
   "cell_type": "code",
   "execution_count": 4,
   "id": "4c12a223-53ac-4d70-b124-e6f812dff43d",
   "metadata": {},
   "outputs": [
    {
     "data": {
      "text/latex": [
       "$\\displaystyle \\begin{array}{l}\n",
       "\\left\\langle\\underline{m}, \\underline{m}\\right\\rangle=\\sigma_{\\underline{\\epsilon}_{\\underline{m}}}^{2}\n",
       "\\\\\n",
       "\\left\\langle\\underline{m}, \\underline{x_1}\\right\\rangle=\\alpha_{\\underline{x_1}|\\underline{m}} \\sigma_{\\underline{\\epsilon}_{\\underline{m}}}^{2}\n",
       "\\\\\n",
       "\\left\\langle\\underline{m}, \\underline{x_2}\\right\\rangle=\\alpha_{\\underline{x_2}|\\underline{m}} \\sigma_{\\underline{\\epsilon}_{\\underline{m}}}^{2}\n",
       "\\\\\n",
       "\\left\\langle\\underline{m}, \\underline{x_3}\\right\\rangle=\\alpha_{\\underline{x_3}|\\underline{m}} \\sigma_{\\underline{\\epsilon}_{\\underline{m}}}^{2}\n",
       "\\\\\n",
       "\\left\\langle\\underline{x_1}, \\underline{m}\\right\\rangle=\\alpha_{\\underline{x_1}|\\underline{m}} \\sigma_{\\underline{\\epsilon}_{\\underline{m}}}^{2}\n",
       "\\\\\n",
       "\\left\\langle\\underline{x_1}, \\underline{x_1}\\right\\rangle=\\alpha_{\\underline{x_1}|\\underline{m}}^{2} \\sigma_{\\underline{\\epsilon}_{\\underline{m}}}^{2} + \\sigma_{\\underline{\\epsilon}_{\\underline{x_1}}}^{2}\n",
       "\\\\\n",
       "\\left\\langle\\underline{x_1}, \\underline{x_2}\\right\\rangle=\\alpha_{\\underline{x_1}|\\underline{m}} \\alpha_{\\underline{x_2}|\\underline{m}} \\sigma_{\\underline{\\epsilon}_{\\underline{m}}}^{2}\n",
       "\\\\\n",
       "\\left\\langle\\underline{x_1}, \\underline{x_3}\\right\\rangle=\\alpha_{\\underline{x_1}|\\underline{m}} \\alpha_{\\underline{x_3}|\\underline{m}} \\sigma_{\\underline{\\epsilon}_{\\underline{m}}}^{2}\n",
       "\\\\\n",
       "\\left\\langle\\underline{x_2}, \\underline{m}\\right\\rangle=\\alpha_{\\underline{x_2}|\\underline{m}} \\sigma_{\\underline{\\epsilon}_{\\underline{m}}}^{2}\n",
       "\\\\\n",
       "\\left\\langle\\underline{x_2}, \\underline{x_1}\\right\\rangle=\\alpha_{\\underline{x_1}|\\underline{m}} \\alpha_{\\underline{x_2}|\\underline{m}} \\sigma_{\\underline{\\epsilon}_{\\underline{m}}}^{2}\n",
       "\\\\\n",
       "\\left\\langle\\underline{x_2}, \\underline{x_2}\\right\\rangle=\\alpha_{\\underline{x_2}|\\underline{m}}^{2} \\sigma_{\\underline{\\epsilon}_{\\underline{m}}}^{2} + \\sigma_{\\underline{\\epsilon}_{\\underline{x_2}}}^{2}\n",
       "\\\\\n",
       "\\left\\langle\\underline{x_2}, \\underline{x_3}\\right\\rangle=\\alpha_{\\underline{x_2}|\\underline{m}} \\alpha_{\\underline{x_3}|\\underline{m}} \\sigma_{\\underline{\\epsilon}_{\\underline{m}}}^{2}\n",
       "\\\\\n",
       "\\left\\langle\\underline{x_3}, \\underline{m}\\right\\rangle=\\alpha_{\\underline{x_3}|\\underline{m}} \\sigma_{\\underline{\\epsilon}_{\\underline{m}}}^{2}\n",
       "\\\\\n",
       "\\left\\langle\\underline{x_3}, \\underline{x_1}\\right\\rangle=\\alpha_{\\underline{x_1}|\\underline{m}} \\alpha_{\\underline{x_3}|\\underline{m}} \\sigma_{\\underline{\\epsilon}_{\\underline{m}}}^{2}\n",
       "\\\\\n",
       "\\left\\langle\\underline{x_3}, \\underline{x_2}\\right\\rangle=\\alpha_{\\underline{x_2}|\\underline{m}} \\alpha_{\\underline{x_3}|\\underline{m}} \\sigma_{\\underline{\\epsilon}_{\\underline{m}}}^{2}\n",
       "\\\\\n",
       "\\left\\langle\\underline{x_3}, \\underline{x_3}\\right\\rangle=\\alpha_{\\underline{x_3}|\\underline{m}}^{2} \\sigma_{\\underline{\\epsilon}_{\\underline{m}}}^{2} + \\sigma_{\\underline{\\epsilon}_{\\underline{x_3}}}^{2}\n",
       "\\end{array}$"
      ],
      "text/plain": [
       "\\begin{array}{l}\n",
       "\\left\\langle\\underline{m}, \\underline{m}\\right\\rangle=\\sigma_{\\underline{\\epsilon}_{\\underline{m}}}^{2}\n",
       "\\\\\n",
       "\\left\\langle\\underline{m}, \\underline{x_1}\\right\\rangle=\\alpha_{\\underline{x_1}|\\underline{m}} \\sigma_{\\underline{\\epsilon}_{\\underline{m}}}^{2}\n",
       "\\\\\n",
       "\\left\\langle\\underline{m}, \\underline{x_2}\\right\\rangle=\\alpha_{\\underline{x_2}|\\underline{m}} \\sigma_{\\underline{\\epsilon}_{\\underline{m}}}^{2}\n",
       "\\\\\n",
       "\\left\\langle\\underline{m}, \\underline{x_3}\\right\\rangle=\\alpha_{\\underline{x_3}|\\underline{m}} \\sigma_{\\underline{\\epsilon}_{\\underline{m}}}^{2}\n",
       "\\\\\n",
       "\\left\\langle\\underline{x_1}, \\underline{m}\\right\\rangle=\\alpha_{\\underline{x_1}|\\underline{m}} \\sigma_{\\underline{\\epsilon}_{\\underline{m}}}^{2}\n",
       "\\\\\n",
       "\\left\\langle\\underline{x_1}, \\underline{x_1}\\right\\rangle=\\alpha_{\\underline{x_1}|\\underline{m}}^{2} \\sigma_{\\underline{\\epsilon}_{\\underline{m}}}^{2} + \\sigma_{\\underline{\\epsilon}_{\\underline{x_1}}}^{2}\n",
       "\\\\\n",
       "\\left\\langle\\underline{x_1}, \\underline{x_2}\\right\\rangle=\\alpha_{\\underline{x_1}|\\underline{m}} \\alpha_{\\underline{x_2}|\\underline{m}} \\sigma_{\\underline{\\epsilon}_{\\underline{m}}}^{2}\n",
       "\\\\\n",
       "\\left\\langle\\underline{x_1}, \\underline{x_3}\\right\\rangle=\\alpha_{\\underline{x_1}|\\underline{m}} \\alpha_{\\underline{x_3}|\\underline{m}} \\sigma_{\\underline{\\epsilon}_{\\underline{m}}}^{2}\n",
       "\\\\\n",
       "\\left\\langle\\underline{x_2}, \\underline{m}\\right\\rangle=\\alpha_{\\underline{x_2}|\\underline{m}} \\sigma_{\\underline{\\epsilon}_{\\underline{m}}}^{2}\n",
       "\\\\\n",
       "\\left\\langle\\underline{x_2}, \\underline{x_1}\\right\\rangle=\\alpha_{\\underline{x_1}|\\underline{m}} \\alpha_{\\underline{x_2}|\\underline{m}} \\sigma_{\\underline{\\epsilon}_{\\underline{m}}}^{2}\n",
       "\\\\\n",
       "\\left\\langle\\underline{x_2}, \\underline{x_2}\\right\\rangle=\\alpha_{\\underline{x_2}|\\underline{m}}^{2} \\sigma_{\\underline{\\epsilon}_{\\underline{m}}}^{2} + \\sigma_{\\underline{\\epsilon}_{\\underline{x_2}}}^{2}\n",
       "\\\\\n",
       "\\left\\langle\\underline{x_2}, \\underline{x_3}\\right\\rangle=\\alpha_{\\underline{x_2}|\\underline{m}} \\alpha_{\\underline{x_3}|\\underline{m}} \\sigma_{\\underline{\\epsilon}_{\\underline{m}}}^{2}\n",
       "\\\\\n",
       "\\left\\langle\\underline{x_3}, \\underline{m}\\right\\rangle=\\alpha_{\\underline{x_3}|\\underline{m}} \\sigma_{\\underline{\\epsilon}_{\\underline{m}}}^{2}\n",
       "\\\\\n",
       "\\left\\langle\\underline{x_3}, \\underline{x_1}\\right\\rangle=\\alpha_{\\underline{x_1}|\\underline{m}} \\alpha_{\\underline{x_3}|\\underline{m}} \\sigma_{\\underline{\\epsilon}_{\\underline{m}}}^{2}\n",
       "\\\\\n",
       "\\left\\langle\\underline{x_3}, \\underline{x_2}\\right\\rangle=\\alpha_{\\underline{x_2}|\\underline{m}} \\alpha_{\\underline{x_3}|\\underline{m}} \\sigma_{\\underline{\\epsilon}_{\\underline{m}}}^{2}\n",
       "\\\\\n",
       "\\left\\langle\\underline{x_3}, \\underline{x_3}\\right\\rangle=\\alpha_{\\underline{x_3}|\\underline{m}}^{2} \\sigma_{\\underline{\\epsilon}_{\\underline{m}}}^{2} + \\sigma_{\\underline{\\epsilon}_{\\underline{x_3}}}^{2}\n",
       "\\end{array}"
      ]
     },
     "execution_count": 4,
     "metadata": {},
     "output_type": "execute_result"
    }
   ],
   "source": [
    "cal = CovMatCalculator(graph)\n",
    "cal.calculate_cov_mat_sym()\n",
    "cal.print_cov_mat_entries()"
   ]
  },
  {
   "cell_type": "code",
   "execution_count": 5,
   "id": "ce95729c-58ec-4756-bd2d-e157014b69e0",
   "metadata": {},
   "outputs": [
    {
     "data": {
      "text/latex": [
       "$\\displaystyle \\begin{array}{l}\n",
       "\\frac{\\partial\\underline{m}}{\\partial\\underline{m}}=\\frac{\\sigma_{\\underline{\\epsilon}_{\\underline{m}}}^{2}}{\\sigma_{\\underline{m}}^{2}}\n",
       "\\\\\n",
       "\\frac{\\partial\\underline{m}}{\\partial\\underline{x_1}}=\\frac{\\alpha_{\\underline{x_1}|\\underline{m}} \\sigma_{\\underline{\\epsilon}_{\\underline{m}}}^{2}}{\\sigma_{\\underline{x_1}}^{2}}\n",
       "\\\\\n",
       "\\frac{\\partial\\underline{m}}{\\partial\\underline{x_2}}=\\frac{\\alpha_{\\underline{x_2}|\\underline{m}} \\sigma_{\\underline{\\epsilon}_{\\underline{m}}}^{2}}{\\sigma_{\\underline{x_2}}^{2}}\n",
       "\\\\\n",
       "\\frac{\\partial\\underline{m}}{\\partial\\underline{x_3}}=\\frac{\\alpha_{\\underline{x_3}|\\underline{m}} \\sigma_{\\underline{\\epsilon}_{\\underline{m}}}^{2}}{\\sigma_{\\underline{x_3}}^{2}}\n",
       "\\\\\n",
       "\\frac{\\partial\\underline{x_1}}{\\partial\\underline{m}}=\\frac{\\alpha_{\\underline{x_1}|\\underline{m}} \\sigma_{\\underline{\\epsilon}_{\\underline{m}}}^{2}}{\\sigma_{\\underline{m}}^{2}}\n",
       "\\\\\n",
       "\\frac{\\partial\\underline{x_1}}{\\partial\\underline{x_1}}=\\frac{\\alpha_{\\underline{x_1}|\\underline{m}}^{2} \\sigma_{\\underline{\\epsilon}_{\\underline{m}}}^{2} + \\sigma_{\\underline{\\epsilon}_{\\underline{x_1}}}^{2}}{\\sigma_{\\underline{x_1}}^{2}}\n",
       "\\\\\n",
       "\\frac{\\partial\\underline{x_1}}{\\partial\\underline{x_2}}=\\frac{\\alpha_{\\underline{x_1}|\\underline{m}} \\alpha_{\\underline{x_2}|\\underline{m}} \\sigma_{\\underline{\\epsilon}_{\\underline{m}}}^{2}}{\\sigma_{\\underline{x_2}}^{2}}\n",
       "\\\\\n",
       "\\frac{\\partial\\underline{x_1}}{\\partial\\underline{x_3}}=\\frac{\\alpha_{\\underline{x_1}|\\underline{m}} \\alpha_{\\underline{x_3}|\\underline{m}} \\sigma_{\\underline{\\epsilon}_{\\underline{m}}}^{2}}{\\sigma_{\\underline{x_3}}^{2}}\n",
       "\\\\\n",
       "\\frac{\\partial\\underline{x_2}}{\\partial\\underline{m}}=\\frac{\\alpha_{\\underline{x_2}|\\underline{m}} \\sigma_{\\underline{\\epsilon}_{\\underline{m}}}^{2}}{\\sigma_{\\underline{m}}^{2}}\n",
       "\\\\\n",
       "\\frac{\\partial\\underline{x_2}}{\\partial\\underline{x_1}}=\\frac{\\alpha_{\\underline{x_1}|\\underline{m}} \\alpha_{\\underline{x_2}|\\underline{m}} \\sigma_{\\underline{\\epsilon}_{\\underline{m}}}^{2}}{\\sigma_{\\underline{x_1}}^{2}}\n",
       "\\\\\n",
       "\\frac{\\partial\\underline{x_2}}{\\partial\\underline{x_2}}=\\frac{\\alpha_{\\underline{x_2}|\\underline{m}}^{2} \\sigma_{\\underline{\\epsilon}_{\\underline{m}}}^{2} + \\sigma_{\\underline{\\epsilon}_{\\underline{x_2}}}^{2}}{\\sigma_{\\underline{x_2}}^{2}}\n",
       "\\\\\n",
       "\\frac{\\partial\\underline{x_2}}{\\partial\\underline{x_3}}=\\frac{\\alpha_{\\underline{x_2}|\\underline{m}} \\alpha_{\\underline{x_3}|\\underline{m}} \\sigma_{\\underline{\\epsilon}_{\\underline{m}}}^{2}}{\\sigma_{\\underline{x_3}}^{2}}\n",
       "\\\\\n",
       "\\frac{\\partial\\underline{x_3}}{\\partial\\underline{m}}=\\frac{\\alpha_{\\underline{x_3}|\\underline{m}} \\sigma_{\\underline{\\epsilon}_{\\underline{m}}}^{2}}{\\sigma_{\\underline{m}}^{2}}\n",
       "\\\\\n",
       "\\frac{\\partial\\underline{x_3}}{\\partial\\underline{x_1}}=\\frac{\\alpha_{\\underline{x_1}|\\underline{m}} \\alpha_{\\underline{x_3}|\\underline{m}} \\sigma_{\\underline{\\epsilon}_{\\underline{m}}}^{2}}{\\sigma_{\\underline{x_1}}^{2}}\n",
       "\\\\\n",
       "\\frac{\\partial\\underline{x_3}}{\\partial\\underline{x_2}}=\\frac{\\alpha_{\\underline{x_2}|\\underline{m}} \\alpha_{\\underline{x_3}|\\underline{m}} \\sigma_{\\underline{\\epsilon}_{\\underline{m}}}^{2}}{\\sigma_{\\underline{x_2}}^{2}}\n",
       "\\\\\n",
       "\\frac{\\partial\\underline{x_3}}{\\partial\\underline{x_3}}=\\frac{\\alpha_{\\underline{x_3}|\\underline{m}}^{2} \\sigma_{\\underline{\\epsilon}_{\\underline{m}}}^{2} + \\sigma_{\\underline{\\epsilon}_{\\underline{x_3}}}^{2}}{\\sigma_{\\underline{x_3}}^{2}}\n",
       "\\end{array}$"
      ],
      "text/plain": [
       "\\begin{array}{l}\n",
       "\\frac{\\partial\\underline{m}}{\\partial\\underline{m}}=\\frac{\\sigma_{\\underline{\\epsilon}_{\\underline{m}}}^{2}}{\\sigma_{\\underline{m}}^{2}}\n",
       "\\\\\n",
       "\\frac{\\partial\\underline{m}}{\\partial\\underline{x_1}}=\\frac{\\alpha_{\\underline{x_1}|\\underline{m}} \\sigma_{\\underline{\\epsilon}_{\\underline{m}}}^{2}}{\\sigma_{\\underline{x_1}}^{2}}\n",
       "\\\\\n",
       "\\frac{\\partial\\underline{m}}{\\partial\\underline{x_2}}=\\frac{\\alpha_{\\underline{x_2}|\\underline{m}} \\sigma_{\\underline{\\epsilon}_{\\underline{m}}}^{2}}{\\sigma_{\\underline{x_2}}^{2}}\n",
       "\\\\\n",
       "\\frac{\\partial\\underline{m}}{\\partial\\underline{x_3}}=\\frac{\\alpha_{\\underline{x_3}|\\underline{m}} \\sigma_{\\underline{\\epsilon}_{\\underline{m}}}^{2}}{\\sigma_{\\underline{x_3}}^{2}}\n",
       "\\\\\n",
       "\\frac{\\partial\\underline{x_1}}{\\partial\\underline{m}}=\\frac{\\alpha_{\\underline{x_1}|\\underline{m}} \\sigma_{\\underline{\\epsilon}_{\\underline{m}}}^{2}}{\\sigma_{\\underline{m}}^{2}}\n",
       "\\\\\n",
       "\\frac{\\partial\\underline{x_1}}{\\partial\\underline{x_1}}=\\frac{\\alpha_{\\underline{x_1}|\\underline{m}}^{2} \\sigma_{\\underline{\\epsilon}_{\\underline{m}}}^{2} + \\sigma_{\\underline{\\epsilon}_{\\underline{x_1}}}^{2}}{\\sigma_{\\underline{x_1}}^{2}}\n",
       "\\\\\n",
       "\\frac{\\partial\\underline{x_1}}{\\partial\\underline{x_2}}=\\frac{\\alpha_{\\underline{x_1}|\\underline{m}} \\alpha_{\\underline{x_2}|\\underline{m}} \\sigma_{\\underline{\\epsilon}_{\\underline{m}}}^{2}}{\\sigma_{\\underline{x_2}}^{2}}\n",
       "\\\\\n",
       "\\frac{\\partial\\underline{x_1}}{\\partial\\underline{x_3}}=\\frac{\\alpha_{\\underline{x_1}|\\underline{m}} \\alpha_{\\underline{x_3}|\\underline{m}} \\sigma_{\\underline{\\epsilon}_{\\underline{m}}}^{2}}{\\sigma_{\\underline{x_3}}^{2}}\n",
       "\\\\\n",
       "\\frac{\\partial\\underline{x_2}}{\\partial\\underline{m}}=\\frac{\\alpha_{\\underline{x_2}|\\underline{m}} \\sigma_{\\underline{\\epsilon}_{\\underline{m}}}^{2}}{\\sigma_{\\underline{m}}^{2}}\n",
       "\\\\\n",
       "\\frac{\\partial\\underline{x_2}}{\\partial\\underline{x_1}}=\\frac{\\alpha_{\\underline{x_1}|\\underline{m}} \\alpha_{\\underline{x_2}|\\underline{m}} \\sigma_{\\underline{\\epsilon}_{\\underline{m}}}^{2}}{\\sigma_{\\underline{x_1}}^{2}}\n",
       "\\\\\n",
       "\\frac{\\partial\\underline{x_2}}{\\partial\\underline{x_2}}=\\frac{\\alpha_{\\underline{x_2}|\\underline{m}}^{2} \\sigma_{\\underline{\\epsilon}_{\\underline{m}}}^{2} + \\sigma_{\\underline{\\epsilon}_{\\underline{x_2}}}^{2}}{\\sigma_{\\underline{x_2}}^{2}}\n",
       "\\\\\n",
       "\\frac{\\partial\\underline{x_2}}{\\partial\\underline{x_3}}=\\frac{\\alpha_{\\underline{x_2}|\\underline{m}} \\alpha_{\\underline{x_3}|\\underline{m}} \\sigma_{\\underline{\\epsilon}_{\\underline{m}}}^{2}}{\\sigma_{\\underline{x_3}}^{2}}\n",
       "\\\\\n",
       "\\frac{\\partial\\underline{x_3}}{\\partial\\underline{m}}=\\frac{\\alpha_{\\underline{x_3}|\\underline{m}} \\sigma_{\\underline{\\epsilon}_{\\underline{m}}}^{2}}{\\sigma_{\\underline{m}}^{2}}\n",
       "\\\\\n",
       "\\frac{\\partial\\underline{x_3}}{\\partial\\underline{x_1}}=\\frac{\\alpha_{\\underline{x_1}|\\underline{m}} \\alpha_{\\underline{x_3}|\\underline{m}} \\sigma_{\\underline{\\epsilon}_{\\underline{m}}}^{2}}{\\sigma_{\\underline{x_1}}^{2}}\n",
       "\\\\\n",
       "\\frac{\\partial\\underline{x_3}}{\\partial\\underline{x_2}}=\\frac{\\alpha_{\\underline{x_2}|\\underline{m}} \\alpha_{\\underline{x_3}|\\underline{m}} \\sigma_{\\underline{\\epsilon}_{\\underline{m}}}^{2}}{\\sigma_{\\underline{x_2}}^{2}}\n",
       "\\\\\n",
       "\\frac{\\partial\\underline{x_3}}{\\partial\\underline{x_3}}=\\frac{\\alpha_{\\underline{x_3}|\\underline{m}}^{2} \\sigma_{\\underline{\\epsilon}_{\\underline{m}}}^{2} + \\sigma_{\\underline{\\epsilon}_{\\underline{x_3}}}^{2}}{\\sigma_{\\underline{x_3}}^{2}}\n",
       "\\end{array}"
      ]
     },
     "execution_count": 5,
     "metadata": {},
     "output_type": "execute_result"
    }
   ],
   "source": [
    "cal.print_jacobian_entries()"
   ]
  },
  {
   "cell_type": "code",
   "execution_count": 6,
   "id": "32f8f8fa-4427-4827-81d7-7806a5b58a96",
   "metadata": {},
   "outputs": [
    {
     "data": {
      "text/latex": [
       "$\\displaystyle \\begin{array}{l}\n",
       "\\alpha_{\\underline{x_1}|\\underline{m}} = \\frac{\\left\\langle\\underline{m},\\underline{x_1}\\right\\rangle}{\\left\\langle\\underline{m},\\underline{m}\\right\\rangle}\n",
       "\\\\\n",
       "\\alpha_{\\underline{x_2}|\\underline{m}} = \\frac{\\left\\langle\\underline{m},\\underline{x_2}\\right\\rangle}{\\left\\langle\\underline{m},\\underline{m}\\right\\rangle}\n",
       "\\\\\n",
       "\\left\\langle\\underline{x_1},\\underline{x_2}\\right\\rangle = \\frac{\\left\\langle\\underline{m},\\underline{x_1}\\right\\rangle \\left\\langle\\underline{m},\\underline{x_2}\\right\\rangle}{\\left\\langle\\underline{m},\\underline{m}\\right\\rangle}\n",
       "\\\\\n",
       "\\alpha_{\\underline{x_3}|\\underline{m}} = \\frac{\\left\\langle\\underline{m},\\underline{x_3}\\right\\rangle}{\\left\\langle\\underline{m},\\underline{m}\\right\\rangle}\n",
       "\\\\\n",
       "\\left\\langle\\underline{x_1},\\underline{x_3}\\right\\rangle = \\frac{\\left\\langle\\underline{m},\\underline{x_1}\\right\\rangle \\left\\langle\\underline{m},\\underline{x_3}\\right\\rangle}{\\left\\langle\\underline{m},\\underline{m}\\right\\rangle}\n",
       "\\\\\n",
       "\\left\\langle\\underline{x_2},\\underline{x_3}\\right\\rangle = \\frac{\\left\\langle\\underline{m},\\underline{x_2}\\right\\rangle \\left\\langle\\underline{m},\\underline{x_3}\\right\\rangle}{\\left\\langle\\underline{m},\\underline{m}\\right\\rangle}\n",
       "\\end{array}$"
      ],
      "text/plain": [
       "\\begin{array}{l}\n",
       "\\alpha_{\\underline{x_1}|\\underline{m}} = \\frac{\\left\\langle\\underline{m},\\underline{x_1}\\right\\rangle}{\\left\\langle\\underline{m},\\underline{m}\\right\\rangle}\n",
       "\\\\\n",
       "\\alpha_{\\underline{x_2}|\\underline{m}} = \\frac{\\left\\langle\\underline{m},\\underline{x_2}\\right\\rangle}{\\left\\langle\\underline{m},\\underline{m}\\right\\rangle}\n",
       "\\\\\n",
       "\\left\\langle\\underline{x_1},\\underline{x_2}\\right\\rangle = \\frac{\\left\\langle\\underline{m},\\underline{x_1}\\right\\rangle \\left\\langle\\underline{m},\\underline{x_2}\\right\\rangle}{\\left\\langle\\underline{m},\\underline{m}\\right\\rangle}\n",
       "\\\\\n",
       "\\alpha_{\\underline{x_3}|\\underline{m}} = \\frac{\\left\\langle\\underline{m},\\underline{x_3}\\right\\rangle}{\\left\\langle\\underline{m},\\underline{m}\\right\\rangle}\n",
       "\\\\\n",
       "\\left\\langle\\underline{x_1},\\underline{x_3}\\right\\rangle = \\frac{\\left\\langle\\underline{m},\\underline{x_1}\\right\\rangle \\left\\langle\\underline{m},\\underline{x_3}\\right\\rangle}{\\left\\langle\\underline{m},\\underline{m}\\right\\rangle}\n",
       "\\\\\n",
       "\\left\\langle\\underline{x_2},\\underline{x_3}\\right\\rangle = \\frac{\\left\\langle\\underline{m},\\underline{x_2}\\right\\rangle \\left\\langle\\underline{m},\\underline{x_3}\\right\\rangle}{\\left\\langle\\underline{m},\\underline{m}\\right\\rangle}\n",
       "\\end{array}"
      ]
     },
     "execution_count": 6,
     "metadata": {},
     "output_type": "execute_result"
    }
   ],
   "source": [
    "from GainsCalculator import *\n",
    "cal = GainsCalculator(graph)\n",
    "cal.calculate_gains_sym()\n",
    "cal.print_gains()"
   ]
  },
  {
   "cell_type": "code",
   "execution_count": null,
   "id": "c1ad0807-18c3-4a07-898d-3b8b4ca5b93b",
   "metadata": {},
   "outputs": [],
   "source": []
  }
 ],
 "metadata": {
  "kernelspec": {
   "display_name": "Python 3 (ipykernel)",
   "language": "python",
   "name": "python3"
  },
  "language_info": {
   "codemirror_mode": {
    "name": "ipython",
    "version": 3
   },
   "file_extension": ".py",
   "mimetype": "text/x-python",
   "name": "python",
   "nbconvert_exporter": "python",
   "pygments_lexer": "ipython3",
   "version": "3.10.9"
  }
 },
 "nbformat": 4,
 "nbformat_minor": 5
}
