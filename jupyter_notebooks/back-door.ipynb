{
 "cells": [
  {
   "cell_type": "markdown",
   "id": "47e78f94-1b39-4a1d-b43a-72ba3cf35d37",
   "metadata": {},
   "source": [
    "# Back Door Example\n",
    "This notebook is devoted to the Back Door Example in Pearl's\n",
    "\"Do Why\" book.\n",
    "\n",
    "Note that after we amputate the arrows entering \n",
    "node $\\underline{x}$, \n",
    "the covariance $\\langle \\underline{x}, \\underline{y} \\rangle$\n",
    "simplifies considerably."
   ]
  },
  {
   "cell_type": "code",
   "execution_count": 1,
   "id": "0a7219ac-d8ab-442c-90bf-eccd75f07353",
   "metadata": {},
   "outputs": [
    {
     "name": "stdout",
     "output_type": "stream",
     "text": [
      "C:\\Users\\rrtuc\\Desktop\\backed-up\\python-projects\\scumpy\n"
     ]
    }
   ],
   "source": [
    "# this makes sure it starts looking for things from the scumpy folder down.\n",
    "import os\n",
    "import sys\n",
    "os.chdir('../')\n",
    "sys.path.insert(0,os.getcwd())\n",
    "print(os.getcwd())"
   ]
  },
  {
   "cell_type": "code",
   "execution_count": 2,
   "id": "895f128b-3d28-4824-b4b3-512ab5c6b94c",
   "metadata": {},
   "outputs": [
    {
     "data": {
      "image/png": "[encoded data removed]",
      "text/plain": [
       "<IPython.core.display.Image object>"
      ]
     },
     "metadata": {},
     "output_type": "display_data"
    }
   ],
   "source": [
    "from Graph import *\n",
    "path = 'dot_atlas/back-door.dot'\n",
    "graph = Graph(path)\n",
    "graph.draw(jupyter=True)"
   ]
  },
  {
   "cell_type": "code",
   "execution_count": 3,
   "id": "a65af5de-cea5-42df-ac6c-e6a9a9f96e6a",
   "metadata": {},
   "outputs": [
    {
     "data": {
      "text/latex": [
       "$\\displaystyle \\begin{array}{l}\n",
       "\\left\\langle\\underline{z}, \\underline{z}\\right\\rangle=\\sigma^2_{\\underline{\\epsilon}_{\\underline{z}}}\n",
       "\\\\\n",
       "\\left\\langle\\underline{z}, \\underline{x}\\right\\rangle=\\alpha_{\\underline{x}|\\underline{z}} \\sigma^2_{\\underline{\\epsilon}_{\\underline{z}}}\n",
       "\\\\\n",
       "\\left\\langle\\underline{z}, \\underline{y}\\right\\rangle=\\sigma^2_{\\underline{\\epsilon}_{\\underline{z}}} \\left(\\alpha_{\\underline{x}|\\underline{z}} \\alpha_{\\underline{y}|\\underline{x}} + \\alpha_{\\underline{y}|\\underline{z}}\\right)\n",
       "\\\\\n",
       "\\left\\langle\\underline{x}, \\underline{z}\\right\\rangle=\\alpha_{\\underline{x}|\\underline{z}} \\sigma^2_{\\underline{\\epsilon}_{\\underline{z}}}\n",
       "\\\\\n",
       "\\left\\langle\\underline{x}, \\underline{x}\\right\\rangle=\\alpha_{\\underline{x}|\\underline{z}}^{2} \\sigma^2_{\\underline{\\epsilon}_{\\underline{z}}} + \\sigma^2_{\\underline{\\epsilon}_{\\underline{x}}}\n",
       "\\\\\n",
       "\\left\\langle\\underline{x}, \\underline{y}\\right\\rangle=\\alpha_{\\underline{x}|\\underline{z}} \\sigma^2_{\\underline{\\epsilon}_{\\underline{z}}} \\left(\\alpha_{\\underline{x}|\\underline{z}} \\alpha_{\\underline{y}|\\underline{x}} + \\alpha_{\\underline{y}|\\underline{z}}\\right) + \\alpha_{\\underline{y}|\\underline{x}} \\sigma^2_{\\underline{\\epsilon}_{\\underline{x}}}\n",
       "\\\\\n",
       "\\left\\langle\\underline{y}, \\underline{z}\\right\\rangle=\\sigma^2_{\\underline{\\epsilon}_{\\underline{z}}} \\left(\\alpha_{\\underline{x}|\\underline{z}} \\alpha_{\\underline{y}|\\underline{x}} + \\alpha_{\\underline{y}|\\underline{z}}\\right)\n",
       "\\\\\n",
       "\\left\\langle\\underline{y}, \\underline{x}\\right\\rangle=\\alpha_{\\underline{x}|\\underline{z}} \\sigma^2_{\\underline{\\epsilon}_{\\underline{z}}} \\left(\\alpha_{\\underline{x}|\\underline{z}} \\alpha_{\\underline{y}|\\underline{x}} + \\alpha_{\\underline{y}|\\underline{z}}\\right) + \\alpha_{\\underline{y}|\\underline{x}} \\sigma^2_{\\underline{\\epsilon}_{\\underline{x}}}\n",
       "\\\\\n",
       "\\left\\langle\\underline{y}, \\underline{y}\\right\\rangle=\\alpha_{\\underline{y}|\\underline{x}}^{2} \\sigma^2_{\\underline{\\epsilon}_{\\underline{x}}} + \\sigma^2_{\\underline{\\epsilon}_{\\underline{y}}} + \\sigma^2_{\\underline{\\epsilon}_{\\underline{z}}} \\left(\\alpha_{\\underline{x}|\\underline{z}} \\alpha_{\\underline{y}|\\underline{x}} + \\alpha_{\\underline{y}|\\underline{z}}\\right)^{2}\n",
       "\\end{array}$"
      ],
      "text/plain": [
       "\\begin{array}{l}\n",
       "\\left\\langle\\underline{z}, \\underline{z}\\right\\rangle=\\sigma^2_{\\underline{\\epsilon}_{\\underline{z}}}\n",
       "\\\\\n",
       "\\left\\langle\\underline{z}, \\underline{x}\\right\\rangle=\\alpha_{\\underline{x}|\\underline{z}} \\sigma^2_{\\underline{\\epsilon}_{\\underline{z}}}\n",
       "\\\\\n",
       "\\left\\langle\\underline{z}, \\underline{y}\\right\\rangle=\\sigma^2_{\\underline{\\epsilon}_{\\underline{z}}} \\left(\\alpha_{\\underline{x}|\\underline{z}} \\alpha_{\\underline{y}|\\underline{x}} + \\alpha_{\\underline{y}|\\underline{z}}\\right)\n",
       "\\\\\n",
       "\\left\\langle\\underline{x}, \\underline{z}\\right\\rangle=\\alpha_{\\underline{x}|\\underline{z}} \\sigma^2_{\\underline{\\epsilon}_{\\underline{z}}}\n",
       "\\\\\n",
       "\\left\\langle\\underline{x}, \\underline{x}\\right\\rangle=\\alpha_{\\underline{x}|\\underline{z}}^{2} \\sigma^2_{\\underline{\\epsilon}_{\\underline{z}}} + \\sigma^2_{\\underline{\\epsilon}_{\\underline{x}}}\n",
       "\\\\\n",
       "\\left\\langle\\underline{x}, \\underline{y}\\right\\rangle=\\alpha_{\\underline{x}|\\underline{z}} \\sigma^2_{\\underline{\\epsilon}_{\\underline{z}}} \\left(\\alpha_{\\underline{x}|\\underline{z}} \\alpha_{\\underline{y}|\\underline{x}} + \\alpha_{\\underline{y}|\\underline{z}}\\right) + \\alpha_{\\underline{y}|\\underline{x}} \\sigma^2_{\\underline{\\epsilon}_{\\underline{x}}}\n",
       "\\\\\n",
       "\\left\\langle\\underline{y}, \\underline{z}\\right\\rangle=\\sigma^2_{\\underline{\\epsilon}_{\\underline{z}}} \\left(\\alpha_{\\underline{x}|\\underline{z}} \\alpha_{\\underline{y}|\\underline{x}} + \\alpha_{\\underline{y}|\\underline{z}}\\right)\n",
       "\\\\\n",
       "\\left\\langle\\underline{y}, \\underline{x}\\right\\rangle=\\alpha_{\\underline{x}|\\underline{z}} \\sigma^2_{\\underline{\\epsilon}_{\\underline{z}}} \\left(\\alpha_{\\underline{x}|\\underline{z}} \\alpha_{\\underline{y}|\\underline{x}} + \\alpha_{\\underline{y}|\\underline{z}}\\right) + \\alpha_{\\underline{y}|\\underline{x}} \\sigma^2_{\\underline{\\epsilon}_{\\underline{x}}}\n",
       "\\\\\n",
       "\\left\\langle\\underline{y}, \\underline{y}\\right\\rangle=\\alpha_{\\underline{y}|\\underline{x}}^{2} \\sigma^2_{\\underline{\\epsilon}_{\\underline{x}}} + \\sigma^2_{\\underline{\\epsilon}_{\\underline{y}}} + \\sigma^2_{\\underline{\\epsilon}_{\\underline{z}}} \\left(\\alpha_{\\underline{x}|\\underline{z}} \\alpha_{\\underline{y}|\\underline{x}} + \\alpha_{\\underline{y}|\\underline{z}}\\right)^{2}\n",
       "\\end{array}"
      ]
     },
     "execution_count": 3,
     "metadata": {},
     "output_type": "execute_result"
    }
   ],
   "source": [
    "from CovMatCalculator import *\n",
    "cal = CovMatCalculator(graph)\n",
    "cal.calculate_cov_mat_sb()\n",
    "cal.print_cov_mat_entries()"
   ]
  },
  {
   "cell_type": "code",
   "execution_count": 4,
   "id": "46be18f5-a9e0-449f-8152-b85298f8b727",
   "metadata": {},
   "outputs": [
    {
     "data": {
      "text/latex": [
       "$\\displaystyle \\begin{array}{l}\n",
       "\\frac{\\partial\\underline{z}}{\\partial\\underline{z}}=1\n",
       "\\\\\n",
       "\\frac{\\partial\\underline{z}}{\\partial\\underline{x}}=\\frac{\\alpha_{\\underline{x}|\\underline{z}} \\sigma^2_{\\underline{\\epsilon}_{\\underline{z}}}}{\\alpha_{\\underline{x}|\\underline{z}}^{2} \\sigma^2_{\\underline{\\epsilon}_{\\underline{z}}} + \\sigma^2_{\\underline{\\epsilon}_{\\underline{x}}}}\n",
       "\\\\\n",
       "\\frac{\\partial\\underline{z}}{\\partial\\underline{y}}=\\frac{\\sigma^2_{\\underline{\\epsilon}_{\\underline{z}}} \\left(\\alpha_{\\underline{x}|\\underline{z}} \\alpha_{\\underline{y}|\\underline{x}} + \\alpha_{\\underline{y}|\\underline{z}}\\right)}{\\alpha_{\\underline{y}|\\underline{x}}^{2} \\sigma^2_{\\underline{\\epsilon}_{\\underline{x}}} + \\sigma^2_{\\underline{\\epsilon}_{\\underline{y}}} + \\sigma^2_{\\underline{\\epsilon}_{\\underline{z}}} \\left(\\alpha_{\\underline{x}|\\underline{z}} \\alpha_{\\underline{y}|\\underline{x}} + \\alpha_{\\underline{y}|\\underline{z}}\\right)^{2}}\n",
       "\\\\\n",
       "\\frac{\\partial\\underline{x}}{\\partial\\underline{z}}=\\alpha_{\\underline{x}|\\underline{z}}\n",
       "\\\\\n",
       "\\frac{\\partial\\underline{x}}{\\partial\\underline{x}}=1\n",
       "\\\\\n",
       "\\frac{\\partial\\underline{x}}{\\partial\\underline{y}}=\\frac{\\alpha_{\\underline{x}|\\underline{z}} \\sigma^2_{\\underline{\\epsilon}_{\\underline{z}}} \\left(\\alpha_{\\underline{x}|\\underline{z}} \\alpha_{\\underline{y}|\\underline{x}} + \\alpha_{\\underline{y}|\\underline{z}}\\right) + \\alpha_{\\underline{y}|\\underline{x}} \\sigma^2_{\\underline{\\epsilon}_{\\underline{x}}}}{\\alpha_{\\underline{y}|\\underline{x}}^{2} \\sigma^2_{\\underline{\\epsilon}_{\\underline{x}}} + \\sigma^2_{\\underline{\\epsilon}_{\\underline{y}}} + \\sigma^2_{\\underline{\\epsilon}_{\\underline{z}}} \\left(\\alpha_{\\underline{x}|\\underline{z}} \\alpha_{\\underline{y}|\\underline{x}} + \\alpha_{\\underline{y}|\\underline{z}}\\right)^{2}}\n",
       "\\\\\n",
       "\\frac{\\partial\\underline{y}}{\\partial\\underline{z}}=\\alpha_{\\underline{x}|\\underline{z}} \\alpha_{\\underline{y}|\\underline{x}} + \\alpha_{\\underline{y}|\\underline{z}}\n",
       "\\\\\n",
       "\\frac{\\partial\\underline{y}}{\\partial\\underline{x}}=\\frac{\\alpha_{\\underline{x}|\\underline{z}} \\sigma^2_{\\underline{\\epsilon}_{\\underline{z}}} \\left(\\alpha_{\\underline{x}|\\underline{z}} \\alpha_{\\underline{y}|\\underline{x}} + \\alpha_{\\underline{y}|\\underline{z}}\\right) + \\alpha_{\\underline{y}|\\underline{x}} \\sigma^2_{\\underline{\\epsilon}_{\\underline{x}}}}{\\alpha_{\\underline{x}|\\underline{z}}^{2} \\sigma^2_{\\underline{\\epsilon}_{\\underline{z}}} + \\sigma^2_{\\underline{\\epsilon}_{\\underline{x}}}}\n",
       "\\\\\n",
       "\\frac{\\partial\\underline{y}}{\\partial\\underline{y}}=1\n",
       "\\end{array}$"
      ],
      "text/plain": [
       "\\begin{array}{l}\n",
       "\\frac{\\partial\\underline{z}}{\\partial\\underline{z}}=1\n",
       "\\\\\n",
       "\\frac{\\partial\\underline{z}}{\\partial\\underline{x}}=\\frac{\\alpha_{\\underline{x}|\\underline{z}} \\sigma^2_{\\underline{\\epsilon}_{\\underline{z}}}}{\\alpha_{\\underline{x}|\\underline{z}}^{2} \\sigma^2_{\\underline{\\epsilon}_{\\underline{z}}} + \\sigma^2_{\\underline{\\epsilon}_{\\underline{x}}}}\n",
       "\\\\\n",
       "\\frac{\\partial\\underline{z}}{\\partial\\underline{y}}=\\frac{\\sigma^2_{\\underline{\\epsilon}_{\\underline{z}}} \\left(\\alpha_{\\underline{x}|\\underline{z}} \\alpha_{\\underline{y}|\\underline{x}} + \\alpha_{\\underline{y}|\\underline{z}}\\right)}{\\alpha_{\\underline{y}|\\underline{x}}^{2} \\sigma^2_{\\underline{\\epsilon}_{\\underline{x}}} + \\sigma^2_{\\underline{\\epsilon}_{\\underline{y}}} + \\sigma^2_{\\underline{\\epsilon}_{\\underline{z}}} \\left(\\alpha_{\\underline{x}|\\underline{z}} \\alpha_{\\underline{y}|\\underline{x}} + \\alpha_{\\underline{y}|\\underline{z}}\\right)^{2}}\n",
       "\\\\\n",
       "\\frac{\\partial\\underline{x}}{\\partial\\underline{z}}=\\alpha_{\\underline{x}|\\underline{z}}\n",
       "\\\\\n",
       "\\frac{\\partial\\underline{x}}{\\partial\\underline{x}}=1\n",
       "\\\\\n",
       "\\frac{\\partial\\underline{x}}{\\partial\\underline{y}}=\\frac{\\alpha_{\\underline{x}|\\underline{z}} \\sigma^2_{\\underline{\\epsilon}_{\\underline{z}}} \\left(\\alpha_{\\underline{x}|\\underline{z}} \\alpha_{\\underline{y}|\\underline{x}} + \\alpha_{\\underline{y}|\\underline{z}}\\right) + \\alpha_{\\underline{y}|\\underline{x}} \\sigma^2_{\\underline{\\epsilon}_{\\underline{x}}}}{\\alpha_{\\underline{y}|\\underline{x}}^{2} \\sigma^2_{\\underline{\\epsilon}_{\\underline{x}}} + \\sigma^2_{\\underline{\\epsilon}_{\\underline{y}}} + \\sigma^2_{\\underline{\\epsilon}_{\\underline{z}}} \\left(\\alpha_{\\underline{x}|\\underline{z}} \\alpha_{\\underline{y}|\\underline{x}} + \\alpha_{\\underline{y}|\\underline{z}}\\right)^{2}}\n",
       "\\\\\n",
       "\\frac{\\partial\\underline{y}}{\\partial\\underline{z}}=\\alpha_{\\underline{x}|\\underline{z}} \\alpha_{\\underline{y}|\\underline{x}} + \\alpha_{\\underline{y}|\\underline{z}}\n",
       "\\\\\n",
       "\\frac{\\partial\\underline{y}}{\\partial\\underline{x}}=\\frac{\\alpha_{\\underline{x}|\\underline{z}} \\sigma^2_{\\underline{\\epsilon}_{\\underline{z}}} \\left(\\alpha_{\\underline{x}|\\underline{z}} \\alpha_{\\underline{y}|\\underline{x}} + \\alpha_{\\underline{y}|\\underline{z}}\\right) + \\alpha_{\\underline{y}|\\underline{x}} \\sigma^2_{\\underline{\\epsilon}_{\\underline{x}}}}{\\alpha_{\\underline{x}|\\underline{z}}^{2} \\sigma^2_{\\underline{\\epsilon}_{\\underline{z}}} + \\sigma^2_{\\underline{\\epsilon}_{\\underline{x}}}}\n",
       "\\\\\n",
       "\\frac{\\partial\\underline{y}}{\\partial\\underline{y}}=1\n",
       "\\end{array}"
      ]
     },
     "execution_count": 4,
     "metadata": {},
     "output_type": "execute_result"
    }
   ],
   "source": [
    "cal.print_jacobian_entries()"
   ]
  },
  {
   "cell_type": "code",
   "execution_count": 5,
   "id": "f6443f23-1f7a-4e03-a73b-f4e099ff9803",
   "metadata": {},
   "outputs": [
    {
     "data": {
      "image/png": "[encoded data removed]",
      "text/plain": [
       "<IPython.core.display.Image object>"
      ]
     },
     "metadata": {},
     "output_type": "display_data"
    }
   ],
   "source": [
    "path = 'dot_atlas/back-door.dot'\n",
    "graph = Graph(path, amputated_arrows=[(\"z\",\"x\")])\n",
    "graph.draw(jupyter=True)"
   ]
  },
  {
   "cell_type": "code",
   "execution_count": 6,
   "id": "944db17a-a2fd-4a56-aa45-e5e81798bd58",
   "metadata": {},
   "outputs": [
    {
     "data": {
      "text/latex": [
       "$\\displaystyle \\begin{array}{l}\n",
       "\\left\\langle\\underline{x}, \\underline{x}\\right\\rangle=\\sigma^2_{\\underline{\\epsilon}_{\\underline{x}}}\n",
       "\\\\\n",
       "\\left\\langle\\underline{x}, \\underline{z}\\right\\rangle=0\n",
       "\\\\\n",
       "\\left\\langle\\underline{x}, \\underline{y}\\right\\rangle=\\alpha_{\\underline{y}|\\underline{x}} \\sigma^2_{\\underline{\\epsilon}_{\\underline{x}}}\n",
       "\\\\\n",
       "\\left\\langle\\underline{z}, \\underline{x}\\right\\rangle=0\n",
       "\\\\\n",
       "\\left\\langle\\underline{z}, \\underline{z}\\right\\rangle=\\sigma^2_{\\underline{\\epsilon}_{\\underline{z}}}\n",
       "\\\\\n",
       "\\left\\langle\\underline{z}, \\underline{y}\\right\\rangle=\\alpha_{\\underline{y}|\\underline{z}} \\sigma^2_{\\underline{\\epsilon}_{\\underline{z}}}\n",
       "\\\\\n",
       "\\left\\langle\\underline{y}, \\underline{x}\\right\\rangle=\\alpha_{\\underline{y}|\\underline{x}} \\sigma^2_{\\underline{\\epsilon}_{\\underline{x}}}\n",
       "\\\\\n",
       "\\left\\langle\\underline{y}, \\underline{z}\\right\\rangle=\\alpha_{\\underline{y}|\\underline{z}} \\sigma^2_{\\underline{\\epsilon}_{\\underline{z}}}\n",
       "\\\\\n",
       "\\left\\langle\\underline{y}, \\underline{y}\\right\\rangle=\\alpha_{\\underline{y}|\\underline{x}}^{2} \\sigma^2_{\\underline{\\epsilon}_{\\underline{x}}} + \\alpha_{\\underline{y}|\\underline{z}}^{2} \\sigma^2_{\\underline{\\epsilon}_{\\underline{z}}} + \\sigma^2_{\\underline{\\epsilon}_{\\underline{y}}}\n",
       "\\end{array}$"
      ],
      "text/plain": [
       "\\begin{array}{l}\n",
       "\\left\\langle\\underline{x}, \\underline{x}\\right\\rangle=\\sigma^2_{\\underline{\\epsilon}_{\\underline{x}}}\n",
       "\\\\\n",
       "\\left\\langle\\underline{x}, \\underline{z}\\right\\rangle=0\n",
       "\\\\\n",
       "\\left\\langle\\underline{x}, \\underline{y}\\right\\rangle=\\alpha_{\\underline{y}|\\underline{x}} \\sigma^2_{\\underline{\\epsilon}_{\\underline{x}}}\n",
       "\\\\\n",
       "\\left\\langle\\underline{z}, \\underline{x}\\right\\rangle=0\n",
       "\\\\\n",
       "\\left\\langle\\underline{z}, \\underline{z}\\right\\rangle=\\sigma^2_{\\underline{\\epsilon}_{\\underline{z}}}\n",
       "\\\\\n",
       "\\left\\langle\\underline{z}, \\underline{y}\\right\\rangle=\\alpha_{\\underline{y}|\\underline{z}} \\sigma^2_{\\underline{\\epsilon}_{\\underline{z}}}\n",
       "\\\\\n",
       "\\left\\langle\\underline{y}, \\underline{x}\\right\\rangle=\\alpha_{\\underline{y}|\\underline{x}} \\sigma^2_{\\underline{\\epsilon}_{\\underline{x}}}\n",
       "\\\\\n",
       "\\left\\langle\\underline{y}, \\underline{z}\\right\\rangle=\\alpha_{\\underline{y}|\\underline{z}} \\sigma^2_{\\underline{\\epsilon}_{\\underline{z}}}\n",
       "\\\\\n",
       "\\left\\langle\\underline{y}, \\underline{y}\\right\\rangle=\\alpha_{\\underline{y}|\\underline{x}}^{2} \\sigma^2_{\\underline{\\epsilon}_{\\underline{x}}} + \\alpha_{\\underline{y}|\\underline{z}}^{2} \\sigma^2_{\\underline{\\epsilon}_{\\underline{z}}} + \\sigma^2_{\\underline{\\epsilon}_{\\underline{y}}}\n",
       "\\end{array}"
      ]
     },
     "execution_count": 6,
     "metadata": {},
     "output_type": "execute_result"
    }
   ],
   "source": [
    "cal = CovMatCalculator(graph)\n",
    "cal.calculate_cov_mat_sb()\n",
    "cal.print_cov_mat_entries()"
   ]
  },
  {
   "cell_type": "code",
   "execution_count": 7,
   "id": "3cedebae-0dcf-4a3d-b5bc-f6b21d621120",
   "metadata": {},
   "outputs": [
    {
     "data": {
      "text/latex": [
       "$\\displaystyle \\begin{array}{l}\n",
       "\\frac{\\partial\\underline{x}}{\\partial\\underline{x}}=1\n",
       "\\\\\n",
       "\\frac{\\partial\\underline{x}}{\\partial\\underline{z}}=0\n",
       "\\\\\n",
       "\\frac{\\partial\\underline{x}}{\\partial\\underline{y}}=\\frac{\\alpha_{\\underline{y}|\\underline{x}} \\sigma^2_{\\underline{\\epsilon}_{\\underline{x}}}}{\\alpha_{\\underline{y}|\\underline{x}}^{2} \\sigma^2_{\\underline{\\epsilon}_{\\underline{x}}} + \\alpha_{\\underline{y}|\\underline{z}}^{2} \\sigma^2_{\\underline{\\epsilon}_{\\underline{z}}} + \\sigma^2_{\\underline{\\epsilon}_{\\underline{y}}}}\n",
       "\\\\\n",
       "\\frac{\\partial\\underline{z}}{\\partial\\underline{x}}=0\n",
       "\\\\\n",
       "\\frac{\\partial\\underline{z}}{\\partial\\underline{z}}=1\n",
       "\\\\\n",
       "\\frac{\\partial\\underline{z}}{\\partial\\underline{y}}=\\frac{\\alpha_{\\underline{y}|\\underline{z}} \\sigma^2_{\\underline{\\epsilon}_{\\underline{z}}}}{\\alpha_{\\underline{y}|\\underline{x}}^{2} \\sigma^2_{\\underline{\\epsilon}_{\\underline{x}}} + \\alpha_{\\underline{y}|\\underline{z}}^{2} \\sigma^2_{\\underline{\\epsilon}_{\\underline{z}}} + \\sigma^2_{\\underline{\\epsilon}_{\\underline{y}}}}\n",
       "\\\\\n",
       "\\frac{\\partial\\underline{y}}{\\partial\\underline{x}}=\\alpha_{\\underline{y}|\\underline{x}}\n",
       "\\\\\n",
       "\\frac{\\partial\\underline{y}}{\\partial\\underline{z}}=\\alpha_{\\underline{y}|\\underline{z}}\n",
       "\\\\\n",
       "\\frac{\\partial\\underline{y}}{\\partial\\underline{y}}=1\n",
       "\\end{array}$"
      ],
      "text/plain": [
       "\\begin{array}{l}\n",
       "\\frac{\\partial\\underline{x}}{\\partial\\underline{x}}=1\n",
       "\\\\\n",
       "\\frac{\\partial\\underline{x}}{\\partial\\underline{z}}=0\n",
       "\\\\\n",
       "\\frac{\\partial\\underline{x}}{\\partial\\underline{y}}=\\frac{\\alpha_{\\underline{y}|\\underline{x}} \\sigma^2_{\\underline{\\epsilon}_{\\underline{x}}}}{\\alpha_{\\underline{y}|\\underline{x}}^{2} \\sigma^2_{\\underline{\\epsilon}_{\\underline{x}}} + \\alpha_{\\underline{y}|\\underline{z}}^{2} \\sigma^2_{\\underline{\\epsilon}_{\\underline{z}}} + \\sigma^2_{\\underline{\\epsilon}_{\\underline{y}}}}\n",
       "\\\\\n",
       "\\frac{\\partial\\underline{z}}{\\partial\\underline{x}}=0\n",
       "\\\\\n",
       "\\frac{\\partial\\underline{z}}{\\partial\\underline{z}}=1\n",
       "\\\\\n",
       "\\frac{\\partial\\underline{z}}{\\partial\\underline{y}}=\\frac{\\alpha_{\\underline{y}|\\underline{z}} \\sigma^2_{\\underline{\\epsilon}_{\\underline{z}}}}{\\alpha_{\\underline{y}|\\underline{x}}^{2} \\sigma^2_{\\underline{\\epsilon}_{\\underline{x}}} + \\alpha_{\\underline{y}|\\underline{z}}^{2} \\sigma^2_{\\underline{\\epsilon}_{\\underline{z}}} + \\sigma^2_{\\underline{\\epsilon}_{\\underline{y}}}}\n",
       "\\\\\n",
       "\\frac{\\partial\\underline{y}}{\\partial\\underline{x}}=\\alpha_{\\underline{y}|\\underline{x}}\n",
       "\\\\\n",
       "\\frac{\\partial\\underline{y}}{\\partial\\underline{z}}=\\alpha_{\\underline{y}|\\underline{z}}\n",
       "\\\\\n",
       "\\frac{\\partial\\underline{y}}{\\partial\\underline{y}}=1\n",
       "\\end{array}"
      ]
     },
     "execution_count": 7,
     "metadata": {},
     "output_type": "execute_result"
    }
   ],
   "source": [
    "cal.print_jacobian_entries()"
   ]
  },
  {
   "cell_type": "code",
   "execution_count": null,
   "id": "aceb64b1-eb6c-4aea-ada9-378d97c1fbbe",
   "metadata": {},
   "outputs": [],
   "source": []
  }
 ],
 "metadata": {
  "kernelspec": {
   "display_name": "Python 3 (ipykernel)",
   "language": "python",
   "name": "python3"
  },
  "language_info": {
   "codemirror_mode": {
    "name": "ipython",
    "version": 3
   },
   "file_extension": ".py",
   "mimetype": "text/x-python",
   "name": "python",
   "nbconvert_exporter": "python",
   "pygments_lexer": "ipython3",
   "version": "3.10.9"
  }
 },
 "nbformat": 4,
 "nbformat_minor": 5
}
