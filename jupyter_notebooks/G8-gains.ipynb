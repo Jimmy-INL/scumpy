{
 "cells": [
  {
   "cell_type": "markdown",
   "id": "68d1a8ef-f7dc-4d43-959a-878bb0aa2e97",
   "metadata": {},
   "source": [
    "# G8 gains\n",
    "Main Reference:\n",
    "\n",
    "* <a href=https://ftp.cs.ucla.edu/pub/stat_ser/r493.pdf>A Crash Course in Good and Bad Controls</a>,\n",
    "by Carlos Cinelli, Andrew Forney and Judea Pearl\n",
    "\n",
    "In this notebook, we derive, using a symbolic manipulator (SymPy), the gains (i.e., path coefficients) as a function of the covariances, for \n",
    "\n",
    "## G8 \n",
    "\n",
    "If the DAG is not fully connected, there are some constraints between the covariances. There is one constraint for each arrow missing from a fully connected DAG."
   ]
  },
  {
   "cell_type": "code",
   "execution_count": 1,
   "id": "73d99326-85ad-40c0-b3ba-cc873ed5276e",
   "metadata": {},
   "outputs": [
    {
     "name": "stdout",
     "output_type": "stream",
     "text": [
      "C:\\Users\\rrtuc\\Desktop\\backed-up\\python-projects\\scumpy\n"
     ]
    }
   ],
   "source": [
    "# this makes sure it starts looking for things from the scumpy folder down.\n",
    "import os\n",
    "import sys\n",
    "os.chdir('../')\n",
    "sys.path.insert(0,os.getcwd())\n",
    "print(os.getcwd())"
   ]
  },
  {
   "cell_type": "code",
   "execution_count": 2,
   "id": "bfa6c1fe-c023-4169-b42c-820512fbf67f",
   "metadata": {},
   "outputs": [],
   "source": [
    "from Graph import *\n",
    "from GainsCalculator import *"
   ]
  },
  {
   "cell_type": "code",
   "execution_count": 3,
   "id": "c83d0949-c9a8-429a-b1a2-eda0d229b558",
   "metadata": {},
   "outputs": [
    {
     "data": {
      "image/png": "[encoded data removed]",
      "text/plain": [
       "<IPython.core.display.Image object>"
      ]
     },
     "metadata": {},
     "output_type": "display_data"
    }
   ],
   "source": [
    "path = 'dot_atlas/good_bad_trols_G8.dot'\n",
    "graph = Graph(path)\n",
    "graph.draw(jupyter=True)"
   ]
  },
  {
   "cell_type": "code",
   "execution_count": 4,
   "id": "4c12a223-53ac-4d70-b124-e6f812dff43d",
   "metadata": {},
   "outputs": [
    {
     "data": {
      "text/latex": [
       "$\\displaystyle \\begin{array}{l}\n",
       "\\left\\langle\\underline{X},\\underline{Z}\\right\\rangle = 0\n",
       "\\\\\n",
       "\\alpha_{\\underline{Y}|\\underline{X}} = \\frac{\\left\\langle\\underline{X},\\underline{Y}\\right\\rangle \\left\\langle\\underline{Z},\\underline{Z}\\right\\rangle - \\left\\langle\\underline{X},\\underline{Z}\\right\\rangle \\left\\langle\\underline{Z},\\underline{Y}\\right\\rangle}{\\left\\langle\\underline{X},\\underline{X}\\right\\rangle \\left\\langle\\underline{Z},\\underline{Z}\\right\\rangle - \\left\\langle\\underline{X},\\underline{Z}\\right\\rangle^{2}}\n",
       "\\\\\n",
       "\\alpha_{\\underline{Y}|\\underline{Z}} = \\frac{\\left\\langle\\underline{X},\\underline{X}\\right\\rangle \\left\\langle\\underline{Z},\\underline{Y}\\right\\rangle - \\left\\langle\\underline{X},\\underline{Y}\\right\\rangle \\left\\langle\\underline{X},\\underline{Z}\\right\\rangle}{\\left\\langle\\underline{X},\\underline{X}\\right\\rangle \\left\\langle\\underline{Z},\\underline{Z}\\right\\rangle - \\left\\langle\\underline{X},\\underline{Z}\\right\\rangle^{2}}\n",
       "\\end{array}$"
      ],
      "text/plain": [
       "\\begin{array}{l}\n",
       "\\left\\langle\\underline{X},\\underline{Z}\\right\\rangle = 0\n",
       "\\\\\n",
       "\\alpha_{\\underline{Y}|\\underline{X}} = \\frac{\\left\\langle\\underline{X},\\underline{Y}\\right\\rangle \\left\\langle\\underline{Z},\\underline{Z}\\right\\rangle - \\left\\langle\\underline{X},\\underline{Z}\\right\\rangle \\left\\langle\\underline{Z},\\underline{Y}\\right\\rangle}{\\left\\langle\\underline{X},\\underline{X}\\right\\rangle \\left\\langle\\underline{Z},\\underline{Z}\\right\\rangle - \\left\\langle\\underline{X},\\underline{Z}\\right\\rangle^{2}}\n",
       "\\\\\n",
       "\\alpha_{\\underline{Y}|\\underline{Z}} = \\frac{\\left\\langle\\underline{X},\\underline{X}\\right\\rangle \\left\\langle\\underline{Z},\\underline{Y}\\right\\rangle - \\left\\langle\\underline{X},\\underline{Y}\\right\\rangle \\left\\langle\\underline{X},\\underline{Z}\\right\\rangle}{\\left\\langle\\underline{X},\\underline{X}\\right\\rangle \\left\\langle\\underline{Z},\\underline{Z}\\right\\rangle - \\left\\langle\\underline{X},\\underline{Z}\\right\\rangle^{2}}\n",
       "\\end{array}"
      ]
     },
     "execution_count": 4,
     "metadata": {},
     "output_type": "execute_result"
    }
   ],
   "source": [
    "cal = GainsCalculator(graph)\n",
    "cal.calculate_gains_sb()\n",
    "cal.print_gains()"
   ]
  }
 ],
 "metadata": {
  "kernelspec": {
   "display_name": "Python 3 (ipykernel)",
   "language": "python",
   "name": "python3"
  },
  "language_info": {
   "codemirror_mode": {
    "name": "ipython",
    "version": 3
   },
   "file_extension": ".py",
   "mimetype": "text/x-python",
   "name": "python",
   "nbconvert_exporter": "python",
   "pygments_lexer": "ipython3",
   "version": "3.10.9"
  }
 },
 "nbformat": 4,
 "nbformat_minor": 5
}
