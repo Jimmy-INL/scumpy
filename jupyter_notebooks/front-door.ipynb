{
 "cells": [
  {
   "cell_type": "markdown",
   "id": "9d7a7df7-b202-4c54-85bc-86d193695989",
   "metadata": {},
   "source": [
    "# Front Door Example\n",
    "This notebook is devoted to the Front Door Example in Pearl's\n",
    "\"Do Why\" book.\n",
    "\n",
    "Note that after we amputate the arrows entering \n",
    "node $\\underline{x}$, \n",
    "the covariance $\\langle \\underline{x}, \\underline{y} \\rangle$\n",
    "becomes independent of the hidden (unobserved) variable \n",
    "$\\underline{h}$."
   ]
  },
  {
   "cell_type": "code",
   "execution_count": 1,
   "id": "377e1f00-44e6-44e9-a1c2-29bdef2520e2",
   "metadata": {},
   "outputs": [
    {
     "name": "stdout",
     "output_type": "stream",
     "text": [
      "C:\\Users\\rrtuc\\Desktop\\backed-up\\python-projects\\scumpy\n"
     ]
    }
   ],
   "source": [
    "# this makes sure it starts looking for things from the scumpy folder down.\n",
    "import os\n",
    "import sys\n",
    "os.chdir('../')\n",
    "sys.path.insert(0,os.getcwd())\n",
    "print(os.getcwd())"
   ]
  },
  {
   "cell_type": "code",
   "execution_count": 2,
   "id": "0b35f2d8-07ce-4d64-94e5-79a532647397",
   "metadata": {},
   "outputs": [
    {
     "data": {
      "image/png": "[encoded data removed]",
      "text/plain": [
       "<IPython.core.display.Image object>"
      ]
     },
     "metadata": {},
     "output_type": "display_data"
    }
   ],
   "source": [
    "from Graph import *\n",
    "path = 'dot_atlas/front-door.dot'\n",
    "graph = Graph(path)\n",
    "graph.draw(jupyter=True)"
   ]
  },
  {
   "cell_type": "code",
   "execution_count": 3,
   "id": "b9d1dcee-0d2b-4736-8f19-63e29dc9b5d5",
   "metadata": {},
   "outputs": [
    {
     "data": {
      "text/latex": [
       "$\\displaystyle \\begin{array}{l}\n",
       "\\left\\langle\\underline{h}, \\underline{h}\\right\\rangle=\\sigma^2_{\\underline{\\epsilon}_{\\underline{h}}}\n",
       "\\\\\n",
       "\\left\\langle\\underline{h}, \\underline{x}\\right\\rangle=\\alpha_{\\underline{x}|\\underline{h}} \\sigma^2_{\\underline{\\epsilon}_{\\underline{h}}}\n",
       "\\\\\n",
       "\\left\\langle\\underline{h}, \\underline{m}\\right\\rangle=\\alpha_{\\underline{m}|\\underline{x}} \\alpha_{\\underline{x}|\\underline{h}} \\sigma^2_{\\underline{\\epsilon}_{\\underline{h}}}\n",
       "\\\\\n",
       "\\left\\langle\\underline{h}, \\underline{y}\\right\\rangle=\\sigma^2_{\\underline{\\epsilon}_{\\underline{h}}} \\left(\\alpha_{\\underline{m}|\\underline{x}} \\alpha_{\\underline{x}|\\underline{h}} \\alpha_{\\underline{y}|\\underline{m}} + \\alpha_{\\underline{y}|\\underline{h}}\\right)\n",
       "\\\\\n",
       "\\left\\langle\\underline{x}, \\underline{h}\\right\\rangle=\\alpha_{\\underline{x}|\\underline{h}} \\sigma^2_{\\underline{\\epsilon}_{\\underline{h}}}\n",
       "\\\\\n",
       "\\left\\langle\\underline{x}, \\underline{x}\\right\\rangle=\\alpha_{\\underline{x}|\\underline{h}}^{2} \\sigma^2_{\\underline{\\epsilon}_{\\underline{h}}} + \\sigma^2_{\\underline{\\epsilon}_{\\underline{x}}}\n",
       "\\\\\n",
       "\\left\\langle\\underline{x}, \\underline{m}\\right\\rangle=\\alpha_{\\underline{m}|\\underline{x}} \\left(\\alpha_{\\underline{x}|\\underline{h}}^{2} \\sigma^2_{\\underline{\\epsilon}_{\\underline{h}}} + \\sigma^2_{\\underline{\\epsilon}_{\\underline{x}}}\\right)\n",
       "\\\\\n",
       "\\left\\langle\\underline{x}, \\underline{y}\\right\\rangle=\\alpha_{\\underline{m}|\\underline{x}} \\alpha_{\\underline{y}|\\underline{m}} \\sigma^2_{\\underline{\\epsilon}_{\\underline{x}}} + \\alpha_{\\underline{x}|\\underline{h}} \\sigma^2_{\\underline{\\epsilon}_{\\underline{h}}} \\left(\\alpha_{\\underline{m}|\\underline{x}} \\alpha_{\\underline{x}|\\underline{h}} \\alpha_{\\underline{y}|\\underline{m}} + \\alpha_{\\underline{y}|\\underline{h}}\\right)\n",
       "\\\\\n",
       "\\left\\langle\\underline{m}, \\underline{h}\\right\\rangle=\\alpha_{\\underline{m}|\\underline{x}} \\alpha_{\\underline{x}|\\underline{h}} \\sigma^2_{\\underline{\\epsilon}_{\\underline{h}}}\n",
       "\\\\\n",
       "\\left\\langle\\underline{m}, \\underline{x}\\right\\rangle=\\alpha_{\\underline{m}|\\underline{x}} \\left(\\alpha_{\\underline{x}|\\underline{h}}^{2} \\sigma^2_{\\underline{\\epsilon}_{\\underline{h}}} + \\sigma^2_{\\underline{\\epsilon}_{\\underline{x}}}\\right)\n",
       "\\\\\n",
       "\\left\\langle\\underline{m}, \\underline{m}\\right\\rangle=\\alpha_{\\underline{m}|\\underline{x}}^{2} \\alpha_{\\underline{x}|\\underline{h}}^{2} \\sigma^2_{\\underline{\\epsilon}_{\\underline{h}}} + \\alpha_{\\underline{m}|\\underline{x}}^{2} \\sigma^2_{\\underline{\\epsilon}_{\\underline{x}}} + \\sigma^2_{\\underline{\\epsilon}_{\\underline{m}}}\n",
       "\\\\\n",
       "\\left\\langle\\underline{m}, \\underline{y}\\right\\rangle=\\alpha_{\\underline{m}|\\underline{x}}^{2} \\alpha_{\\underline{y}|\\underline{m}} \\sigma^2_{\\underline{\\epsilon}_{\\underline{x}}} + \\alpha_{\\underline{m}|\\underline{x}} \\alpha_{\\underline{x}|\\underline{h}} \\sigma^2_{\\underline{\\epsilon}_{\\underline{h}}} \\left(\\alpha_{\\underline{m}|\\underline{x}} \\alpha_{\\underline{x}|\\underline{h}} \\alpha_{\\underline{y}|\\underline{m}} + \\alpha_{\\underline{y}|\\underline{h}}\\right) + \\alpha_{\\underline{y}|\\underline{m}} \\sigma^2_{\\underline{\\epsilon}_{\\underline{m}}}\n",
       "\\\\\n",
       "\\left\\langle\\underline{y}, \\underline{h}\\right\\rangle=\\sigma^2_{\\underline{\\epsilon}_{\\underline{h}}} \\left(\\alpha_{\\underline{m}|\\underline{x}} \\alpha_{\\underline{x}|\\underline{h}} \\alpha_{\\underline{y}|\\underline{m}} + \\alpha_{\\underline{y}|\\underline{h}}\\right)\n",
       "\\\\\n",
       "\\left\\langle\\underline{y}, \\underline{x}\\right\\rangle=\\alpha_{\\underline{m}|\\underline{x}} \\alpha_{\\underline{y}|\\underline{m}} \\sigma^2_{\\underline{\\epsilon}_{\\underline{x}}} + \\alpha_{\\underline{x}|\\underline{h}} \\sigma^2_{\\underline{\\epsilon}_{\\underline{h}}} \\left(\\alpha_{\\underline{m}|\\underline{x}} \\alpha_{\\underline{x}|\\underline{h}} \\alpha_{\\underline{y}|\\underline{m}} + \\alpha_{\\underline{y}|\\underline{h}}\\right)\n",
       "\\\\\n",
       "\\left\\langle\\underline{y}, \\underline{m}\\right\\rangle=\\alpha_{\\underline{m}|\\underline{x}}^{2} \\alpha_{\\underline{y}|\\underline{m}} \\sigma^2_{\\underline{\\epsilon}_{\\underline{x}}} + \\alpha_{\\underline{m}|\\underline{x}} \\alpha_{\\underline{x}|\\underline{h}} \\sigma^2_{\\underline{\\epsilon}_{\\underline{h}}} \\left(\\alpha_{\\underline{m}|\\underline{x}} \\alpha_{\\underline{x}|\\underline{h}} \\alpha_{\\underline{y}|\\underline{m}} + \\alpha_{\\underline{y}|\\underline{h}}\\right) + \\alpha_{\\underline{y}|\\underline{m}} \\sigma^2_{\\underline{\\epsilon}_{\\underline{m}}}\n",
       "\\\\\n",
       "\\left\\langle\\underline{y}, \\underline{y}\\right\\rangle=\\alpha_{\\underline{m}|\\underline{x}}^{2} \\alpha_{\\underline{y}|\\underline{m}}^{2} \\sigma^2_{\\underline{\\epsilon}_{\\underline{x}}} + \\alpha_{\\underline{y}|\\underline{m}}^{2} \\sigma^2_{\\underline{\\epsilon}_{\\underline{m}}} + \\sigma^2_{\\underline{\\epsilon}_{\\underline{h}}} \\left(\\alpha_{\\underline{m}|\\underline{x}} \\alpha_{\\underline{x}|\\underline{h}} \\alpha_{\\underline{y}|\\underline{m}} + \\alpha_{\\underline{y}|\\underline{h}}\\right)^{2} + \\sigma^2_{\\underline{\\epsilon}_{\\underline{y}}}\n",
       "\\end{array}$"
      ],
      "text/plain": [
       "\\begin{array}{l}\n",
       "\\left\\langle\\underline{h}, \\underline{h}\\right\\rangle=\\sigma^2_{\\underline{\\epsilon}_{\\underline{h}}}\n",
       "\\\\\n",
       "\\left\\langle\\underline{h}, \\underline{x}\\right\\rangle=\\alpha_{\\underline{x}|\\underline{h}} \\sigma^2_{\\underline{\\epsilon}_{\\underline{h}}}\n",
       "\\\\\n",
       "\\left\\langle\\underline{h}, \\underline{m}\\right\\rangle=\\alpha_{\\underline{m}|\\underline{x}} \\alpha_{\\underline{x}|\\underline{h}} \\sigma^2_{\\underline{\\epsilon}_{\\underline{h}}}\n",
       "\\\\\n",
       "\\left\\langle\\underline{h}, \\underline{y}\\right\\rangle=\\sigma^2_{\\underline{\\epsilon}_{\\underline{h}}} \\left(\\alpha_{\\underline{m}|\\underline{x}} \\alpha_{\\underline{x}|\\underline{h}} \\alpha_{\\underline{y}|\\underline{m}} + \\alpha_{\\underline{y}|\\underline{h}}\\right)\n",
       "\\\\\n",
       "\\left\\langle\\underline{x}, \\underline{h}\\right\\rangle=\\alpha_{\\underline{x}|\\underline{h}} \\sigma^2_{\\underline{\\epsilon}_{\\underline{h}}}\n",
       "\\\\\n",
       "\\left\\langle\\underline{x}, \\underline{x}\\right\\rangle=\\alpha_{\\underline{x}|\\underline{h}}^{2} \\sigma^2_{\\underline{\\epsilon}_{\\underline{h}}} + \\sigma^2_{\\underline{\\epsilon}_{\\underline{x}}}\n",
       "\\\\\n",
       "\\left\\langle\\underline{x}, \\underline{m}\\right\\rangle=\\alpha_{\\underline{m}|\\underline{x}} \\left(\\alpha_{\\underline{x}|\\underline{h}}^{2} \\sigma^2_{\\underline{\\epsilon}_{\\underline{h}}} + \\sigma^2_{\\underline{\\epsilon}_{\\underline{x}}}\\right)\n",
       "\\\\\n",
       "\\left\\langle\\underline{x}, \\underline{y}\\right\\rangle=\\alpha_{\\underline{m}|\\underline{x}} \\alpha_{\\underline{y}|\\underline{m}} \\sigma^2_{\\underline{\\epsilon}_{\\underline{x}}} + \\alpha_{\\underline{x}|\\underline{h}} \\sigma^2_{\\underline{\\epsilon}_{\\underline{h}}} \\left(\\alpha_{\\underline{m}|\\underline{x}} \\alpha_{\\underline{x}|\\underline{h}} \\alpha_{\\underline{y}|\\underline{m}} + \\alpha_{\\underline{y}|\\underline{h}}\\right)\n",
       "\\\\\n",
       "\\left\\langle\\underline{m}, \\underline{h}\\right\\rangle=\\alpha_{\\underline{m}|\\underline{x}} \\alpha_{\\underline{x}|\\underline{h}} \\sigma^2_{\\underline{\\epsilon}_{\\underline{h}}}\n",
       "\\\\\n",
       "\\left\\langle\\underline{m}, \\underline{x}\\right\\rangle=\\alpha_{\\underline{m}|\\underline{x}} \\left(\\alpha_{\\underline{x}|\\underline{h}}^{2} \\sigma^2_{\\underline{\\epsilon}_{\\underline{h}}} + \\sigma^2_{\\underline{\\epsilon}_{\\underline{x}}}\\right)\n",
       "\\\\\n",
       "\\left\\langle\\underline{m}, \\underline{m}\\right\\rangle=\\alpha_{\\underline{m}|\\underline{x}}^{2} \\alpha_{\\underline{x}|\\underline{h}}^{2} \\sigma^2_{\\underline{\\epsilon}_{\\underline{h}}} + \\alpha_{\\underline{m}|\\underline{x}}^{2} \\sigma^2_{\\underline{\\epsilon}_{\\underline{x}}} + \\sigma^2_{\\underline{\\epsilon}_{\\underline{m}}}\n",
       "\\\\\n",
       "\\left\\langle\\underline{m}, \\underline{y}\\right\\rangle=\\alpha_{\\underline{m}|\\underline{x}}^{2} \\alpha_{\\underline{y}|\\underline{m}} \\sigma^2_{\\underline{\\epsilon}_{\\underline{x}}} + \\alpha_{\\underline{m}|\\underline{x}} \\alpha_{\\underline{x}|\\underline{h}} \\sigma^2_{\\underline{\\epsilon}_{\\underline{h}}} \\left(\\alpha_{\\underline{m}|\\underline{x}} \\alpha_{\\underline{x}|\\underline{h}} \\alpha_{\\underline{y}|\\underline{m}} + \\alpha_{\\underline{y}|\\underline{h}}\\right) + \\alpha_{\\underline{y}|\\underline{m}} \\sigma^2_{\\underline{\\epsilon}_{\\underline{m}}}\n",
       "\\\\\n",
       "\\left\\langle\\underline{y}, \\underline{h}\\right\\rangle=\\sigma^2_{\\underline{\\epsilon}_{\\underline{h}}} \\left(\\alpha_{\\underline{m}|\\underline{x}} \\alpha_{\\underline{x}|\\underline{h}} \\alpha_{\\underline{y}|\\underline{m}} + \\alpha_{\\underline{y}|\\underline{h}}\\right)\n",
       "\\\\\n",
       "\\left\\langle\\underline{y}, \\underline{x}\\right\\rangle=\\alpha_{\\underline{m}|\\underline{x}} \\alpha_{\\underline{y}|\\underline{m}} \\sigma^2_{\\underline{\\epsilon}_{\\underline{x}}} + \\alpha_{\\underline{x}|\\underline{h}} \\sigma^2_{\\underline{\\epsilon}_{\\underline{h}}} \\left(\\alpha_{\\underline{m}|\\underline{x}} \\alpha_{\\underline{x}|\\underline{h}} \\alpha_{\\underline{y}|\\underline{m}} + \\alpha_{\\underline{y}|\\underline{h}}\\right)\n",
       "\\\\\n",
       "\\left\\langle\\underline{y}, \\underline{m}\\right\\rangle=\\alpha_{\\underline{m}|\\underline{x}}^{2} \\alpha_{\\underline{y}|\\underline{m}} \\sigma^2_{\\underline{\\epsilon}_{\\underline{x}}} + \\alpha_{\\underline{m}|\\underline{x}} \\alpha_{\\underline{x}|\\underline{h}} \\sigma^2_{\\underline{\\epsilon}_{\\underline{h}}} \\left(\\alpha_{\\underline{m}|\\underline{x}} \\alpha_{\\underline{x}|\\underline{h}} \\alpha_{\\underline{y}|\\underline{m}} + \\alpha_{\\underline{y}|\\underline{h}}\\right) + \\alpha_{\\underline{y}|\\underline{m}} \\sigma^2_{\\underline{\\epsilon}_{\\underline{m}}}\n",
       "\\\\\n",
       "\\left\\langle\\underline{y}, \\underline{y}\\right\\rangle=\\alpha_{\\underline{m}|\\underline{x}}^{2} \\alpha_{\\underline{y}|\\underline{m}}^{2} \\sigma^2_{\\underline{\\epsilon}_{\\underline{x}}} + \\alpha_{\\underline{y}|\\underline{m}}^{2} \\sigma^2_{\\underline{\\epsilon}_{\\underline{m}}} + \\sigma^2_{\\underline{\\epsilon}_{\\underline{h}}} \\left(\\alpha_{\\underline{m}|\\underline{x}} \\alpha_{\\underline{x}|\\underline{h}} \\alpha_{\\underline{y}|\\underline{m}} + \\alpha_{\\underline{y}|\\underline{h}}\\right)^{2} + \\sigma^2_{\\underline{\\epsilon}_{\\underline{y}}}\n",
       "\\end{array}"
      ]
     },
     "execution_count": 3,
     "metadata": {},
     "output_type": "execute_result"
    }
   ],
   "source": [
    "from CovMatCalculator import *\n",
    "cal = CovMatCalculator(graph)\n",
    "cal.calculate_cov_mat()\n",
    "cal.print_cov_mat()"
   ]
  },
  {
   "cell_type": "code",
   "execution_count": 4,
   "id": "e74c6bf1-410c-429f-b4ba-cee4b2d45347",
   "metadata": {},
   "outputs": [
    {
     "data": {
      "text/latex": [
       "$\\displaystyle \\begin{array}{l}\n",
       "\\frac{\\partial\\underline{h}}{\\partial\\underline{h}}=1\n",
       "\\\\\n",
       "\\frac{\\partial\\underline{h}}{\\partial\\underline{x}}=\\frac{\\alpha_{\\underline{x}|\\underline{h}} \\sigma^2_{\\underline{\\epsilon}_{\\underline{h}}}}{\\alpha_{\\underline{x}|\\underline{h}}^{2} \\sigma^2_{\\underline{\\epsilon}_{\\underline{h}}} + \\sigma^2_{\\underline{\\epsilon}_{\\underline{x}}}}\n",
       "\\\\\n",
       "\\frac{\\partial\\underline{h}}{\\partial\\underline{m}}=\\frac{\\alpha_{\\underline{m}|\\underline{x}} \\alpha_{\\underline{x}|\\underline{h}} \\sigma^2_{\\underline{\\epsilon}_{\\underline{h}}}}{\\alpha_{\\underline{m}|\\underline{x}}^{2} \\alpha_{\\underline{x}|\\underline{h}}^{2} \\sigma^2_{\\underline{\\epsilon}_{\\underline{h}}} + \\alpha_{\\underline{m}|\\underline{x}}^{2} \\sigma^2_{\\underline{\\epsilon}_{\\underline{x}}} + \\sigma^2_{\\underline{\\epsilon}_{\\underline{m}}}}\n",
       "\\\\\n",
       "\\frac{\\partial\\underline{h}}{\\partial\\underline{y}}=\\frac{\\sigma^2_{\\underline{\\epsilon}_{\\underline{h}}} \\left(\\alpha_{\\underline{m}|\\underline{x}} \\alpha_{\\underline{x}|\\underline{h}} \\alpha_{\\underline{y}|\\underline{m}} + \\alpha_{\\underline{y}|\\underline{h}}\\right)}{\\alpha_{\\underline{m}|\\underline{x}}^{2} \\alpha_{\\underline{y}|\\underline{m}}^{2} \\sigma^2_{\\underline{\\epsilon}_{\\underline{x}}} + \\alpha_{\\underline{y}|\\underline{m}}^{2} \\sigma^2_{\\underline{\\epsilon}_{\\underline{m}}} + \\sigma^2_{\\underline{\\epsilon}_{\\underline{h}}} \\left(\\alpha_{\\underline{m}|\\underline{x}} \\alpha_{\\underline{x}|\\underline{h}} \\alpha_{\\underline{y}|\\underline{m}} + \\alpha_{\\underline{y}|\\underline{h}}\\right)^{2} + \\sigma^2_{\\underline{\\epsilon}_{\\underline{y}}}}\n",
       "\\\\\n",
       "\\frac{\\partial\\underline{x}}{\\partial\\underline{h}}=\\alpha_{\\underline{x}|\\underline{h}}\n",
       "\\\\\n",
       "\\frac{\\partial\\underline{x}}{\\partial\\underline{x}}=1\n",
       "\\\\\n",
       "\\frac{\\partial\\underline{x}}{\\partial\\underline{m}}=\\frac{\\alpha_{\\underline{m}|\\underline{x}} \\left(\\alpha_{\\underline{x}|\\underline{h}}^{2} \\sigma^2_{\\underline{\\epsilon}_{\\underline{h}}} + \\sigma^2_{\\underline{\\epsilon}_{\\underline{x}}}\\right)}{\\alpha_{\\underline{m}|\\underline{x}}^{2} \\alpha_{\\underline{x}|\\underline{h}}^{2} \\sigma^2_{\\underline{\\epsilon}_{\\underline{h}}} + \\alpha_{\\underline{m}|\\underline{x}}^{2} \\sigma^2_{\\underline{\\epsilon}_{\\underline{x}}} + \\sigma^2_{\\underline{\\epsilon}_{\\underline{m}}}}\n",
       "\\\\\n",
       "\\frac{\\partial\\underline{x}}{\\partial\\underline{y}}=\\frac{\\alpha_{\\underline{m}|\\underline{x}} \\alpha_{\\underline{y}|\\underline{m}} \\sigma^2_{\\underline{\\epsilon}_{\\underline{x}}} + \\alpha_{\\underline{x}|\\underline{h}} \\sigma^2_{\\underline{\\epsilon}_{\\underline{h}}} \\left(\\alpha_{\\underline{m}|\\underline{x}} \\alpha_{\\underline{x}|\\underline{h}} \\alpha_{\\underline{y}|\\underline{m}} + \\alpha_{\\underline{y}|\\underline{h}}\\right)}{\\alpha_{\\underline{m}|\\underline{x}}^{2} \\alpha_{\\underline{y}|\\underline{m}}^{2} \\sigma^2_{\\underline{\\epsilon}_{\\underline{x}}} + \\alpha_{\\underline{y}|\\underline{m}}^{2} \\sigma^2_{\\underline{\\epsilon}_{\\underline{m}}} + \\sigma^2_{\\underline{\\epsilon}_{\\underline{h}}} \\left(\\alpha_{\\underline{m}|\\underline{x}} \\alpha_{\\underline{x}|\\underline{h}} \\alpha_{\\underline{y}|\\underline{m}} + \\alpha_{\\underline{y}|\\underline{h}}\\right)^{2} + \\sigma^2_{\\underline{\\epsilon}_{\\underline{y}}}}\n",
       "\\\\\n",
       "\\frac{\\partial\\underline{m}}{\\partial\\underline{h}}=\\alpha_{\\underline{m}|\\underline{x}} \\alpha_{\\underline{x}|\\underline{h}}\n",
       "\\\\\n",
       "\\frac{\\partial\\underline{m}}{\\partial\\underline{x}}=\\alpha_{\\underline{m}|\\underline{x}}\n",
       "\\\\\n",
       "\\frac{\\partial\\underline{m}}{\\partial\\underline{m}}=1\n",
       "\\\\\n",
       "\\frac{\\partial\\underline{m}}{\\partial\\underline{y}}=\\frac{\\alpha_{\\underline{m}|\\underline{x}}^{2} \\alpha_{\\underline{y}|\\underline{m}} \\sigma^2_{\\underline{\\epsilon}_{\\underline{x}}} + \\alpha_{\\underline{m}|\\underline{x}} \\alpha_{\\underline{x}|\\underline{h}} \\sigma^2_{\\underline{\\epsilon}_{\\underline{h}}} \\left(\\alpha_{\\underline{m}|\\underline{x}} \\alpha_{\\underline{x}|\\underline{h}} \\alpha_{\\underline{y}|\\underline{m}} + \\alpha_{\\underline{y}|\\underline{h}}\\right) + \\alpha_{\\underline{y}|\\underline{m}} \\sigma^2_{\\underline{\\epsilon}_{\\underline{m}}}}{\\alpha_{\\underline{m}|\\underline{x}}^{2} \\alpha_{\\underline{y}|\\underline{m}}^{2} \\sigma^2_{\\underline{\\epsilon}_{\\underline{x}}} + \\alpha_{\\underline{y}|\\underline{m}}^{2} \\sigma^2_{\\underline{\\epsilon}_{\\underline{m}}} + \\sigma^2_{\\underline{\\epsilon}_{\\underline{h}}} \\left(\\alpha_{\\underline{m}|\\underline{x}} \\alpha_{\\underline{x}|\\underline{h}} \\alpha_{\\underline{y}|\\underline{m}} + \\alpha_{\\underline{y}|\\underline{h}}\\right)^{2} + \\sigma^2_{\\underline{\\epsilon}_{\\underline{y}}}}\n",
       "\\\\\n",
       "\\frac{\\partial\\underline{y}}{\\partial\\underline{h}}=\\alpha_{\\underline{m}|\\underline{x}} \\alpha_{\\underline{x}|\\underline{h}} \\alpha_{\\underline{y}|\\underline{m}} + \\alpha_{\\underline{y}|\\underline{h}}\n",
       "\\\\\n",
       "\\frac{\\partial\\underline{y}}{\\partial\\underline{x}}=\\frac{\\alpha_{\\underline{m}|\\underline{x}} \\alpha_{\\underline{y}|\\underline{m}} \\sigma^2_{\\underline{\\epsilon}_{\\underline{x}}} + \\alpha_{\\underline{x}|\\underline{h}} \\sigma^2_{\\underline{\\epsilon}_{\\underline{h}}} \\left(\\alpha_{\\underline{m}|\\underline{x}} \\alpha_{\\underline{x}|\\underline{h}} \\alpha_{\\underline{y}|\\underline{m}} + \\alpha_{\\underline{y}|\\underline{h}}\\right)}{\\alpha_{\\underline{x}|\\underline{h}}^{2} \\sigma^2_{\\underline{\\epsilon}_{\\underline{h}}} + \\sigma^2_{\\underline{\\epsilon}_{\\underline{x}}}}\n",
       "\\\\\n",
       "\\frac{\\partial\\underline{y}}{\\partial\\underline{m}}=\\frac{\\alpha_{\\underline{m}|\\underline{x}}^{2} \\alpha_{\\underline{y}|\\underline{m}} \\sigma^2_{\\underline{\\epsilon}_{\\underline{x}}} + \\alpha_{\\underline{m}|\\underline{x}} \\alpha_{\\underline{x}|\\underline{h}} \\sigma^2_{\\underline{\\epsilon}_{\\underline{h}}} \\left(\\alpha_{\\underline{m}|\\underline{x}} \\alpha_{\\underline{x}|\\underline{h}} \\alpha_{\\underline{y}|\\underline{m}} + \\alpha_{\\underline{y}|\\underline{h}}\\right) + \\alpha_{\\underline{y}|\\underline{m}} \\sigma^2_{\\underline{\\epsilon}_{\\underline{m}}}}{\\alpha_{\\underline{m}|\\underline{x}}^{2} \\alpha_{\\underline{x}|\\underline{h}}^{2} \\sigma^2_{\\underline{\\epsilon}_{\\underline{h}}} + \\alpha_{\\underline{m}|\\underline{x}}^{2} \\sigma^2_{\\underline{\\epsilon}_{\\underline{x}}} + \\sigma^2_{\\underline{\\epsilon}_{\\underline{m}}}}\n",
       "\\\\\n",
       "\\frac{\\partial\\underline{y}}{\\partial\\underline{y}}=1\n",
       "\\end{array}$"
      ],
      "text/plain": [
       "\\begin{array}{l}\n",
       "\\frac{\\partial\\underline{h}}{\\partial\\underline{h}}=1\n",
       "\\\\\n",
       "\\frac{\\partial\\underline{h}}{\\partial\\underline{x}}=\\frac{\\alpha_{\\underline{x}|\\underline{h}} \\sigma^2_{\\underline{\\epsilon}_{\\underline{h}}}}{\\alpha_{\\underline{x}|\\underline{h}}^{2} \\sigma^2_{\\underline{\\epsilon}_{\\underline{h}}} + \\sigma^2_{\\underline{\\epsilon}_{\\underline{x}}}}\n",
       "\\\\\n",
       "\\frac{\\partial\\underline{h}}{\\partial\\underline{m}}=\\frac{\\alpha_{\\underline{m}|\\underline{x}} \\alpha_{\\underline{x}|\\underline{h}} \\sigma^2_{\\underline{\\epsilon}_{\\underline{h}}}}{\\alpha_{\\underline{m}|\\underline{x}}^{2} \\alpha_{\\underline{x}|\\underline{h}}^{2} \\sigma^2_{\\underline{\\epsilon}_{\\underline{h}}} + \\alpha_{\\underline{m}|\\underline{x}}^{2} \\sigma^2_{\\underline{\\epsilon}_{\\underline{x}}} + \\sigma^2_{\\underline{\\epsilon}_{\\underline{m}}}}\n",
       "\\\\\n",
       "\\frac{\\partial\\underline{h}}{\\partial\\underline{y}}=\\frac{\\sigma^2_{\\underline{\\epsilon}_{\\underline{h}}} \\left(\\alpha_{\\underline{m}|\\underline{x}} \\alpha_{\\underline{x}|\\underline{h}} \\alpha_{\\underline{y}|\\underline{m}} + \\alpha_{\\underline{y}|\\underline{h}}\\right)}{\\alpha_{\\underline{m}|\\underline{x}}^{2} \\alpha_{\\underline{y}|\\underline{m}}^{2} \\sigma^2_{\\underline{\\epsilon}_{\\underline{x}}} + \\alpha_{\\underline{y}|\\underline{m}}^{2} \\sigma^2_{\\underline{\\epsilon}_{\\underline{m}}} + \\sigma^2_{\\underline{\\epsilon}_{\\underline{h}}} \\left(\\alpha_{\\underline{m}|\\underline{x}} \\alpha_{\\underline{x}|\\underline{h}} \\alpha_{\\underline{y}|\\underline{m}} + \\alpha_{\\underline{y}|\\underline{h}}\\right)^{2} + \\sigma^2_{\\underline{\\epsilon}_{\\underline{y}}}}\n",
       "\\\\\n",
       "\\frac{\\partial\\underline{x}}{\\partial\\underline{h}}=\\alpha_{\\underline{x}|\\underline{h}}\n",
       "\\\\\n",
       "\\frac{\\partial\\underline{x}}{\\partial\\underline{x}}=1\n",
       "\\\\\n",
       "\\frac{\\partial\\underline{x}}{\\partial\\underline{m}}=\\frac{\\alpha_{\\underline{m}|\\underline{x}} \\left(\\alpha_{\\underline{x}|\\underline{h}}^{2} \\sigma^2_{\\underline{\\epsilon}_{\\underline{h}}} + \\sigma^2_{\\underline{\\epsilon}_{\\underline{x}}}\\right)}{\\alpha_{\\underline{m}|\\underline{x}}^{2} \\alpha_{\\underline{x}|\\underline{h}}^{2} \\sigma^2_{\\underline{\\epsilon}_{\\underline{h}}} + \\alpha_{\\underline{m}|\\underline{x}}^{2} \\sigma^2_{\\underline{\\epsilon}_{\\underline{x}}} + \\sigma^2_{\\underline{\\epsilon}_{\\underline{m}}}}\n",
       "\\\\\n",
       "\\frac{\\partial\\underline{x}}{\\partial\\underline{y}}=\\frac{\\alpha_{\\underline{m}|\\underline{x}} \\alpha_{\\underline{y}|\\underline{m}} \\sigma^2_{\\underline{\\epsilon}_{\\underline{x}}} + \\alpha_{\\underline{x}|\\underline{h}} \\sigma^2_{\\underline{\\epsilon}_{\\underline{h}}} \\left(\\alpha_{\\underline{m}|\\underline{x}} \\alpha_{\\underline{x}|\\underline{h}} \\alpha_{\\underline{y}|\\underline{m}} + \\alpha_{\\underline{y}|\\underline{h}}\\right)}{\\alpha_{\\underline{m}|\\underline{x}}^{2} \\alpha_{\\underline{y}|\\underline{m}}^{2} \\sigma^2_{\\underline{\\epsilon}_{\\underline{x}}} + \\alpha_{\\underline{y}|\\underline{m}}^{2} \\sigma^2_{\\underline{\\epsilon}_{\\underline{m}}} + \\sigma^2_{\\underline{\\epsilon}_{\\underline{h}}} \\left(\\alpha_{\\underline{m}|\\underline{x}} \\alpha_{\\underline{x}|\\underline{h}} \\alpha_{\\underline{y}|\\underline{m}} + \\alpha_{\\underline{y}|\\underline{h}}\\right)^{2} + \\sigma^2_{\\underline{\\epsilon}_{\\underline{y}}}}\n",
       "\\\\\n",
       "\\frac{\\partial\\underline{m}}{\\partial\\underline{h}}=\\alpha_{\\underline{m}|\\underline{x}} \\alpha_{\\underline{x}|\\underline{h}}\n",
       "\\\\\n",
       "\\frac{\\partial\\underline{m}}{\\partial\\underline{x}}=\\alpha_{\\underline{m}|\\underline{x}}\n",
       "\\\\\n",
       "\\frac{\\partial\\underline{m}}{\\partial\\underline{m}}=1\n",
       "\\\\\n",
       "\\frac{\\partial\\underline{m}}{\\partial\\underline{y}}=\\frac{\\alpha_{\\underline{m}|\\underline{x}}^{2} \\alpha_{\\underline{y}|\\underline{m}} \\sigma^2_{\\underline{\\epsilon}_{\\underline{x}}} + \\alpha_{\\underline{m}|\\underline{x}} \\alpha_{\\underline{x}|\\underline{h}} \\sigma^2_{\\underline{\\epsilon}_{\\underline{h}}} \\left(\\alpha_{\\underline{m}|\\underline{x}} \\alpha_{\\underline{x}|\\underline{h}} \\alpha_{\\underline{y}|\\underline{m}} + \\alpha_{\\underline{y}|\\underline{h}}\\right) + \\alpha_{\\underline{y}|\\underline{m}} \\sigma^2_{\\underline{\\epsilon}_{\\underline{m}}}}{\\alpha_{\\underline{m}|\\underline{x}}^{2} \\alpha_{\\underline{y}|\\underline{m}}^{2} \\sigma^2_{\\underline{\\epsilon}_{\\underline{x}}} + \\alpha_{\\underline{y}|\\underline{m}}^{2} \\sigma^2_{\\underline{\\epsilon}_{\\underline{m}}} + \\sigma^2_{\\underline{\\epsilon}_{\\underline{h}}} \\left(\\alpha_{\\underline{m}|\\underline{x}} \\alpha_{\\underline{x}|\\underline{h}} \\alpha_{\\underline{y}|\\underline{m}} + \\alpha_{\\underline{y}|\\underline{h}}\\right)^{2} + \\sigma^2_{\\underline{\\epsilon}_{\\underline{y}}}}\n",
       "\\\\\n",
       "\\frac{\\partial\\underline{y}}{\\partial\\underline{h}}=\\alpha_{\\underline{m}|\\underline{x}} \\alpha_{\\underline{x}|\\underline{h}} \\alpha_{\\underline{y}|\\underline{m}} + \\alpha_{\\underline{y}|\\underline{h}}\n",
       "\\\\\n",
       "\\frac{\\partial\\underline{y}}{\\partial\\underline{x}}=\\frac{\\alpha_{\\underline{m}|\\underline{x}} \\alpha_{\\underline{y}|\\underline{m}} \\sigma^2_{\\underline{\\epsilon}_{\\underline{x}}} + \\alpha_{\\underline{x}|\\underline{h}} \\sigma^2_{\\underline{\\epsilon}_{\\underline{h}}} \\left(\\alpha_{\\underline{m}|\\underline{x}} \\alpha_{\\underline{x}|\\underline{h}} \\alpha_{\\underline{y}|\\underline{m}} + \\alpha_{\\underline{y}|\\underline{h}}\\right)}{\\alpha_{\\underline{x}|\\underline{h}}^{2} \\sigma^2_{\\underline{\\epsilon}_{\\underline{h}}} + \\sigma^2_{\\underline{\\epsilon}_{\\underline{x}}}}\n",
       "\\\\\n",
       "\\frac{\\partial\\underline{y}}{\\partial\\underline{m}}=\\frac{\\alpha_{\\underline{m}|\\underline{x}}^{2} \\alpha_{\\underline{y}|\\underline{m}} \\sigma^2_{\\underline{\\epsilon}_{\\underline{x}}} + \\alpha_{\\underline{m}|\\underline{x}} \\alpha_{\\underline{x}|\\underline{h}} \\sigma^2_{\\underline{\\epsilon}_{\\underline{h}}} \\left(\\alpha_{\\underline{m}|\\underline{x}} \\alpha_{\\underline{x}|\\underline{h}} \\alpha_{\\underline{y}|\\underline{m}} + \\alpha_{\\underline{y}|\\underline{h}}\\right) + \\alpha_{\\underline{y}|\\underline{m}} \\sigma^2_{\\underline{\\epsilon}_{\\underline{m}}}}{\\alpha_{\\underline{m}|\\underline{x}}^{2} \\alpha_{\\underline{x}|\\underline{h}}^{2} \\sigma^2_{\\underline{\\epsilon}_{\\underline{h}}} + \\alpha_{\\underline{m}|\\underline{x}}^{2} \\sigma^2_{\\underline{\\epsilon}_{\\underline{x}}} + \\sigma^2_{\\underline{\\epsilon}_{\\underline{m}}}}\n",
       "\\\\\n",
       "\\frac{\\partial\\underline{y}}{\\partial\\underline{y}}=1\n",
       "\\end{array}"
      ]
     },
     "execution_count": 4,
     "metadata": {},
     "output_type": "execute_result"
    }
   ],
   "source": [
    "cal.print_jacobian()"
   ]
  },
  {
   "cell_type": "code",
   "execution_count": 5,
   "id": "fbf65cfc-3034-4fc7-b345-71da5eb11c24",
   "metadata": {},
   "outputs": [
    {
     "data": {
      "image/png": "[encoded data removed]",
      "text/plain": [
       "<IPython.core.display.Image object>"
      ]
     },
     "metadata": {},
     "output_type": "display_data"
    }
   ],
   "source": [
    "path = 'dot_atlas/front-door.dot'\n",
    "graph = Graph(path, amputated_arrows=[(\"h\",\"x\")])\n",
    "graph.draw(jupyter=True)"
   ]
  },
  {
   "cell_type": "code",
   "execution_count": 6,
   "id": "0e01df43-14a2-44c3-9a16-f9b59a19e95a",
   "metadata": {},
   "outputs": [
    {
     "data": {
      "text/latex": [
       "$\\displaystyle \\begin{array}{l}\n",
       "\\left\\langle\\underline{x}, \\underline{x}\\right\\rangle=\\sigma^2_{\\underline{\\epsilon}_{\\underline{x}}}\n",
       "\\\\\n",
       "\\left\\langle\\underline{x}, \\underline{h}\\right\\rangle=0\n",
       "\\\\\n",
       "\\left\\langle\\underline{x}, \\underline{m}\\right\\rangle=\\alpha_{\\underline{m}|\\underline{x}} \\sigma^2_{\\underline{\\epsilon}_{\\underline{x}}}\n",
       "\\\\\n",
       "\\left\\langle\\underline{x}, \\underline{y}\\right\\rangle=\\alpha_{\\underline{m}|\\underline{x}} \\alpha_{\\underline{y}|\\underline{m}} \\sigma^2_{\\underline{\\epsilon}_{\\underline{x}}}\n",
       "\\\\\n",
       "\\left\\langle\\underline{h}, \\underline{x}\\right\\rangle=0\n",
       "\\\\\n",
       "\\left\\langle\\underline{h}, \\underline{h}\\right\\rangle=\\sigma^2_{\\underline{\\epsilon}_{\\underline{h}}}\n",
       "\\\\\n",
       "\\left\\langle\\underline{h}, \\underline{m}\\right\\rangle=0\n",
       "\\\\\n",
       "\\left\\langle\\underline{h}, \\underline{y}\\right\\rangle=\\alpha_{\\underline{y}|\\underline{h}} \\sigma^2_{\\underline{\\epsilon}_{\\underline{h}}}\n",
       "\\\\\n",
       "\\left\\langle\\underline{m}, \\underline{x}\\right\\rangle=\\alpha_{\\underline{m}|\\underline{x}} \\sigma^2_{\\underline{\\epsilon}_{\\underline{x}}}\n",
       "\\\\\n",
       "\\left\\langle\\underline{m}, \\underline{h}\\right\\rangle=0\n",
       "\\\\\n",
       "\\left\\langle\\underline{m}, \\underline{m}\\right\\rangle=\\alpha_{\\underline{m}|\\underline{x}}^{2} \\sigma^2_{\\underline{\\epsilon}_{\\underline{x}}} + \\sigma^2_{\\underline{\\epsilon}_{\\underline{m}}}\n",
       "\\\\\n",
       "\\left\\langle\\underline{m}, \\underline{y}\\right\\rangle=\\alpha_{\\underline{y}|\\underline{m}} \\left(\\alpha_{\\underline{m}|\\underline{x}}^{2} \\sigma^2_{\\underline{\\epsilon}_{\\underline{x}}} + \\sigma^2_{\\underline{\\epsilon}_{\\underline{m}}}\\right)\n",
       "\\\\\n",
       "\\left\\langle\\underline{y}, \\underline{x}\\right\\rangle=\\alpha_{\\underline{m}|\\underline{x}} \\alpha_{\\underline{y}|\\underline{m}} \\sigma^2_{\\underline{\\epsilon}_{\\underline{x}}}\n",
       "\\\\\n",
       "\\left\\langle\\underline{y}, \\underline{h}\\right\\rangle=\\alpha_{\\underline{y}|\\underline{h}} \\sigma^2_{\\underline{\\epsilon}_{\\underline{h}}}\n",
       "\\\\\n",
       "\\left\\langle\\underline{y}, \\underline{m}\\right\\rangle=\\alpha_{\\underline{y}|\\underline{m}} \\left(\\alpha_{\\underline{m}|\\underline{x}}^{2} \\sigma^2_{\\underline{\\epsilon}_{\\underline{x}}} + \\sigma^2_{\\underline{\\epsilon}_{\\underline{m}}}\\right)\n",
       "\\\\\n",
       "\\left\\langle\\underline{y}, \\underline{y}\\right\\rangle=\\alpha_{\\underline{m}|\\underline{x}}^{2} \\alpha_{\\underline{y}|\\underline{m}}^{2} \\sigma^2_{\\underline{\\epsilon}_{\\underline{x}}} + \\alpha_{\\underline{y}|\\underline{h}}^{2} \\sigma^2_{\\underline{\\epsilon}_{\\underline{h}}} + \\alpha_{\\underline{y}|\\underline{m}}^{2} \\sigma^2_{\\underline{\\epsilon}_{\\underline{m}}} + \\sigma^2_{\\underline{\\epsilon}_{\\underline{y}}}\n",
       "\\end{array}$"
      ],
      "text/plain": [
       "\\begin{array}{l}\n",
       "\\left\\langle\\underline{x}, \\underline{x}\\right\\rangle=\\sigma^2_{\\underline{\\epsilon}_{\\underline{x}}}\n",
       "\\\\\n",
       "\\left\\langle\\underline{x}, \\underline{h}\\right\\rangle=0\n",
       "\\\\\n",
       "\\left\\langle\\underline{x}, \\underline{m}\\right\\rangle=\\alpha_{\\underline{m}|\\underline{x}} \\sigma^2_{\\underline{\\epsilon}_{\\underline{x}}}\n",
       "\\\\\n",
       "\\left\\langle\\underline{x}, \\underline{y}\\right\\rangle=\\alpha_{\\underline{m}|\\underline{x}} \\alpha_{\\underline{y}|\\underline{m}} \\sigma^2_{\\underline{\\epsilon}_{\\underline{x}}}\n",
       "\\\\\n",
       "\\left\\langle\\underline{h}, \\underline{x}\\right\\rangle=0\n",
       "\\\\\n",
       "\\left\\langle\\underline{h}, \\underline{h}\\right\\rangle=\\sigma^2_{\\underline{\\epsilon}_{\\underline{h}}}\n",
       "\\\\\n",
       "\\left\\langle\\underline{h}, \\underline{m}\\right\\rangle=0\n",
       "\\\\\n",
       "\\left\\langle\\underline{h}, \\underline{y}\\right\\rangle=\\alpha_{\\underline{y}|\\underline{h}} \\sigma^2_{\\underline{\\epsilon}_{\\underline{h}}}\n",
       "\\\\\n",
       "\\left\\langle\\underline{m}, \\underline{x}\\right\\rangle=\\alpha_{\\underline{m}|\\underline{x}} \\sigma^2_{\\underline{\\epsilon}_{\\underline{x}}}\n",
       "\\\\\n",
       "\\left\\langle\\underline{m}, \\underline{h}\\right\\rangle=0\n",
       "\\\\\n",
       "\\left\\langle\\underline{m}, \\underline{m}\\right\\rangle=\\alpha_{\\underline{m}|\\underline{x}}^{2} \\sigma^2_{\\underline{\\epsilon}_{\\underline{x}}} + \\sigma^2_{\\underline{\\epsilon}_{\\underline{m}}}\n",
       "\\\\\n",
       "\\left\\langle\\underline{m}, \\underline{y}\\right\\rangle=\\alpha_{\\underline{y}|\\underline{m}} \\left(\\alpha_{\\underline{m}|\\underline{x}}^{2} \\sigma^2_{\\underline{\\epsilon}_{\\underline{x}}} + \\sigma^2_{\\underline{\\epsilon}_{\\underline{m}}}\\right)\n",
       "\\\\\n",
       "\\left\\langle\\underline{y}, \\underline{x}\\right\\rangle=\\alpha_{\\underline{m}|\\underline{x}} \\alpha_{\\underline{y}|\\underline{m}} \\sigma^2_{\\underline{\\epsilon}_{\\underline{x}}}\n",
       "\\\\\n",
       "\\left\\langle\\underline{y}, \\underline{h}\\right\\rangle=\\alpha_{\\underline{y}|\\underline{h}} \\sigma^2_{\\underline{\\epsilon}_{\\underline{h}}}\n",
       "\\\\\n",
       "\\left\\langle\\underline{y}, \\underline{m}\\right\\rangle=\\alpha_{\\underline{y}|\\underline{m}} \\left(\\alpha_{\\underline{m}|\\underline{x}}^{2} \\sigma^2_{\\underline{\\epsilon}_{\\underline{x}}} + \\sigma^2_{\\underline{\\epsilon}_{\\underline{m}}}\\right)\n",
       "\\\\\n",
       "\\left\\langle\\underline{y}, \\underline{y}\\right\\rangle=\\alpha_{\\underline{m}|\\underline{x}}^{2} \\alpha_{\\underline{y}|\\underline{m}}^{2} \\sigma^2_{\\underline{\\epsilon}_{\\underline{x}}} + \\alpha_{\\underline{y}|\\underline{h}}^{2} \\sigma^2_{\\underline{\\epsilon}_{\\underline{h}}} + \\alpha_{\\underline{y}|\\underline{m}}^{2} \\sigma^2_{\\underline{\\epsilon}_{\\underline{m}}} + \\sigma^2_{\\underline{\\epsilon}_{\\underline{y}}}\n",
       "\\end{array}"
      ]
     },
     "execution_count": 6,
     "metadata": {},
     "output_type": "execute_result"
    }
   ],
   "source": [
    "cal = CovMatCalculator(graph)\n",
    "cal.calculate_cov_mat()\n",
    "cal.print_cov_mat()"
   ]
  },
  {
   "cell_type": "code",
   "execution_count": 7,
   "id": "7fe7e007-131d-40e0-bdb8-1c6982233f66",
   "metadata": {},
   "outputs": [
    {
     "data": {
      "text/latex": [
       "$\\displaystyle \\begin{array}{l}\n",
       "\\frac{\\partial\\underline{x}}{\\partial\\underline{x}}=1\n",
       "\\\\\n",
       "\\frac{\\partial\\underline{x}}{\\partial\\underline{h}}=0\n",
       "\\\\\n",
       "\\frac{\\partial\\underline{x}}{\\partial\\underline{m}}=\\frac{\\alpha_{\\underline{m}|\\underline{x}} \\sigma^2_{\\underline{\\epsilon}_{\\underline{x}}}}{\\alpha_{\\underline{m}|\\underline{x}}^{2} \\sigma^2_{\\underline{\\epsilon}_{\\underline{x}}} + \\sigma^2_{\\underline{\\epsilon}_{\\underline{m}}}}\n",
       "\\\\\n",
       "\\frac{\\partial\\underline{x}}{\\partial\\underline{y}}=\\frac{\\alpha_{\\underline{m}|\\underline{x}} \\alpha_{\\underline{y}|\\underline{m}} \\sigma^2_{\\underline{\\epsilon}_{\\underline{x}}}}{\\alpha_{\\underline{m}|\\underline{x}}^{2} \\alpha_{\\underline{y}|\\underline{m}}^{2} \\sigma^2_{\\underline{\\epsilon}_{\\underline{x}}} + \\alpha_{\\underline{y}|\\underline{h}}^{2} \\sigma^2_{\\underline{\\epsilon}_{\\underline{h}}} + \\alpha_{\\underline{y}|\\underline{m}}^{2} \\sigma^2_{\\underline{\\epsilon}_{\\underline{m}}} + \\sigma^2_{\\underline{\\epsilon}_{\\underline{y}}}}\n",
       "\\\\\n",
       "\\frac{\\partial\\underline{h}}{\\partial\\underline{x}}=0\n",
       "\\\\\n",
       "\\frac{\\partial\\underline{h}}{\\partial\\underline{h}}=1\n",
       "\\\\\n",
       "\\frac{\\partial\\underline{h}}{\\partial\\underline{m}}=0\n",
       "\\\\\n",
       "\\frac{\\partial\\underline{h}}{\\partial\\underline{y}}=\\frac{\\alpha_{\\underline{y}|\\underline{h}} \\sigma^2_{\\underline{\\epsilon}_{\\underline{h}}}}{\\alpha_{\\underline{m}|\\underline{x}}^{2} \\alpha_{\\underline{y}|\\underline{m}}^{2} \\sigma^2_{\\underline{\\epsilon}_{\\underline{x}}} + \\alpha_{\\underline{y}|\\underline{h}}^{2} \\sigma^2_{\\underline{\\epsilon}_{\\underline{h}}} + \\alpha_{\\underline{y}|\\underline{m}}^{2} \\sigma^2_{\\underline{\\epsilon}_{\\underline{m}}} + \\sigma^2_{\\underline{\\epsilon}_{\\underline{y}}}}\n",
       "\\\\\n",
       "\\frac{\\partial\\underline{m}}{\\partial\\underline{x}}=\\alpha_{\\underline{m}|\\underline{x}}\n",
       "\\\\\n",
       "\\frac{\\partial\\underline{m}}{\\partial\\underline{h}}=0\n",
       "\\\\\n",
       "\\frac{\\partial\\underline{m}}{\\partial\\underline{m}}=1\n",
       "\\\\\n",
       "\\frac{\\partial\\underline{m}}{\\partial\\underline{y}}=\\frac{\\alpha_{\\underline{y}|\\underline{m}} \\left(\\alpha_{\\underline{m}|\\underline{x}}^{2} \\sigma^2_{\\underline{\\epsilon}_{\\underline{x}}} + \\sigma^2_{\\underline{\\epsilon}_{\\underline{m}}}\\right)}{\\alpha_{\\underline{m}|\\underline{x}}^{2} \\alpha_{\\underline{y}|\\underline{m}}^{2} \\sigma^2_{\\underline{\\epsilon}_{\\underline{x}}} + \\alpha_{\\underline{y}|\\underline{h}}^{2} \\sigma^2_{\\underline{\\epsilon}_{\\underline{h}}} + \\alpha_{\\underline{y}|\\underline{m}}^{2} \\sigma^2_{\\underline{\\epsilon}_{\\underline{m}}} + \\sigma^2_{\\underline{\\epsilon}_{\\underline{y}}}}\n",
       "\\\\\n",
       "\\frac{\\partial\\underline{y}}{\\partial\\underline{x}}=\\alpha_{\\underline{m}|\\underline{x}} \\alpha_{\\underline{y}|\\underline{m}}\n",
       "\\\\\n",
       "\\frac{\\partial\\underline{y}}{\\partial\\underline{h}}=\\alpha_{\\underline{y}|\\underline{h}}\n",
       "\\\\\n",
       "\\frac{\\partial\\underline{y}}{\\partial\\underline{m}}=\\alpha_{\\underline{y}|\\underline{m}}\n",
       "\\\\\n",
       "\\frac{\\partial\\underline{y}}{\\partial\\underline{y}}=1\n",
       "\\end{array}$"
      ],
      "text/plain": [
       "\\begin{array}{l}\n",
       "\\frac{\\partial\\underline{x}}{\\partial\\underline{x}}=1\n",
       "\\\\\n",
       "\\frac{\\partial\\underline{x}}{\\partial\\underline{h}}=0\n",
       "\\\\\n",
       "\\frac{\\partial\\underline{x}}{\\partial\\underline{m}}=\\frac{\\alpha_{\\underline{m}|\\underline{x}} \\sigma^2_{\\underline{\\epsilon}_{\\underline{x}}}}{\\alpha_{\\underline{m}|\\underline{x}}^{2} \\sigma^2_{\\underline{\\epsilon}_{\\underline{x}}} + \\sigma^2_{\\underline{\\epsilon}_{\\underline{m}}}}\n",
       "\\\\\n",
       "\\frac{\\partial\\underline{x}}{\\partial\\underline{y}}=\\frac{\\alpha_{\\underline{m}|\\underline{x}} \\alpha_{\\underline{y}|\\underline{m}} \\sigma^2_{\\underline{\\epsilon}_{\\underline{x}}}}{\\alpha_{\\underline{m}|\\underline{x}}^{2} \\alpha_{\\underline{y}|\\underline{m}}^{2} \\sigma^2_{\\underline{\\epsilon}_{\\underline{x}}} + \\alpha_{\\underline{y}|\\underline{h}}^{2} \\sigma^2_{\\underline{\\epsilon}_{\\underline{h}}} + \\alpha_{\\underline{y}|\\underline{m}}^{2} \\sigma^2_{\\underline{\\epsilon}_{\\underline{m}}} + \\sigma^2_{\\underline{\\epsilon}_{\\underline{y}}}}\n",
       "\\\\\n",
       "\\frac{\\partial\\underline{h}}{\\partial\\underline{x}}=0\n",
       "\\\\\n",
       "\\frac{\\partial\\underline{h}}{\\partial\\underline{h}}=1\n",
       "\\\\\n",
       "\\frac{\\partial\\underline{h}}{\\partial\\underline{m}}=0\n",
       "\\\\\n",
       "\\frac{\\partial\\underline{h}}{\\partial\\underline{y}}=\\frac{\\alpha_{\\underline{y}|\\underline{h}} \\sigma^2_{\\underline{\\epsilon}_{\\underline{h}}}}{\\alpha_{\\underline{m}|\\underline{x}}^{2} \\alpha_{\\underline{y}|\\underline{m}}^{2} \\sigma^2_{\\underline{\\epsilon}_{\\underline{x}}} + \\alpha_{\\underline{y}|\\underline{h}}^{2} \\sigma^2_{\\underline{\\epsilon}_{\\underline{h}}} + \\alpha_{\\underline{y}|\\underline{m}}^{2} \\sigma^2_{\\underline{\\epsilon}_{\\underline{m}}} + \\sigma^2_{\\underline{\\epsilon}_{\\underline{y}}}}\n",
       "\\\\\n",
       "\\frac{\\partial\\underline{m}}{\\partial\\underline{x}}=\\alpha_{\\underline{m}|\\underline{x}}\n",
       "\\\\\n",
       "\\frac{\\partial\\underline{m}}{\\partial\\underline{h}}=0\n",
       "\\\\\n",
       "\\frac{\\partial\\underline{m}}{\\partial\\underline{m}}=1\n",
       "\\\\\n",
       "\\frac{\\partial\\underline{m}}{\\partial\\underline{y}}=\\frac{\\alpha_{\\underline{y}|\\underline{m}} \\left(\\alpha_{\\underline{m}|\\underline{x}}^{2} \\sigma^2_{\\underline{\\epsilon}_{\\underline{x}}} + \\sigma^2_{\\underline{\\epsilon}_{\\underline{m}}}\\right)}{\\alpha_{\\underline{m}|\\underline{x}}^{2} \\alpha_{\\underline{y}|\\underline{m}}^{2} \\sigma^2_{\\underline{\\epsilon}_{\\underline{x}}} + \\alpha_{\\underline{y}|\\underline{h}}^{2} \\sigma^2_{\\underline{\\epsilon}_{\\underline{h}}} + \\alpha_{\\underline{y}|\\underline{m}}^{2} \\sigma^2_{\\underline{\\epsilon}_{\\underline{m}}} + \\sigma^2_{\\underline{\\epsilon}_{\\underline{y}}}}\n",
       "\\\\\n",
       "\\frac{\\partial\\underline{y}}{\\partial\\underline{x}}=\\alpha_{\\underline{m}|\\underline{x}} \\alpha_{\\underline{y}|\\underline{m}}\n",
       "\\\\\n",
       "\\frac{\\partial\\underline{y}}{\\partial\\underline{h}}=\\alpha_{\\underline{y}|\\underline{h}}\n",
       "\\\\\n",
       "\\frac{\\partial\\underline{y}}{\\partial\\underline{m}}=\\alpha_{\\underline{y}|\\underline{m}}\n",
       "\\\\\n",
       "\\frac{\\partial\\underline{y}}{\\partial\\underline{y}}=1\n",
       "\\end{array}"
      ]
     },
     "execution_count": 7,
     "metadata": {},
     "output_type": "execute_result"
    }
   ],
   "source": [
    "cal.print_jacobian()"
   ]
  },
  {
   "cell_type": "code",
   "execution_count": null,
   "id": "377a440f-d181-4268-a615-cb129476a38e",
   "metadata": {},
   "outputs": [],
   "source": []
  }
 ],
 "metadata": {
  "kernelspec": {
   "display_name": "Python 3 (ipykernel)",
   "language": "python",
   "name": "python3"
  },
  "language_info": {
   "codemirror_mode": {
    "name": "ipython",
    "version": 3
   },
   "file_extension": ".py",
   "mimetype": "text/x-python",
   "name": "python",
   "nbconvert_exporter": "python",
   "pygments_lexer": "ipython3",
   "version": "3.10.9"
  }
 },
 "nbformat": 4,
 "nbformat_minor": 5
}
