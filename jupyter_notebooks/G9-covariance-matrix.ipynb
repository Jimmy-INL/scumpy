{
 "cells": [
  {
   "cell_type": "markdown",
   "id": "68d1a8ef-f7dc-4d43-959a-878bb0aa2e97",
   "metadata": {},
   "source": [
    "# G9 covariance matrix\n",
    "Main Reference:\n",
    "\n",
    "* <a href=https://ftp.cs.ucla.edu/pub/stat_ser/r493.pdf>A Crash Course in Good and Bad Controls</a>,\n",
    "by Carlos Cinelli, Andrew Forney and Judea Pearl\n",
    "\n",
    "In this notebook, we derive, using a symbolic manipulator (SymPy), the covariance matrix and jacobian as a function of the gains, for \n",
    "\n",
    "## G9 \n",
    "\n",
    "This covariance matrix appears at the end of that paper. "
   ]
  },
  {
   "cell_type": "code",
   "execution_count": 1,
   "id": "73d99326-85ad-40c0-b3ba-cc873ed5276e",
   "metadata": {},
   "outputs": [
    {
     "name": "stdout",
     "output_type": "stream",
     "text": [
      "C:\\Users\\rrtuc\\Desktop\\backed-up\\python-projects\\scumpy\n"
     ]
    }
   ],
   "source": [
    "# this makes sure it starts looking for things from the scumpy folder down.\n",
    "import os\n",
    "import sys\n",
    "os.chdir('../')\n",
    "sys.path.insert(0,os.getcwd())\n",
    "print(os.getcwd())"
   ]
  },
  {
   "cell_type": "code",
   "execution_count": 2,
   "id": "bfa6c1fe-c023-4169-b42c-820512fbf67f",
   "metadata": {},
   "outputs": [],
   "source": [
    "from Graph import *\n",
    "from CovMatCalculator import *"
   ]
  },
  {
   "cell_type": "code",
   "execution_count": 3,
   "id": "c83d0949-c9a8-429a-b1a2-eda0d229b558",
   "metadata": {},
   "outputs": [
    {
     "data": {
      "image/png": "[encoded data removed]",
      "text/plain": [
       "<IPython.core.display.Image object>"
      ]
     },
     "metadata": {},
     "output_type": "display_data"
    }
   ],
   "source": [
    "path = 'dot_atlas/good_bad_trols_G9.dot'\n",
    "graph = Graph(path)\n",
    "graph.draw(jupyter=True)"
   ]
  },
  {
   "cell_type": "code",
   "execution_count": 4,
   "id": "4c12a223-53ac-4d70-b124-e6f812dff43d",
   "metadata": {},
   "outputs": [
    {
     "data": {
      "text/latex": [
       "$\\displaystyle \\begin{array}{l}\n",
       "\\left\\langle\\underline{Z}, \\underline{Z}\\right\\rangle=\\sigma_{\\underline{\\epsilon}_{\\underline{Z}}}^{2}\n",
       "\\\\\n",
       "\\left\\langle\\underline{Z}, \\underline{X}\\right\\rangle=\\alpha_{\\underline{X}|\\underline{Z}} \\sigma_{\\underline{\\epsilon}_{\\underline{Z}}}^{2}\n",
       "\\\\\n",
       "\\left\\langle\\underline{Z}, \\underline{Y}\\right\\rangle=\\alpha_{\\underline{X}|\\underline{Z}} \\alpha_{\\underline{Y}|\\underline{X}} \\sigma_{\\underline{\\epsilon}_{\\underline{Z}}}^{2}\n",
       "\\\\\n",
       "\\left\\langle\\underline{X}, \\underline{Z}\\right\\rangle=\\alpha_{\\underline{X}|\\underline{Z}} \\sigma_{\\underline{\\epsilon}_{\\underline{Z}}}^{2}\n",
       "\\\\\n",
       "\\left\\langle\\underline{X}, \\underline{X}\\right\\rangle=\\alpha_{\\underline{X}|\\underline{Z}}^{2} \\sigma_{\\underline{\\epsilon}_{\\underline{Z}}}^{2} + \\sigma_{\\underline{\\epsilon}_{\\underline{X}}}^{2}\n",
       "\\\\\n",
       "\\left\\langle\\underline{X}, \\underline{Y}\\right\\rangle=\\alpha_{\\underline{Y}|\\underline{X}} \\left(\\alpha_{\\underline{X}|\\underline{Z}}^{2} \\sigma_{\\underline{\\epsilon}_{\\underline{Z}}}^{2} + \\sigma_{\\underline{\\epsilon}_{\\underline{X}}}^{2}\\right)\n",
       "\\\\\n",
       "\\left\\langle\\underline{Y}, \\underline{Z}\\right\\rangle=\\alpha_{\\underline{X}|\\underline{Z}} \\alpha_{\\underline{Y}|\\underline{X}} \\sigma_{\\underline{\\epsilon}_{\\underline{Z}}}^{2}\n",
       "\\\\\n",
       "\\left\\langle\\underline{Y}, \\underline{X}\\right\\rangle=\\alpha_{\\underline{Y}|\\underline{X}} \\left(\\alpha_{\\underline{X}|\\underline{Z}}^{2} \\sigma_{\\underline{\\epsilon}_{\\underline{Z}}}^{2} + \\sigma_{\\underline{\\epsilon}_{\\underline{X}}}^{2}\\right)\n",
       "\\\\\n",
       "\\left\\langle\\underline{Y}, \\underline{Y}\\right\\rangle=\\alpha_{\\underline{X}|\\underline{Z}}^{2} \\alpha_{\\underline{Y}|\\underline{X}}^{2} \\sigma_{\\underline{\\epsilon}_{\\underline{Z}}}^{2} + \\alpha_{\\underline{Y}|\\underline{X}}^{2} \\sigma_{\\underline{\\epsilon}_{\\underline{X}}}^{2} + \\sigma_{\\underline{\\epsilon}_{\\underline{Y}}}^{2}\n",
       "\\end{array}$"
      ],
      "text/plain": [
       "\\begin{array}{l}\n",
       "\\left\\langle\\underline{Z}, \\underline{Z}\\right\\rangle=\\sigma_{\\underline{\\epsilon}_{\\underline{Z}}}^{2}\n",
       "\\\\\n",
       "\\left\\langle\\underline{Z}, \\underline{X}\\right\\rangle=\\alpha_{\\underline{X}|\\underline{Z}} \\sigma_{\\underline{\\epsilon}_{\\underline{Z}}}^{2}\n",
       "\\\\\n",
       "\\left\\langle\\underline{Z}, \\underline{Y}\\right\\rangle=\\alpha_{\\underline{X}|\\underline{Z}} \\alpha_{\\underline{Y}|\\underline{X}} \\sigma_{\\underline{\\epsilon}_{\\underline{Z}}}^{2}\n",
       "\\\\\n",
       "\\left\\langle\\underline{X}, \\underline{Z}\\right\\rangle=\\alpha_{\\underline{X}|\\underline{Z}} \\sigma_{\\underline{\\epsilon}_{\\underline{Z}}}^{2}\n",
       "\\\\\n",
       "\\left\\langle\\underline{X}, \\underline{X}\\right\\rangle=\\alpha_{\\underline{X}|\\underline{Z}}^{2} \\sigma_{\\underline{\\epsilon}_{\\underline{Z}}}^{2} + \\sigma_{\\underline{\\epsilon}_{\\underline{X}}}^{2}\n",
       "\\\\\n",
       "\\left\\langle\\underline{X}, \\underline{Y}\\right\\rangle=\\alpha_{\\underline{Y}|\\underline{X}} \\left(\\alpha_{\\underline{X}|\\underline{Z}}^{2} \\sigma_{\\underline{\\epsilon}_{\\underline{Z}}}^{2} + \\sigma_{\\underline{\\epsilon}_{\\underline{X}}}^{2}\\right)\n",
       "\\\\\n",
       "\\left\\langle\\underline{Y}, \\underline{Z}\\right\\rangle=\\alpha_{\\underline{X}|\\underline{Z}} \\alpha_{\\underline{Y}|\\underline{X}} \\sigma_{\\underline{\\epsilon}_{\\underline{Z}}}^{2}\n",
       "\\\\\n",
       "\\left\\langle\\underline{Y}, \\underline{X}\\right\\rangle=\\alpha_{\\underline{Y}|\\underline{X}} \\left(\\alpha_{\\underline{X}|\\underline{Z}}^{2} \\sigma_{\\underline{\\epsilon}_{\\underline{Z}}}^{2} + \\sigma_{\\underline{\\epsilon}_{\\underline{X}}}^{2}\\right)\n",
       "\\\\\n",
       "\\left\\langle\\underline{Y}, \\underline{Y}\\right\\rangle=\\alpha_{\\underline{X}|\\underline{Z}}^{2} \\alpha_{\\underline{Y}|\\underline{X}}^{2} \\sigma_{\\underline{\\epsilon}_{\\underline{Z}}}^{2} + \\alpha_{\\underline{Y}|\\underline{X}}^{2} \\sigma_{\\underline{\\epsilon}_{\\underline{X}}}^{2} + \\sigma_{\\underline{\\epsilon}_{\\underline{Y}}}^{2}\n",
       "\\end{array}"
      ]
     },
     "execution_count": 4,
     "metadata": {},
     "output_type": "execute_result"
    }
   ],
   "source": [
    "cal = CovMatCalculator(graph)\n",
    "cal.calculate_cov_mat_sym()\n",
    "cal.print_cov_mat_entries()"
   ]
  },
  {
   "cell_type": "code",
   "execution_count": 5,
   "id": "ce95729c-58ec-4756-bd2d-e157014b69e0",
   "metadata": {},
   "outputs": [
    {
     "data": {
      "text/latex": [
       "$\\displaystyle \\begin{array}{l}\n",
       "\\frac{\\partial\\underline{Z}}{\\partial\\underline{Z}}=\\frac{\\sigma_{\\underline{\\epsilon}_{\\underline{Z}}}^{2}}{\\sigma_{\\underline{Z}}^{2}}\n",
       "\\\\\n",
       "\\frac{\\partial\\underline{Z}}{\\partial\\underline{X}}=\\frac{\\alpha_{\\underline{X}|\\underline{Z}} \\sigma_{\\underline{\\epsilon}_{\\underline{Z}}}^{2}}{\\sigma_{\\underline{X}}^{2}}\n",
       "\\\\\n",
       "\\frac{\\partial\\underline{Z}}{\\partial\\underline{Y}}=\\frac{\\alpha_{\\underline{X}|\\underline{Z}} \\alpha_{\\underline{Y}|\\underline{X}} \\sigma_{\\underline{\\epsilon}_{\\underline{Z}}}^{2}}{\\sigma_{\\underline{Y}}^{2}}\n",
       "\\\\\n",
       "\\frac{\\partial\\underline{X}}{\\partial\\underline{Z}}=\\frac{\\alpha_{\\underline{X}|\\underline{Z}} \\sigma_{\\underline{\\epsilon}_{\\underline{Z}}}^{2}}{\\sigma_{\\underline{Z}}^{2}}\n",
       "\\\\\n",
       "\\frac{\\partial\\underline{X}}{\\partial\\underline{X}}=\\frac{\\alpha_{\\underline{X}|\\underline{Z}}^{2} \\sigma_{\\underline{\\epsilon}_{\\underline{Z}}}^{2} + \\sigma_{\\underline{\\epsilon}_{\\underline{X}}}^{2}}{\\sigma_{\\underline{X}}^{2}}\n",
       "\\\\\n",
       "\\frac{\\partial\\underline{X}}{\\partial\\underline{Y}}=\\frac{\\alpha_{\\underline{Y}|\\underline{X}} \\left(\\alpha_{\\underline{X}|\\underline{Z}}^{2} \\sigma_{\\underline{\\epsilon}_{\\underline{Z}}}^{2} + \\sigma_{\\underline{\\epsilon}_{\\underline{X}}}^{2}\\right)}{\\sigma_{\\underline{Y}}^{2}}\n",
       "\\\\\n",
       "\\frac{\\partial\\underline{Y}}{\\partial\\underline{Z}}=\\frac{\\alpha_{\\underline{X}|\\underline{Z}} \\alpha_{\\underline{Y}|\\underline{X}} \\sigma_{\\underline{\\epsilon}_{\\underline{Z}}}^{2}}{\\sigma_{\\underline{Z}}^{2}}\n",
       "\\\\\n",
       "\\frac{\\partial\\underline{Y}}{\\partial\\underline{X}}=\\frac{\\alpha_{\\underline{Y}|\\underline{X}} \\left(\\alpha_{\\underline{X}|\\underline{Z}}^{2} \\sigma_{\\underline{\\epsilon}_{\\underline{Z}}}^{2} + \\sigma_{\\underline{\\epsilon}_{\\underline{X}}}^{2}\\right)}{\\sigma_{\\underline{X}}^{2}}\n",
       "\\\\\n",
       "\\frac{\\partial\\underline{Y}}{\\partial\\underline{Y}}=\\frac{\\alpha_{\\underline{X}|\\underline{Z}}^{2} \\alpha_{\\underline{Y}|\\underline{X}}^{2} \\sigma_{\\underline{\\epsilon}_{\\underline{Z}}}^{2} + \\alpha_{\\underline{Y}|\\underline{X}}^{2} \\sigma_{\\underline{\\epsilon}_{\\underline{X}}}^{2} + \\sigma_{\\underline{\\epsilon}_{\\underline{Y}}}^{2}}{\\sigma_{\\underline{Y}}^{2}}\n",
       "\\end{array}$"
      ],
      "text/plain": [
       "\\begin{array}{l}\n",
       "\\frac{\\partial\\underline{Z}}{\\partial\\underline{Z}}=\\frac{\\sigma_{\\underline{\\epsilon}_{\\underline{Z}}}^{2}}{\\sigma_{\\underline{Z}}^{2}}\n",
       "\\\\\n",
       "\\frac{\\partial\\underline{Z}}{\\partial\\underline{X}}=\\frac{\\alpha_{\\underline{X}|\\underline{Z}} \\sigma_{\\underline{\\epsilon}_{\\underline{Z}}}^{2}}{\\sigma_{\\underline{X}}^{2}}\n",
       "\\\\\n",
       "\\frac{\\partial\\underline{Z}}{\\partial\\underline{Y}}=\\frac{\\alpha_{\\underline{X}|\\underline{Z}} \\alpha_{\\underline{Y}|\\underline{X}} \\sigma_{\\underline{\\epsilon}_{\\underline{Z}}}^{2}}{\\sigma_{\\underline{Y}}^{2}}\n",
       "\\\\\n",
       "\\frac{\\partial\\underline{X}}{\\partial\\underline{Z}}=\\frac{\\alpha_{\\underline{X}|\\underline{Z}} \\sigma_{\\underline{\\epsilon}_{\\underline{Z}}}^{2}}{\\sigma_{\\underline{Z}}^{2}}\n",
       "\\\\\n",
       "\\frac{\\partial\\underline{X}}{\\partial\\underline{X}}=\\frac{\\alpha_{\\underline{X}|\\underline{Z}}^{2} \\sigma_{\\underline{\\epsilon}_{\\underline{Z}}}^{2} + \\sigma_{\\underline{\\epsilon}_{\\underline{X}}}^{2}}{\\sigma_{\\underline{X}}^{2}}\n",
       "\\\\\n",
       "\\frac{\\partial\\underline{X}}{\\partial\\underline{Y}}=\\frac{\\alpha_{\\underline{Y}|\\underline{X}} \\left(\\alpha_{\\underline{X}|\\underline{Z}}^{2} \\sigma_{\\underline{\\epsilon}_{\\underline{Z}}}^{2} + \\sigma_{\\underline{\\epsilon}_{\\underline{X}}}^{2}\\right)}{\\sigma_{\\underline{Y}}^{2}}\n",
       "\\\\\n",
       "\\frac{\\partial\\underline{Y}}{\\partial\\underline{Z}}=\\frac{\\alpha_{\\underline{X}|\\underline{Z}} \\alpha_{\\underline{Y}|\\underline{X}} \\sigma_{\\underline{\\epsilon}_{\\underline{Z}}}^{2}}{\\sigma_{\\underline{Z}}^{2}}\n",
       "\\\\\n",
       "\\frac{\\partial\\underline{Y}}{\\partial\\underline{X}}=\\frac{\\alpha_{\\underline{Y}|\\underline{X}} \\left(\\alpha_{\\underline{X}|\\underline{Z}}^{2} \\sigma_{\\underline{\\epsilon}_{\\underline{Z}}}^{2} + \\sigma_{\\underline{\\epsilon}_{\\underline{X}}}^{2}\\right)}{\\sigma_{\\underline{X}}^{2}}\n",
       "\\\\\n",
       "\\frac{\\partial\\underline{Y}}{\\partial\\underline{Y}}=\\frac{\\alpha_{\\underline{X}|\\underline{Z}}^{2} \\alpha_{\\underline{Y}|\\underline{X}}^{2} \\sigma_{\\underline{\\epsilon}_{\\underline{Z}}}^{2} + \\alpha_{\\underline{Y}|\\underline{X}}^{2} \\sigma_{\\underline{\\epsilon}_{\\underline{X}}}^{2} + \\sigma_{\\underline{\\epsilon}_{\\underline{Y}}}^{2}}{\\sigma_{\\underline{Y}}^{2}}\n",
       "\\end{array}"
      ]
     },
     "execution_count": 5,
     "metadata": {},
     "output_type": "execute_result"
    }
   ],
   "source": [
    "cal.print_jacobian_entries()"
   ]
  },
  {
   "cell_type": "code",
   "execution_count": null,
   "id": "32f8f8fa-4427-4827-81d7-7806a5b58a96",
   "metadata": {},
   "outputs": [],
   "source": []
  }
 ],
 "metadata": {
  "kernelspec": {
   "display_name": "Python 3 (ipykernel)",
   "language": "python",
   "name": "python3"
  },
  "language_info": {
   "codemirror_mode": {
    "name": "ipython",
    "version": 3
   },
   "file_extension": ".py",
   "mimetype": "text/x-python",
   "name": "python",
   "nbconvert_exporter": "python",
   "pygments_lexer": "ipython3",
   "version": "3.10.9"
  }
 },
 "nbformat": 4,
 "nbformat_minor": 5
}
