{
 "cells": [
  {
   "cell_type": "markdown",
   "id": "68d1a8ef-f7dc-4d43-959a-878bb0aa2e97",
   "metadata": {},
   "source": [
    "# Good and Bad Controls, Graph G1\n",
    "Main Reference:\n",
    "\n",
    "* <a href=https://ftp.cs.ucla.edu/pub/stat_ser/r493.pdf>A Crash Course in Good and Bad Controls</a>,\n",
    "by Carlos Cinelli, Andrew Forney and Judea Pearl\n",
    "\n",
    "In this notebook, we derive, using symbolic manipulator (SymPy), the results for \n",
    "\n",
    "## G1 \n",
    "\n",
    "that appear in the ending appendix of that paper "
   ]
  },
  {
   "cell_type": "code",
   "execution_count": 1,
   "id": "73d99326-85ad-40c0-b3ba-cc873ed5276e",
   "metadata": {},
   "outputs": [
    {
     "name": "stdout",
     "output_type": "stream",
     "text": [
      "C:\\Users\\rrtuc\\Desktop\\backed-up\\python-projects\\scumpy\n"
     ]
    }
   ],
   "source": [
    "# this makes sure it starts looking for things from the scumpy folder down.\n",
    "import os\n",
    "import sys\n",
    "os.chdir('../')\n",
    "sys.path.insert(0,os.getcwd())\n",
    "print(os.getcwd())"
   ]
  },
  {
   "cell_type": "code",
   "execution_count": 2,
   "id": "bfa6c1fe-c023-4169-b42c-820512fbf67f",
   "metadata": {},
   "outputs": [],
   "source": [
    "from cov_mat_from_gains import *\n",
    "from Graph import *"
   ]
  },
  {
   "cell_type": "code",
   "execution_count": 3,
   "id": "c83d0949-c9a8-429a-b1a2-eda0d229b558",
   "metadata": {},
   "outputs": [
    {
     "data": {
      "image/png": "[encoded data removed]",
      "text/plain": [
       "<IPython.core.display.Image object>"
      ]
     },
     "metadata": {},
     "output_type": "display_data"
    }
   ],
   "source": [
    "path = 'dot_atlas/good_bad_trols_G1.dot'\n",
    "graph = Graph(path)\n",
    "graph.draw(jupyter=True)"
   ]
  },
  {
   "cell_type": "code",
   "execution_count": 4,
   "id": "4c12a223-53ac-4d70-b124-e6f812dff43d",
   "metadata": {},
   "outputs": [
    {
     "name": "stdout",
     "output_type": "stream",
     "text": [
      "\n",
      "cov_mat[0:Z, 0:Z]=\n",
      "sigma_eps_0**2\n",
      "\n",
      "cov_mat[0:Z, 1:X]=\n",
      "alp_1_L_0*sigma_eps_0**2\n",
      "\n",
      "cov_mat[0:Z, 2:Y]=\n",
      "sigma_eps_0**2*(alp_1_L_0*alp_2_L_1 + alp_2_L_0)\n",
      "\n",
      "cov_mat[1:X, 0:Z]=\n",
      "alp_1_L_0*sigma_eps_0**2\n",
      "\n",
      "cov_mat[1:X, 1:X]=\n",
      "alp_1_L_0**2*sigma_eps_0**2 + sigma_eps_1**2\n",
      "\n",
      "cov_mat[1:X, 2:Y]=\n",
      "alp_1_L_0*sigma_eps_0**2*(alp_1_L_0*alp_2_L_1 + alp_2_L_0) + alp_2_L_1*sigma_eps_1**2\n",
      "\n",
      "cov_mat[2:Y, 0:Z]=\n",
      "sigma_eps_0**2*(alp_1_L_0*alp_2_L_1 + alp_2_L_0)\n",
      "\n",
      "cov_mat[2:Y, 1:X]=\n",
      "alp_1_L_0*sigma_eps_0**2*(alp_1_L_0*alp_2_L_1 + alp_2_L_0) + alp_2_L_1*sigma_eps_1**2\n",
      "\n",
      "cov_mat[2:Y, 2:Y]=\n",
      "alp_2_L_1**2*sigma_eps_1**2 + sigma_eps_0**2*(alp_1_L_0*alp_2_L_1 + alp_2_L_0)**2 + sigma_eps_2**2\n",
      "\n",
      "\n",
      "jacobian[0:Z, 0:Z]=\n",
      "sigma_eps_0**2/sigma_0**2\n",
      "\n",
      "jacobian[0:Z, 1:X]=\n",
      "alp_1_L_0*sigma_eps_0**2/sigma_1**2\n",
      "\n",
      "jacobian[0:Z, 2:Y]=\n",
      "sigma_eps_0**2*(alp_1_L_0*alp_2_L_1 + alp_2_L_0)/sigma_2**2\n",
      "\n",
      "jacobian[1:X, 0:Z]=\n",
      "alp_1_L_0*sigma_eps_0**2/sigma_0**2\n",
      "\n",
      "jacobian[1:X, 1:X]=\n",
      "(alp_1_L_0**2*sigma_eps_0**2 + sigma_eps_1**2)/sigma_1**2\n",
      "\n",
      "jacobian[1:X, 2:Y]=\n",
      "(alp_1_L_0*sigma_eps_0**2*(alp_1_L_0*alp_2_L_1 + alp_2_L_0) + alp_2_L_1*sigma_eps_1**2)/sigma_2**2\n",
      "\n",
      "jacobian[2:Y, 0:Z]=\n",
      "sigma_eps_0**2*(alp_1_L_0*alp_2_L_1 + alp_2_L_0)/sigma_0**2\n",
      "\n",
      "jacobian[2:Y, 1:X]=\n",
      "(alp_1_L_0*sigma_eps_0**2*(alp_1_L_0*alp_2_L_1 + alp_2_L_0) + alp_2_L_1*sigma_eps_1**2)/sigma_1**2\n",
      "\n",
      "jacobian[2:Y, 2:Y]=\n",
      "(alp_2_L_1**2*sigma_eps_1**2 + sigma_eps_0**2*(alp_1_L_0*alp_2_L_1 + alp_2_L_0)**2 + sigma_eps_2**2)/sigma_2**2\n"
     ]
    },
    {
     "data": {
      "text/latex": [
       "$\\displaystyle \\left[\\begin{matrix}\\sigma_{\\underline{\\epsilon}_{\\underline{Z}}}^{2} & \\alpha_{\\underline{X}|\\underline{Z}} \\sigma_{\\underline{\\epsilon}_{\\underline{Z}}}^{2} & \\sigma_{\\underline{\\epsilon}_{\\underline{Z}}}^{2} \\left(\\alpha_{\\underline{X}|\\underline{Z}} \\alpha_{\\underline{Y}|\\underline{X}} + \\alpha_{\\underline{Y}|\\underline{Z}}\\right)\\\\\\alpha_{\\underline{X}|\\underline{Z}} \\sigma_{\\underline{\\epsilon}_{\\underline{Z}}}^{2} & \\alpha_{\\underline{X}|\\underline{Z}}^{2} \\sigma_{\\underline{\\epsilon}_{\\underline{Z}}}^{2} + \\sigma_{\\underline{\\epsilon}_{\\underline{X}}}^{2} & \\alpha_{\\underline{X}|\\underline{Z}} \\sigma_{\\underline{\\epsilon}_{\\underline{Z}}}^{2} \\left(\\alpha_{\\underline{X}|\\underline{Z}} \\alpha_{\\underline{Y}|\\underline{X}} + \\alpha_{\\underline{Y}|\\underline{Z}}\\right) + \\alpha_{\\underline{Y}|\\underline{X}} \\sigma_{\\underline{\\epsilon}_{\\underline{X}}}^{2}\\\\\\sigma_{\\underline{\\epsilon}_{\\underline{Z}}}^{2} \\left(\\alpha_{\\underline{X}|\\underline{Z}} \\alpha_{\\underline{Y}|\\underline{X}} + \\alpha_{\\underline{Y}|\\underline{Z}}\\right) & \\alpha_{\\underline{X}|\\underline{Z}} \\sigma_{\\underline{\\epsilon}_{\\underline{Z}}}^{2} \\left(\\alpha_{\\underline{X}|\\underline{Z}} \\alpha_{\\underline{Y}|\\underline{X}} + \\alpha_{\\underline{Y}|\\underline{Z}}\\right) + \\alpha_{\\underline{Y}|\\underline{X}} \\sigma_{\\underline{\\epsilon}_{\\underline{X}}}^{2} & \\alpha_{\\underline{Y}|\\underline{X}}^{2} \\sigma_{\\underline{\\epsilon}_{\\underline{X}}}^{2} + \\sigma_{\\underline{\\epsilon}_{\\underline{Y}}}^{2} + \\sigma_{\\underline{\\epsilon}_{\\underline{Z}}}^{2} \\left(\\alpha_{\\underline{X}|\\underline{Z}} \\alpha_{\\underline{Y}|\\underline{X}} + \\alpha_{\\underline{Y}|\\underline{Z}}\\right)^{2}\\end{matrix}\\right]\n",
       "\\left[\\begin{matrix}\\frac{\\sigma_{\\underline{\\epsilon}_{\\underline{Z}}}^{2}}{\\sigma_{\\underline{Z}}^{2}} & \\frac{\\alpha_{\\underline{X}|\\underline{Z}} \\sigma_{\\underline{\\epsilon}_{\\underline{Z}}}^{2}}{\\sigma_{\\underline{X}}^{2}} & \\frac{\\sigma_{\\underline{\\epsilon}_{\\underline{Z}}}^{2} \\left(\\alpha_{\\underline{X}|\\underline{Z}} \\alpha_{\\underline{Y}|\\underline{X}} + \\alpha_{\\underline{Y}|\\underline{Z}}\\right)}{\\sigma_{\\underline{Y}}^{2}}\\\\\\frac{\\alpha_{\\underline{X}|\\underline{Z}} \\sigma_{\\underline{\\epsilon}_{\\underline{Z}}}^{2}}{\\sigma_{\\underline{Z}}^{2}} & \\frac{\\alpha_{\\underline{X}|\\underline{Z}}^{2} \\sigma_{\\underline{\\epsilon}_{\\underline{Z}}}^{2} + \\sigma_{\\underline{\\epsilon}_{\\underline{X}}}^{2}}{\\sigma_{\\underline{X}}^{2}} & \\frac{\\alpha_{\\underline{X}|\\underline{Z}} \\sigma_{\\underline{\\epsilon}_{\\underline{Z}}}^{2} \\left(\\alpha_{\\underline{X}|\\underline{Z}} \\alpha_{\\underline{Y}|\\underline{X}} + \\alpha_{\\underline{Y}|\\underline{Z}}\\right) + \\alpha_{\\underline{Y}|\\underline{X}} \\sigma_{\\underline{\\epsilon}_{\\underline{X}}}^{2}}{\\sigma_{\\underline{Y}}^{2}}\\\\\\frac{\\sigma_{\\underline{\\epsilon}_{\\underline{Z}}}^{2} \\left(\\alpha_{\\underline{X}|\\underline{Z}} \\alpha_{\\underline{Y}|\\underline{X}} + \\alpha_{\\underline{Y}|\\underline{Z}}\\right)}{\\sigma_{\\underline{Z}}^{2}} & \\frac{\\alpha_{\\underline{X}|\\underline{Z}} \\sigma_{\\underline{\\epsilon}_{\\underline{Z}}}^{2} \\left(\\alpha_{\\underline{X}|\\underline{Z}} \\alpha_{\\underline{Y}|\\underline{X}} + \\alpha_{\\underline{Y}|\\underline{Z}}\\right) + \\alpha_{\\underline{Y}|\\underline{X}} \\sigma_{\\underline{\\epsilon}_{\\underline{X}}}^{2}}{\\sigma_{\\underline{X}}^{2}} & \\frac{\\alpha_{\\underline{Y}|\\underline{X}}^{2} \\sigma_{\\underline{\\epsilon}_{\\underline{X}}}^{2} + \\sigma_{\\underline{\\epsilon}_{\\underline{Y}}}^{2} + \\sigma_{\\underline{\\epsilon}_{\\underline{Z}}}^{2} \\left(\\alpha_{\\underline{X}|\\underline{Z}} \\alpha_{\\underline{Y}|\\underline{X}} + \\alpha_{\\underline{Y}|\\underline{Z}}\\right)^{2}}{\\sigma_{\\underline{Y}}^{2}}\\end{matrix}\\right]$"
      ],
      "text/plain": [
       "\\left[\\begin{matrix}\\sigma_{\\underline{\\epsilon}_{\\underline{Z}}}^{2} & \\alpha_{\\underline{X}|\\underline{Z}} \\sigma_{\\underline{\\epsilon}_{\\underline{Z}}}^{2} & \\sigma_{\\underline{\\epsilon}_{\\underline{Z}}}^{2} \\left(\\alpha_{\\underline{X}|\\underline{Z}} \\alpha_{\\underline{Y}|\\underline{X}} + \\alpha_{\\underline{Y}|\\underline{Z}}\\right)\\\\\\alpha_{\\underline{X}|\\underline{Z}} \\sigma_{\\underline{\\epsilon}_{\\underline{Z}}}^{2} & \\alpha_{\\underline{X}|\\underline{Z}}^{2} \\sigma_{\\underline{\\epsilon}_{\\underline{Z}}}^{2} + \\sigma_{\\underline{\\epsilon}_{\\underline{X}}}^{2} & \\alpha_{\\underline{X}|\\underline{Z}} \\sigma_{\\underline{\\epsilon}_{\\underline{Z}}}^{2} \\left(\\alpha_{\\underline{X}|\\underline{Z}} \\alpha_{\\underline{Y}|\\underline{X}} + \\alpha_{\\underline{Y}|\\underline{Z}}\\right) + \\alpha_{\\underline{Y}|\\underline{X}} \\sigma_{\\underline{\\epsilon}_{\\underline{X}}}^{2}\\\\\\sigma_{\\underline{\\epsilon}_{\\underline{Z}}}^{2} \\left(\\alpha_{\\underline{X}|\\underline{Z}} \\alpha_{\\underline{Y}|\\underline{X}} + \\alpha_{\\underline{Y}|\\underline{Z}}\\right) & \\alpha_{\\underline{X}|\\underline{Z}} \\sigma_{\\underline{\\epsilon}_{\\underline{Z}}}^{2} \\left(\\alpha_{\\underline{X}|\\underline{Z}} \\alpha_{\\underline{Y}|\\underline{X}} + \\alpha_{\\underline{Y}|\\underline{Z}}\\right) + \\alpha_{\\underline{Y}|\\underline{X}} \\sigma_{\\underline{\\epsilon}_{\\underline{X}}}^{2} & \\alpha_{\\underline{Y}|\\underline{X}}^{2} \\sigma_{\\underline{\\epsilon}_{\\underline{X}}}^{2} + \\sigma_{\\underline{\\epsilon}_{\\underline{Y}}}^{2} + \\sigma_{\\underline{\\epsilon}_{\\underline{Z}}}^{2} \\left(\\alpha_{\\underline{X}|\\underline{Z}} \\alpha_{\\underline{Y}|\\underline{X}} + \\alpha_{\\underline{Y}|\\underline{Z}}\\right)^{2}\\end{matrix}\\right]\n",
       "\\left[\\begin{matrix}\\frac{\\sigma_{\\underline{\\epsilon}_{\\underline{Z}}}^{2}}{\\sigma_{\\underline{Z}}^{2}} & \\frac{\\alpha_{\\underline{X}|\\underline{Z}} \\sigma_{\\underline{\\epsilon}_{\\underline{Z}}}^{2}}{\\sigma_{\\underline{X}}^{2}} & \\frac{\\sigma_{\\underline{\\epsilon}_{\\underline{Z}}}^{2} \\left(\\alpha_{\\underline{X}|\\underline{Z}} \\alpha_{\\underline{Y}|\\underline{X}} + \\alpha_{\\underline{Y}|\\underline{Z}}\\right)}{\\sigma_{\\underline{Y}}^{2}}\\\\\\frac{\\alpha_{\\underline{X}|\\underline{Z}} \\sigma_{\\underline{\\epsilon}_{\\underline{Z}}}^{2}}{\\sigma_{\\underline{Z}}^{2}} & \\frac{\\alpha_{\\underline{X}|\\underline{Z}}^{2} \\sigma_{\\underline{\\epsilon}_{\\underline{Z}}}^{2} + \\sigma_{\\underline{\\epsilon}_{\\underline{X}}}^{2}}{\\sigma_{\\underline{X}}^{2}} & \\frac{\\alpha_{\\underline{X}|\\underline{Z}} \\sigma_{\\underline{\\epsilon}_{\\underline{Z}}}^{2} \\left(\\alpha_{\\underline{X}|\\underline{Z}} \\alpha_{\\underline{Y}|\\underline{X}} + \\alpha_{\\underline{Y}|\\underline{Z}}\\right) + \\alpha_{\\underline{Y}|\\underline{X}} \\sigma_{\\underline{\\epsilon}_{\\underline{X}}}^{2}}{\\sigma_{\\underline{Y}}^{2}}\\\\\\frac{\\sigma_{\\underline{\\epsilon}_{\\underline{Z}}}^{2} \\left(\\alpha_{\\underline{X}|\\underline{Z}} \\alpha_{\\underline{Y}|\\underline{X}} + \\alpha_{\\underline{Y}|\\underline{Z}}\\right)}{\\sigma_{\\underline{Z}}^{2}} & \\frac{\\alpha_{\\underline{X}|\\underline{Z}} \\sigma_{\\underline{\\epsilon}_{\\underline{Z}}}^{2} \\left(\\alpha_{\\underline{X}|\\underline{Z}} \\alpha_{\\underline{Y}|\\underline{X}} + \\alpha_{\\underline{Y}|\\underline{Z}}\\right) + \\alpha_{\\underline{Y}|\\underline{X}} \\sigma_{\\underline{\\epsilon}_{\\underline{X}}}^{2}}{\\sigma_{\\underline{X}}^{2}} & \\frac{\\alpha_{\\underline{Y}|\\underline{X}}^{2} \\sigma_{\\underline{\\epsilon}_{\\underline{X}}}^{2} + \\sigma_{\\underline{\\epsilon}_{\\underline{Y}}}^{2} + \\sigma_{\\underline{\\epsilon}_{\\underline{Z}}}^{2} \\left(\\alpha_{\\underline{X}|\\underline{Z}} \\alpha_{\\underline{Y}|\\underline{X}} + \\alpha_{\\underline{Y}|\\underline{Z}}\\right)^{2}}{\\sigma_{\\underline{Y}}^{2}}\\end{matrix}\\right]"
      ]
     },
     "execution_count": 4,
     "metadata": {},
     "output_type": "execute_result"
    }
   ],
   "source": [
    "get_cov_mat_from_gains(graph, verbose=True, latex=False)"
   ]
  },
  {
   "cell_type": "code",
   "execution_count": 5,
   "id": "ce95729c-58ec-4756-bd2d-e157014b69e0",
   "metadata": {},
   "outputs": [
    {
     "data": {
      "text/latex": [
       "$$\n",
       "\\langle\\underline{Z}, \\underline{Z}\\rangle=\\sigma_{\\underline{\\epsilon}_{\\underline{Z}}}^{2}$$\n",
       "$$\n",
       "\\langle\\underline{Z}, \\underline{X}\\rangle=\\alpha_{\\underline{X}|\\underline{Z}} \\sigma_{\\underline{\\epsilon}_{\\underline{Z}}}^{2}$$\n",
       "$$\n",
       "\\langle\\underline{Z}, \\underline{Y}\\rangle=\\sigma_{\\underline{\\epsilon}_{\\underline{Z}}}^{2} \\left(\\alpha_{\\underline{X}|\\underline{Z}} \\alpha_{\\underline{Y}|\\underline{X}} + \\alpha_{\\underline{Y}|\\underline{Z}}\\right)$$\n",
       "$$\n",
       "\\langle\\underline{X}, \\underline{Z}\\rangle=\\alpha_{\\underline{X}|\\underline{Z}} \\sigma_{\\underline{\\epsilon}_{\\underline{Z}}}^{2}$$\n",
       "$$\n",
       "\\langle\\underline{X}, \\underline{X}\\rangle=\\alpha_{\\underline{X}|\\underline{Z}}^{2} \\sigma_{\\underline{\\epsilon}_{\\underline{Z}}}^{2} + \\sigma_{\\underline{\\epsilon}_{\\underline{X}}}^{2}$$\n",
       "$$\n",
       "\\langle\\underline{X}, \\underline{Y}\\rangle=\\alpha_{\\underline{X}|\\underline{Z}} \\sigma_{\\underline{\\epsilon}_{\\underline{Z}}}^{2} \\left(\\alpha_{\\underline{X}|\\underline{Z}} \\alpha_{\\underline{Y}|\\underline{X}} + \\alpha_{\\underline{Y}|\\underline{Z}}\\right) + \\alpha_{\\underline{Y}|\\underline{X}} \\sigma_{\\underline{\\epsilon}_{\\underline{X}}}^{2}$$\n",
       "$$\n",
       "\\langle\\underline{Y}, \\underline{Z}\\rangle=\\sigma_{\\underline{\\epsilon}_{\\underline{Z}}}^{2} \\left(\\alpha_{\\underline{X}|\\underline{Z}} \\alpha_{\\underline{Y}|\\underline{X}} + \\alpha_{\\underline{Y}|\\underline{Z}}\\right)$$\n",
       "$$\n",
       "\\langle\\underline{Y}, \\underline{X}\\rangle=\\alpha_{\\underline{X}|\\underline{Z}} \\sigma_{\\underline{\\epsilon}_{\\underline{Z}}}^{2} \\left(\\alpha_{\\underline{X}|\\underline{Z}} \\alpha_{\\underline{Y}|\\underline{X}} + \\alpha_{\\underline{Y}|\\underline{Z}}\\right) + \\alpha_{\\underline{Y}|\\underline{X}} \\sigma_{\\underline{\\epsilon}_{\\underline{X}}}^{2}$$\n",
       "$$\n",
       "\\langle\\underline{Y}, \\underline{Y}\\rangle=\\alpha_{\\underline{Y}|\\underline{X}}^{2} \\sigma_{\\underline{\\epsilon}_{\\underline{X}}}^{2} + \\sigma_{\\underline{\\epsilon}_{\\underline{Y}}}^{2} + \\sigma_{\\underline{\\epsilon}_{\\underline{Z}}}^{2} \\left(\\alpha_{\\underline{X}|\\underline{Z}} \\alpha_{\\underline{Y}|\\underline{X}} + \\alpha_{\\underline{Y}|\\underline{Z}}\\right)^{2}$$\n",
       "\n",
       "$$\n",
       "\\frac{\\partial\\underline{Z}}{\\partial\\underline{Z}}=\\frac{\\sigma_{\\underline{\\epsilon}_{\\underline{Z}}}^{2}}{\\sigma_{\\underline{Z}}^{2}}$$\n",
       "$$\n",
       "\\frac{\\partial\\underline{Z}}{\\partial\\underline{X}}=\\frac{\\alpha_{\\underline{X}|\\underline{Z}} \\sigma_{\\underline{\\epsilon}_{\\underline{Z}}}^{2}}{\\sigma_{\\underline{X}}^{2}}$$\n",
       "$$\n",
       "\\frac{\\partial\\underline{Z}}{\\partial\\underline{Y}}=\\frac{\\sigma_{\\underline{\\epsilon}_{\\underline{Z}}}^{2} \\left(\\alpha_{\\underline{X}|\\underline{Z}} \\alpha_{\\underline{Y}|\\underline{X}} + \\alpha_{\\underline{Y}|\\underline{Z}}\\right)}{\\sigma_{\\underline{Y}}^{2}}$$\n",
       "$$\n",
       "\\frac{\\partial\\underline{X}}{\\partial\\underline{Z}}=\\frac{\\alpha_{\\underline{X}|\\underline{Z}} \\sigma_{\\underline{\\epsilon}_{\\underline{Z}}}^{2}}{\\sigma_{\\underline{Z}}^{2}}$$\n",
       "$$\n",
       "\\frac{\\partial\\underline{X}}{\\partial\\underline{X}}=\\frac{\\alpha_{\\underline{X}|\\underline{Z}}^{2} \\sigma_{\\underline{\\epsilon}_{\\underline{Z}}}^{2} + \\sigma_{\\underline{\\epsilon}_{\\underline{X}}}^{2}}{\\sigma_{\\underline{X}}^{2}}$$\n",
       "$$\n",
       "\\frac{\\partial\\underline{X}}{\\partial\\underline{Y}}=\\frac{\\alpha_{\\underline{X}|\\underline{Z}} \\sigma_{\\underline{\\epsilon}_{\\underline{Z}}}^{2} \\left(\\alpha_{\\underline{X}|\\underline{Z}} \\alpha_{\\underline{Y}|\\underline{X}} + \\alpha_{\\underline{Y}|\\underline{Z}}\\right) + \\alpha_{\\underline{Y}|\\underline{X}} \\sigma_{\\underline{\\epsilon}_{\\underline{X}}}^{2}}{\\sigma_{\\underline{Y}}^{2}}$$\n",
       "$$\n",
       "\\frac{\\partial\\underline{Y}}{\\partial\\underline{Z}}=\\frac{\\sigma_{\\underline{\\epsilon}_{\\underline{Z}}}^{2} \\left(\\alpha_{\\underline{X}|\\underline{Z}} \\alpha_{\\underline{Y}|\\underline{X}} + \\alpha_{\\underline{Y}|\\underline{Z}}\\right)}{\\sigma_{\\underline{Z}}^{2}}$$\n",
       "$$\n",
       "\\frac{\\partial\\underline{Y}}{\\partial\\underline{X}}=\\frac{\\alpha_{\\underline{X}|\\underline{Z}} \\sigma_{\\underline{\\epsilon}_{\\underline{Z}}}^{2} \\left(\\alpha_{\\underline{X}|\\underline{Z}} \\alpha_{\\underline{Y}|\\underline{X}} + \\alpha_{\\underline{Y}|\\underline{Z}}\\right) + \\alpha_{\\underline{Y}|\\underline{X}} \\sigma_{\\underline{\\epsilon}_{\\underline{X}}}^{2}}{\\sigma_{\\underline{X}}^{2}}$$\n",
       "$$\n",
       "\\frac{\\partial\\underline{Y}}{\\partial\\underline{Y}}=\\frac{\\alpha_{\\underline{Y}|\\underline{X}}^{2} \\sigma_{\\underline{\\epsilon}_{\\underline{X}}}^{2} + \\sigma_{\\underline{\\epsilon}_{\\underline{Y}}}^{2} + \\sigma_{\\underline{\\epsilon}_{\\underline{Z}}}^{2} \\left(\\alpha_{\\underline{X}|\\underline{Z}} \\alpha_{\\underline{Y}|\\underline{X}} + \\alpha_{\\underline{Y}|\\underline{Z}}\\right)^{2}}{\\sigma_{\\underline{Y}}^{2}}$$\n"
      ],
      "text/plain": [
       "<IPython.core.display.Latex object>"
      ]
     },
     "metadata": {},
     "output_type": "display_data"
    }
   ],
   "source": [
    "%%latex\n",
    "$$\n",
    "\\langle\\underline{Z}, \\underline{Z}\\rangle=\\sigma_{\\underline{\\epsilon}_{\\underline{Z}}}^{2}$$\n",
    "$$\n",
    "\\langle\\underline{Z}, \\underline{X}\\rangle=\\alpha_{\\underline{X}|\\underline{Z}} \\sigma_{\\underline{\\epsilon}_{\\underline{Z}}}^{2}$$\n",
    "$$\n",
    "\\langle\\underline{Z}, \\underline{Y}\\rangle=\\sigma_{\\underline{\\epsilon}_{\\underline{Z}}}^{2} \\left(\\alpha_{\\underline{X}|\\underline{Z}} \\alpha_{\\underline{Y}|\\underline{X}} + \\alpha_{\\underline{Y}|\\underline{Z}}\\right)$$\n",
    "$$\n",
    "\\langle\\underline{X}, \\underline{Z}\\rangle=\\alpha_{\\underline{X}|\\underline{Z}} \\sigma_{\\underline{\\epsilon}_{\\underline{Z}}}^{2}$$\n",
    "$$\n",
    "\\langle\\underline{X}, \\underline{X}\\rangle=\\alpha_{\\underline{X}|\\underline{Z}}^{2} \\sigma_{\\underline{\\epsilon}_{\\underline{Z}}}^{2} + \\sigma_{\\underline{\\epsilon}_{\\underline{X}}}^{2}$$\n",
    "$$\n",
    "\\langle\\underline{X}, \\underline{Y}\\rangle=\\alpha_{\\underline{X}|\\underline{Z}} \\sigma_{\\underline{\\epsilon}_{\\underline{Z}}}^{2} \\left(\\alpha_{\\underline{X}|\\underline{Z}} \\alpha_{\\underline{Y}|\\underline{X}} + \\alpha_{\\underline{Y}|\\underline{Z}}\\right) + \\alpha_{\\underline{Y}|\\underline{X}} \\sigma_{\\underline{\\epsilon}_{\\underline{X}}}^{2}$$\n",
    "$$\n",
    "\\langle\\underline{Y}, \\underline{Z}\\rangle=\\sigma_{\\underline{\\epsilon}_{\\underline{Z}}}^{2} \\left(\\alpha_{\\underline{X}|\\underline{Z}} \\alpha_{\\underline{Y}|\\underline{X}} + \\alpha_{\\underline{Y}|\\underline{Z}}\\right)$$\n",
    "$$\n",
    "\\langle\\underline{Y}, \\underline{X}\\rangle=\\alpha_{\\underline{X}|\\underline{Z}} \\sigma_{\\underline{\\epsilon}_{\\underline{Z}}}^{2} \\left(\\alpha_{\\underline{X}|\\underline{Z}} \\alpha_{\\underline{Y}|\\underline{X}} + \\alpha_{\\underline{Y}|\\underline{Z}}\\right) + \\alpha_{\\underline{Y}|\\underline{X}} \\sigma_{\\underline{\\epsilon}_{\\underline{X}}}^{2}$$\n",
    "$$\n",
    "\\langle\\underline{Y}, \\underline{Y}\\rangle=\\alpha_{\\underline{Y}|\\underline{X}}^{2} \\sigma_{\\underline{\\epsilon}_{\\underline{X}}}^{2} + \\sigma_{\\underline{\\epsilon}_{\\underline{Y}}}^{2} + \\sigma_{\\underline{\\epsilon}_{\\underline{Z}}}^{2} \\left(\\alpha_{\\underline{X}|\\underline{Z}} \\alpha_{\\underline{Y}|\\underline{X}} + \\alpha_{\\underline{Y}|\\underline{Z}}\\right)^{2}$$\n",
    "\n",
    "$$\n",
    "\\frac{\\partial\\underline{Z}}{\\partial\\underline{Z}}=\\frac{\\sigma_{\\underline{\\epsilon}_{\\underline{Z}}}^{2}}{\\sigma_{\\underline{Z}}^{2}}$$\n",
    "$$\n",
    "\\frac{\\partial\\underline{Z}}{\\partial\\underline{X}}=\\frac{\\alpha_{\\underline{X}|\\underline{Z}} \\sigma_{\\underline{\\epsilon}_{\\underline{Z}}}^{2}}{\\sigma_{\\underline{X}}^{2}}$$\n",
    "$$\n",
    "\\frac{\\partial\\underline{Z}}{\\partial\\underline{Y}}=\\frac{\\sigma_{\\underline{\\epsilon}_{\\underline{Z}}}^{2} \\left(\\alpha_{\\underline{X}|\\underline{Z}} \\alpha_{\\underline{Y}|\\underline{X}} + \\alpha_{\\underline{Y}|\\underline{Z}}\\right)}{\\sigma_{\\underline{Y}}^{2}}$$\n",
    "$$\n",
    "\\frac{\\partial\\underline{X}}{\\partial\\underline{Z}}=\\frac{\\alpha_{\\underline{X}|\\underline{Z}} \\sigma_{\\underline{\\epsilon}_{\\underline{Z}}}^{2}}{\\sigma_{\\underline{Z}}^{2}}$$\n",
    "$$\n",
    "\\frac{\\partial\\underline{X}}{\\partial\\underline{X}}=\\frac{\\alpha_{\\underline{X}|\\underline{Z}}^{2} \\sigma_{\\underline{\\epsilon}_{\\underline{Z}}}^{2} + \\sigma_{\\underline{\\epsilon}_{\\underline{X}}}^{2}}{\\sigma_{\\underline{X}}^{2}}$$\n",
    "$$\n",
    "\\frac{\\partial\\underline{X}}{\\partial\\underline{Y}}=\\frac{\\alpha_{\\underline{X}|\\underline{Z}} \\sigma_{\\underline{\\epsilon}_{\\underline{Z}}}^{2} \\left(\\alpha_{\\underline{X}|\\underline{Z}} \\alpha_{\\underline{Y}|\\underline{X}} + \\alpha_{\\underline{Y}|\\underline{Z}}\\right) + \\alpha_{\\underline{Y}|\\underline{X}} \\sigma_{\\underline{\\epsilon}_{\\underline{X}}}^{2}}{\\sigma_{\\underline{Y}}^{2}}$$\n",
    "$$\n",
    "\\frac{\\partial\\underline{Y}}{\\partial\\underline{Z}}=\\frac{\\sigma_{\\underline{\\epsilon}_{\\underline{Z}}}^{2} \\left(\\alpha_{\\underline{X}|\\underline{Z}} \\alpha_{\\underline{Y}|\\underline{X}} + \\alpha_{\\underline{Y}|\\underline{Z}}\\right)}{\\sigma_{\\underline{Z}}^{2}}$$\n",
    "$$\n",
    "\\frac{\\partial\\underline{Y}}{\\partial\\underline{X}}=\\frac{\\alpha_{\\underline{X}|\\underline{Z}} \\sigma_{\\underline{\\epsilon}_{\\underline{Z}}}^{2} \\left(\\alpha_{\\underline{X}|\\underline{Z}} \\alpha_{\\underline{Y}|\\underline{X}} + \\alpha_{\\underline{Y}|\\underline{Z}}\\right) + \\alpha_{\\underline{Y}|\\underline{X}} \\sigma_{\\underline{\\epsilon}_{\\underline{X}}}^{2}}{\\sigma_{\\underline{X}}^{2}}$$\n",
    "$$\n",
    "\\frac{\\partial\\underline{Y}}{\\partial\\underline{Y}}=\\frac{\\alpha_{\\underline{Y}|\\underline{X}}^{2} \\sigma_{\\underline{\\epsilon}_{\\underline{X}}}^{2} + \\sigma_{\\underline{\\epsilon}_{\\underline{Y}}}^{2} + \\sigma_{\\underline{\\epsilon}_{\\underline{Z}}}^{2} \\left(\\alpha_{\\underline{X}|\\underline{Z}} \\alpha_{\\underline{Y}|\\underline{X}} + \\alpha_{\\underline{Y}|\\underline{Z}}\\right)^{2}}{\\sigma_{\\underline{Y}}^{2}}$$"
   ]
  },
  {
   "cell_type": "code",
   "execution_count": null,
   "id": "32f8f8fa-4427-4827-81d7-7806a5b58a96",
   "metadata": {},
   "outputs": [],
   "source": []
  }
 ],
 "metadata": {
  "kernelspec": {
   "display_name": "Python 3 (ipykernel)",
   "language": "python",
   "name": "python3"
  },
  "language_info": {
   "codemirror_mode": {
    "name": "ipython",
    "version": 3
   },
   "file_extension": ".py",
   "mimetype": "text/x-python",
   "name": "python",
   "nbconvert_exporter": "python",
   "pygments_lexer": "ipython3",
   "version": "3.10.9"
  }
 },
 "nbformat": 4,
 "nbformat_minor": 5
}
