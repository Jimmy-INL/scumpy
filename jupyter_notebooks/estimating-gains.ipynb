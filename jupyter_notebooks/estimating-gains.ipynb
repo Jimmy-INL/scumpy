{
 "cells": [
  {
   "cell_type": "markdown",
   "id": "e87ed3e3-0ed2-48ad-b200-26fd8515a567",
   "metadata": {},
   "source": [
    "# Estimating Gains from node values dataset\n",
    "\n",
    "This notebook shows how to estimate the gain $\\alpha_{i|j}$\n",
    "for each arrow $\\underline{x}_j\\rightarrow \\underline{x}_i$ in the DAG. The estimation algorithm requires as input\n",
    "a file which contains a dataset with the node names as column labels,\n",
    "and with instances of the node values as rows.\n",
    "\n",
    "The input dataset column labels must include ALL node names, and nothing\n",
    "else, but these column labels need not be in topological order (as they\n",
    "are in self.ord_nodes).\n",
    "\n",
    "A list of hidden nodes is an argument of the class constructor with None \n",
    "    as default value. Columns of\n",
    "the input dataset corresponding to hidden nodes will be ignored. Hence,\n",
    "these column entries can be any number. Correlations \n",
    "$\\langle\\underline{a},\\underline{b}\\rangle$\n",
    "where $\\underline{a}$ or $\\underline{b}$ is a hidden node will be expressed symbolically; otherwise,\n",
    "they will be expressed numerically.\n",
    "\n"
   ]
  },
  {
   "cell_type": "code",
   "execution_count": 1,
   "id": "93b07c3c-5350-4310-9273-303587eb3f02",
   "metadata": {},
   "outputs": [
    {
     "name": "stdout",
     "output_type": "stream",
     "text": [
      "C:\\Users\\rrtuc\\Desktop\\backed-up\\python-projects\\scumpy\n"
     ]
    }
   ],
   "source": [
    "# this makes sure it starts looking for things from the scumpy folder down.\n",
    "import os\n",
    "import sys\n",
    "os.chdir('../')\n",
    "sys.path.insert(0,os.getcwd())\n",
    "print(os.getcwd())"
   ]
  },
  {
   "cell_type": "code",
   "execution_count": 2,
   "id": "51e2e1d3-6666-4363-9523-9bead119890e",
   "metadata": {},
   "outputs": [
    {
     "data": {
      "image/png": "[encoded data removed]",
      "text/plain": [
       "<IPython.core.display.Image object>"
      ]
     },
     "metadata": {},
     "output_type": "display_data"
    }
   ],
   "source": [
    "# create Graph from dot file and draw it\n",
    "from Graph import *\n",
    "dot_path = 'dot_atlas/good_bad_trols_G1.dot'\n",
    "graph = Graph(dot_path)\n",
    "graph.draw(jupyter=True)"
   ]
  },
  {
   "cell_type": "code",
   "execution_count": 3,
   "id": "9567bc6b-2a55-45a9-8266-7f6c820b649d",
   "metadata": {},
   "outputs": [
    {
     "data": {
      "text/html": [
       "<div>\n",
       "<style scoped>\n",
       "    .dataframe tbody tr th:only-of-type {\n",
       "        vertical-align: middle;\n",
       "    }\n",
       "\n",
       "    .dataframe tbody tr th {\n",
       "        vertical-align: top;\n",
       "    }\n",
       "\n",
       "    .dataframe thead th {\n",
       "        text-align: right;\n",
       "    }\n",
       "</style>\n",
       "<table border=\"1\" class=\"dataframe\">\n",
       "  <thead>\n",
       "    <tr style=\"text-align: right;\">\n",
       "      <th></th>\n",
       "      <th>Z</th>\n",
       "      <th>X</th>\n",
       "      <th>Y</th>\n",
       "    </tr>\n",
       "  </thead>\n",
       "  <tbody>\n",
       "    <tr>\n",
       "      <th>0</th>\n",
       "      <td>0.967253</td>\n",
       "      <td>0.923011</td>\n",
       "      <td>1.314732</td>\n",
       "    </tr>\n",
       "    <tr>\n",
       "      <th>1</th>\n",
       "      <td>1.217311</td>\n",
       "      <td>0.984559</td>\n",
       "      <td>1.277700</td>\n",
       "    </tr>\n",
       "    <tr>\n",
       "      <th>2</th>\n",
       "      <td>1.155886</td>\n",
       "      <td>0.876732</td>\n",
       "      <td>1.457991</td>\n",
       "    </tr>\n",
       "    <tr>\n",
       "      <th>3</th>\n",
       "      <td>0.846585</td>\n",
       "      <td>0.788814</td>\n",
       "      <td>1.309391</td>\n",
       "    </tr>\n",
       "    <tr>\n",
       "      <th>4</th>\n",
       "      <td>0.953579</td>\n",
       "      <td>1.078970</td>\n",
       "      <td>1.511265</td>\n",
       "    </tr>\n",
       "    <tr>\n",
       "      <th>...</th>\n",
       "      <td>...</td>\n",
       "      <td>...</td>\n",
       "      <td>...</td>\n",
       "    </tr>\n",
       "    <tr>\n",
       "      <th>995</th>\n",
       "      <td>1.072326</td>\n",
       "      <td>0.846027</td>\n",
       "      <td>1.008678</td>\n",
       "    </tr>\n",
       "    <tr>\n",
       "      <th>996</th>\n",
       "      <td>1.151633</td>\n",
       "      <td>0.971220</td>\n",
       "      <td>1.181494</td>\n",
       "    </tr>\n",
       "    <tr>\n",
       "      <th>997</th>\n",
       "      <td>1.066977</td>\n",
       "      <td>0.923387</td>\n",
       "      <td>1.385088</td>\n",
       "    </tr>\n",
       "    <tr>\n",
       "      <th>998</th>\n",
       "      <td>0.892408</td>\n",
       "      <td>0.925428</td>\n",
       "      <td>1.261276</td>\n",
       "    </tr>\n",
       "    <tr>\n",
       "      <th>999</th>\n",
       "      <td>1.108711</td>\n",
       "      <td>0.836304</td>\n",
       "      <td>1.271581</td>\n",
       "    </tr>\n",
       "  </tbody>\n",
       "</table>\n",
       "<p>1000 rows × 3 columns</p>\n",
       "</div>"
      ],
      "text/plain": [
       "            Z         X         Y\n",
       "0    0.967253  0.923011  1.314732\n",
       "1    1.217311  0.984559  1.277700\n",
       "2    1.155886  0.876732  1.457991\n",
       "3    0.846585  0.788814  1.309391\n",
       "4    0.953579  1.078970  1.511265\n",
       "..        ...       ...       ...\n",
       "995  1.072326  0.846027  1.008678\n",
       "996  1.151633  0.971220  1.181494\n",
       "997  1.066977  0.923387  1.385088\n",
       "998  0.892408  0.925428  1.261276\n",
       "999  1.108711  0.836304  1.271581\n",
       "\n",
       "[1000 rows x 3 columns]"
      ]
     },
     "execution_count": 3,
     "metadata": {},
     "output_type": "execute_result"
    }
   ],
   "source": [
    "# generate synthetic dataset\n",
    "from RandomDataMaker import *\n",
    "import pandas as pd\n",
    "dim = graph.num_nds\n",
    "sig_eps = [0.1]*dim\n",
    "dmaker = RandomDataMaker(graph, sig_eps=sig_eps)\n",
    "num_rows = 1000\n",
    "data_path = \"test_data.csv\"\n",
    "dmaker.generate_dataset_csv(num_rows, data_path)\n",
    "pd.read_csv(data_path)"
   ]
  },
  {
   "cell_type": "code",
   "execution_count": 4,
   "id": "2ad8a5d3-0dc1-4a82-a3bf-896609444287",
   "metadata": {},
   "outputs": [
    {
     "data": {
      "text/latex": [
       "$\\displaystyle \\begin{array}{l}\n",
       "\\alpha_{\\underline{X}|\\underline{Z}}= -0.065047,\\quad true=-0.083625\\\\\n",
       "\\alpha_{\\underline{Y}|\\underline{Z}}= 0.022272,\\quad true=-0.001110\\\\\n",
       "\\alpha_{\\underline{Y}|\\underline{X}}= 0.259745,\\quad true=0.289877\n",
       "\\end{array}$"
      ],
      "text/plain": [
       "\\begin{array}{l}\n",
       "\\alpha_{\\underline{X}|\\underline{Z}}= -0.065047,\\quad true=-0.083625\\\\\n",
       "\\alpha_{\\underline{Y}|\\underline{Z}}= 0.022272,\\quad true=-0.001110\\\\\n",
       "\\alpha_{\\underline{Y}|\\underline{X}}= 0.259745,\\quad true=0.289877\n",
       "\\end{array}"
      ]
     },
     "execution_count": 4,
     "metadata": {},
     "output_type": "execute_result"
    }
   ],
   "source": [
    "# Calculate numerical estimates for the gains and print them.\n",
    "# Next to each gain estimate, print true value that was used\n",
    "# to create the synthetic dataset. For missing arrows, print\n",
    "# an error metric= the deviation of a gain constraint from zero.\n",
    "\n",
    "from GainsEstimator import *\n",
    "gest = GainsEstimator(graph, data_path)\n",
    "gest.print_gains(true_alp_mat=dmaker.alp_mat)"
   ]
  },
  {
   "cell_type": "code",
   "execution_count": 6,
   "id": "c27eff17-9708-4364-8887-6580530ff283",
   "metadata": {},
   "outputs": [
    {
     "data": {
      "text/latex": [
       "$\\displaystyle \\begin{array}{l}\n",
       "\\alpha_{\\underline{X}|\\underline{Z}}= \\frac{\\left\\langle\\underline{Z},\\underline{X}\\right\\rangle}{\\sigma^2_{\\underline{Z}}},\\quad true=-0.083625\\\\\n",
       "\\alpha_{\\underline{Y}|\\underline{Z}}= \\frac{- 0.002725 \\left\\langle\\underline{Z},\\underline{X}\\right\\rangle + 0.01055 \\left\\langle\\underline{Z},\\underline{Y}\\right\\rangle}{- \\left\\langle\\underline{Z},\\underline{X}\\right\\rangle^{2} + 0.01055 \\sigma^2_{\\underline{Z}}},\\quad true=-0.001110\\\\\n",
       "\\alpha_{\\underline{Y}|\\underline{X}}= \\frac{- \\left\\langle\\underline{Z},\\underline{X}\\right\\rangle \\left\\langle\\underline{Z},\\underline{Y}\\right\\rangle + 0.002725 \\sigma^2_{\\underline{Z}}}{- \\left\\langle\\underline{Z},\\underline{X}\\right\\rangle^{2} + 0.01055 \\sigma^2_{\\underline{Z}}},\\quad true=0.289877\n",
       "\\end{array}$"
      ],
      "text/plain": [
       "\\begin{array}{l}\n",
       "\\alpha_{\\underline{X}|\\underline{Z}}= \\frac{\\left\\langle\\underline{Z},\\underline{X}\\right\\rangle}{\\sigma^2_{\\underline{Z}}},\\quad true=-0.083625\\\\\n",
       "\\alpha_{\\underline{Y}|\\underline{Z}}= \\frac{- 0.002725 \\left\\langle\\underline{Z},\\underline{X}\\right\\rangle + 0.01055 \\left\\langle\\underline{Z},\\underline{Y}\\right\\rangle}{- \\left\\langle\\underline{Z},\\underline{X}\\right\\rangle^{2} + 0.01055 \\sigma^2_{\\underline{Z}}},\\quad true=-0.001110\\\\\n",
       "\\alpha_{\\underline{Y}|\\underline{X}}= \\frac{- \\left\\langle\\underline{Z},\\underline{X}\\right\\rangle \\left\\langle\\underline{Z},\\underline{Y}\\right\\rangle + 0.002725 \\sigma^2_{\\underline{Z}}}{- \\left\\langle\\underline{Z},\\underline{X}\\right\\rangle^{2} + 0.01055 \\sigma^2_{\\underline{Z}}},\\quad true=0.289877\n",
       "\\end{array}"
      ]
     },
     "execution_count": 6,
     "metadata": {},
     "output_type": "execute_result"
    }
   ],
   "source": [
    "# now suppose \"Z\" is a hidden node\n",
    "gest = GainsEstimator(graph, data_path, hidden_nds = [\"Z\"])\n",
    "gest.print_gains(true_alp_mat=dmaker.alp_mat)"
   ]
  },
  {
   "cell_type": "code",
   "execution_count": null,
   "id": "5bc5b7dd-2e30-4443-b85a-82676418744f",
   "metadata": {},
   "outputs": [],
   "source": []
  }
 ],
 "metadata": {
  "kernelspec": {
   "display_name": "Python 3 (ipykernel)",
   "language": "python",
   "name": "python3"
  },
  "language_info": {
   "codemirror_mode": {
    "name": "ipython",
    "version": 3
   },
   "file_extension": ".py",
   "mimetype": "text/x-python",
   "name": "python",
   "nbconvert_exporter": "python",
   "pygments_lexer": "ipython3",
   "version": "3.10.9"
  }
 },
 "nbformat": 4,
 "nbformat_minor": 5
}
