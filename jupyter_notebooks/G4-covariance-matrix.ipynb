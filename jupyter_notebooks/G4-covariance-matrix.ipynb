{
 "cells": [
  {
   "cell_type": "markdown",
   "id": "68d1a8ef-f7dc-4d43-959a-878bb0aa2e97",
   "metadata": {},
   "source": [
    "# G4 covariance matrix\n",
    "Main Reference:\n",
    "\n",
    "* <a href=https://ftp.cs.ucla.edu/pub/stat_ser/r493.pdf>A Crash Course in Good and Bad Controls</a>,\n",
    "by Carlos Cinelli, Andrew Forney and Judea Pearl\n",
    "\n",
    "In this notebook, we derive, using a symbolic manipulator (SymPy), the covariance matrix and jacobian as a function of the gains, for \n",
    "\n",
    "## G4 \n",
    "\n",
    "This covariance matrix appears at the end of that paper."
   ]
  },
  {
   "cell_type": "markdown",
   "id": "8b211477-3867-4bd3-9bdc-a5564f6778e4",
   "metadata": {},
   "source": [
When $\underline{Z}$ is held fixed to a constant
value $z$, we must set
1. $\langle \underline{Z},\underline{a}\rangle=0$
for any node $\underline{a}$. That's because if one of the two arguments
of a covariance is a constant, the covariance is zero. Hence,
for arbitrary nodes $\underline{a}$
and $\underline{b}$,
ratios such as
$\langle \underline{Z},
\underline{a}\rangle/\langle \underline{Z},
\underline{b}\rangle$,
are indefinite,
and can take on any value.

2. $\langle\underline{\epsilon}_\underline{Z},\underline{\epsilon}_\underline{a}\rangle=0$
for any node $\underline{a}$.
That's because when $\underline{Z}$ is held fixed,
$\underline{\epsilon}_\underline{Z}$ no longer serves any
purpose and becomes arbitrary.

3. $\langle\underline{\epsilon}_\underline{a},\underline{\epsilon}_\underline{b}\rangle=0$
for any two distinct nodes $\underline{a}, \underline{b}$.
This is the standard SCM assumption that
$\langle \underline{\epsilon}_i, \underline{\epsilon}_j\rangle=0$
if $i\neq j$.

When $\underline{Z}$ is a "good" control (see, for example,
the notebooks for graph G1),
(1), (2) and (3) can all be satisfied without contradiction.

When $\underline{Z}$ is a "bad" control (see, for example,
the notebooks for graph G7),
(1), (2) and (3) cannot all be satisfied without contradiction. It  is possible,
however, to satisfy constraints (1) and (2), but
discard (3). The SCuMpy function 'CovMatCalculator()'
has a parameter 'conditioned_nds' which is
normally set to None, but which when set to a list of nodes as in
'conditioned_nds=["Z"]', includes all covariances
$\langle \underline{\epsilon}_i, \underline{\epsilon}_j\rangle\neq 0$,
as long neither $i$ nor $j$ is in the conditioned nodes list.

The reason that discarding constraint (3) when we condition
on some nodes makes sense is as follows. If one of the
nodes you are conditioning on is a collider, you might
open an unblocked path between two of the $\underline{\epsilon}_j$
nodes. This is exactly what happens when you condition
graph G7 on node $\underline{Z}$.
   ]
  },
  {
   "cell_type": "code",
   "execution_count": 1,
   "id": "73d99326-85ad-40c0-b3ba-cc873ed5276e",
   "metadata": {},
   "outputs": [
    {
     "name": "stdout",
     "output_type": "stream",
     "text": [
      "C:\\Users\\rrtuc\\Desktop\\backed-up\\python-projects\\scumpy\n"
     ]
    }
   ],
   "source": [
    "# this makes sure it starts looking for things from the scumpy folder down.\n",
    "import os\n",
    "import sys\n",
    "os.chdir('../')\n",
    "sys.path.insert(0,os.getcwd())\n",
    "print(os.getcwd())"
   ]
  },
  {
   "cell_type": "code",
   "execution_count": 2,
   "id": "bfa6c1fe-c023-4169-b42c-820512fbf67f",
   "metadata": {},
   "outputs": [],
   "source": [
    "from Graph import *\n",
    "from CovMatCalculator import *"
   ]
  },
  {
   "cell_type": "code",
   "execution_count": 3,
   "id": "c83d0949-c9a8-429a-b1a2-eda0d229b558",
   "metadata": {},
   "outputs": [
    {
     "data": {
      "image/png": "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\n",
      "text/plain": [
       "<IPython.core.display.Image object>"
      ]
     },
     "metadata": {},
     "output_type": "display_data"
    }
   ],
   "source": [
    "path = 'dot_atlas/good_bad_trols_G4.dot'\n",
    "graph = Graph(path)\n",
    "graph.draw(jupyter=True)"
   ]
  },
  {
   "cell_type": "code",
   "execution_count": 4,
   "id": "4c12a223-53ac-4d70-b124-e6f812dff43d",
   "metadata": {},
   "outputs": [
    {
     "data": {
      "text/latex": [
       "$\\displaystyle \\begin{array}{l}\n",
       "\\left\\langle\\underline{Z}, \\underline{Z}\\right\\rangle=\\sigma^2_{\\underline{\\epsilon}_{\\underline{Z}}}\n",
       "\\\\\n",
       "\\left\\langle\\underline{Z}, \\underline{X}\\right\\rangle=\\alpha_{\\underline{X}|\\underline{Z}} \\sigma^2_{\\underline{\\epsilon}_{\\underline{Z}}}\n",
       "\\\\\n",
       "\\left\\langle\\underline{Z}, \\underline{M}\\right\\rangle=\\sigma^2_{\\underline{\\epsilon}_{\\underline{Z}}} \\left(\\alpha_{\\underline{M}|\\underline{X}} \\alpha_{\\underline{X}|\\underline{Z}} + \\alpha_{\\underline{M}|\\underline{Z}}\\right)\n",
       "\\\\\n",
       "\\left\\langle\\underline{Z}, \\underline{Y}\\right\\rangle=\\alpha_{\\underline{Y}|\\underline{M}} \\sigma^2_{\\underline{\\epsilon}_{\\underline{Z}}} \\left(\\alpha_{\\underline{M}|\\underline{X}} \\alpha_{\\underline{X}|\\underline{Z}} + \\alpha_{\\underline{M}|\\underline{Z}}\\right)\n",
       "\\\\\n",
       "\\left\\langle\\underline{X}, \\underline{Z}\\right\\rangle=\\alpha_{\\underline{X}|\\underline{Z}} \\sigma^2_{\\underline{\\epsilon}_{\\underline{Z}}}\n",
       "\\\\\n",
       "\\left\\langle\\underline{X}, \\underline{X}\\right\\rangle=\\alpha_{\\underline{X}|\\underline{Z}}^{2} \\sigma^2_{\\underline{\\epsilon}_{\\underline{Z}}} + \\sigma^2_{\\underline{\\epsilon}_{\\underline{X}}}\n",
       "\\\\\n",
       "\\left\\langle\\underline{X}, \\underline{M}\\right\\rangle=\\alpha_{\\underline{M}|\\underline{X}} \\sigma^2_{\\underline{\\epsilon}_{\\underline{X}}} + \\alpha_{\\underline{X}|\\underline{Z}} \\sigma^2_{\\underline{\\epsilon}_{\\underline{Z}}} \\left(\\alpha_{\\underline{M}|\\underline{X}} \\alpha_{\\underline{X}|\\underline{Z}} + \\alpha_{\\underline{M}|\\underline{Z}}\\right)\n",
       "\\\\\n",
       "\\left\\langle\\underline{X}, \\underline{Y}\\right\\rangle=\\alpha_{\\underline{Y}|\\underline{M}} \\left(\\alpha_{\\underline{M}|\\underline{X}} \\sigma^2_{\\underline{\\epsilon}_{\\underline{X}}} + \\alpha_{\\underline{X}|\\underline{Z}} \\sigma^2_{\\underline{\\epsilon}_{\\underline{Z}}} \\left(\\alpha_{\\underline{M}|\\underline{X}} \\alpha_{\\underline{X}|\\underline{Z}} + \\alpha_{\\underline{M}|\\underline{Z}}\\right)\\right)\n",
       "\\\\\n",
       "\\left\\langle\\underline{M}, \\underline{Z}\\right\\rangle=\\sigma^2_{\\underline{\\epsilon}_{\\underline{Z}}} \\left(\\alpha_{\\underline{M}|\\underline{X}} \\alpha_{\\underline{X}|\\underline{Z}} + \\alpha_{\\underline{M}|\\underline{Z}}\\right)\n",
       "\\\\\n",
       "\\left\\langle\\underline{M}, \\underline{X}\\right\\rangle=\\alpha_{\\underline{M}|\\underline{X}} \\sigma^2_{\\underline{\\epsilon}_{\\underline{X}}} + \\alpha_{\\underline{X}|\\underline{Z}} \\sigma^2_{\\underline{\\epsilon}_{\\underline{Z}}} \\left(\\alpha_{\\underline{M}|\\underline{X}} \\alpha_{\\underline{X}|\\underline{Z}} + \\alpha_{\\underline{M}|\\underline{Z}}\\right)\n",
       "\\\\\n",
       "\\left\\langle\\underline{M}, \\underline{M}\\right\\rangle=\\alpha_{\\underline{M}|\\underline{X}}^{2} \\sigma^2_{\\underline{\\epsilon}_{\\underline{X}}} + \\sigma^2_{\\underline{\\epsilon}_{\\underline{M}}} + \\sigma^2_{\\underline{\\epsilon}_{\\underline{Z}}} \\left(\\alpha_{\\underline{M}|\\underline{X}} \\alpha_{\\underline{X}|\\underline{Z}} + \\alpha_{\\underline{M}|\\underline{Z}}\\right)^{2}\n",
       "\\\\\n",
       "\\left\\langle\\underline{M}, \\underline{Y}\\right\\rangle=\\alpha_{\\underline{Y}|\\underline{M}} \\left(\\alpha_{\\underline{M}|\\underline{X}}^{2} \\sigma^2_{\\underline{\\epsilon}_{\\underline{X}}} + \\sigma^2_{\\underline{\\epsilon}_{\\underline{M}}} + \\sigma^2_{\\underline{\\epsilon}_{\\underline{Z}}} \\left(\\alpha_{\\underline{M}|\\underline{X}} \\alpha_{\\underline{X}|\\underline{Z}} + \\alpha_{\\underline{M}|\\underline{Z}}\\right)^{2}\\right)\n",
       "\\\\\n",
       "\\left\\langle\\underline{Y}, \\underline{Z}\\right\\rangle=\\alpha_{\\underline{Y}|\\underline{M}} \\sigma^2_{\\underline{\\epsilon}_{\\underline{Z}}} \\left(\\alpha_{\\underline{M}|\\underline{X}} \\alpha_{\\underline{X}|\\underline{Z}} + \\alpha_{\\underline{M}|\\underline{Z}}\\right)\n",
       "\\\\\n",
       "\\left\\langle\\underline{Y}, \\underline{X}\\right\\rangle=\\alpha_{\\underline{Y}|\\underline{M}} \\left(\\alpha_{\\underline{M}|\\underline{X}} \\sigma^2_{\\underline{\\epsilon}_{\\underline{X}}} + \\alpha_{\\underline{X}|\\underline{Z}} \\sigma^2_{\\underline{\\epsilon}_{\\underline{Z}}} \\left(\\alpha_{\\underline{M}|\\underline{X}} \\alpha_{\\underline{X}|\\underline{Z}} + \\alpha_{\\underline{M}|\\underline{Z}}\\right)\\right)\n",
       "\\\\\n",
       "\\left\\langle\\underline{Y}, \\underline{M}\\right\\rangle=\\alpha_{\\underline{Y}|\\underline{M}} \\left(\\alpha_{\\underline{M}|\\underline{X}}^{2} \\sigma^2_{\\underline{\\epsilon}_{\\underline{X}}} + \\sigma^2_{\\underline{\\epsilon}_{\\underline{M}}} + \\sigma^2_{\\underline{\\epsilon}_{\\underline{Z}}} \\left(\\alpha_{\\underline{M}|\\underline{X}} \\alpha_{\\underline{X}|\\underline{Z}} + \\alpha_{\\underline{M}|\\underline{Z}}\\right)^{2}\\right)\n",
       "\\\\\n",
       "\\left\\langle\\underline{Y}, \\underline{Y}\\right\\rangle=\\alpha_{\\underline{M}|\\underline{X}}^{2} \\alpha_{\\underline{Y}|\\underline{M}}^{2} \\sigma^2_{\\underline{\\epsilon}_{\\underline{X}}} + \\alpha_{\\underline{Y}|\\underline{M}}^{2} \\sigma^2_{\\underline{\\epsilon}_{\\underline{M}}} + \\alpha_{\\underline{Y}|\\underline{M}}^{2} \\sigma^2_{\\underline{\\epsilon}_{\\underline{Z}}} \\left(\\alpha_{\\underline{M}|\\underline{X}} \\alpha_{\\underline{X}|\\underline{Z}} + \\alpha_{\\underline{M}|\\underline{Z}}\\right)^{2} + \\sigma^2_{\\underline{\\epsilon}_{\\underline{Y}}}\n",
       "\\end{array}$"
      ],
      "text/plain": [
       "\\begin{array}{l}\n",
       "\\left\\langle\\underline{Z}, \\underline{Z}\\right\\rangle=\\sigma^2_{\\underline{\\epsilon}_{\\underline{Z}}}\n",
       "\\\\\n",
       "\\left\\langle\\underline{Z}, \\underline{X}\\right\\rangle=\\alpha_{\\underline{X}|\\underline{Z}} \\sigma^2_{\\underline{\\epsilon}_{\\underline{Z}}}\n",
       "\\\\\n",
       "\\left\\langle\\underline{Z}, \\underline{M}\\right\\rangle=\\sigma^2_{\\underline{\\epsilon}_{\\underline{Z}}} \\left(\\alpha_{\\underline{M}|\\underline{X}} \\alpha_{\\underline{X}|\\underline{Z}} + \\alpha_{\\underline{M}|\\underline{Z}}\\right)\n",
       "\\\\\n",
       "\\left\\langle\\underline{Z}, \\underline{Y}\\right\\rangle=\\alpha_{\\underline{Y}|\\underline{M}} \\sigma^2_{\\underline{\\epsilon}_{\\underline{Z}}} \\left(\\alpha_{\\underline{M}|\\underline{X}} \\alpha_{\\underline{X}|\\underline{Z}} + \\alpha_{\\underline{M}|\\underline{Z}}\\right)\n",
       "\\\\\n",
       "\\left\\langle\\underline{X}, \\underline{Z}\\right\\rangle=\\alpha_{\\underline{X}|\\underline{Z}} \\sigma^2_{\\underline{\\epsilon}_{\\underline{Z}}}\n",
       "\\\\\n",
       "\\left\\langle\\underline{X}, \\underline{X}\\right\\rangle=\\alpha_{\\underline{X}|\\underline{Z}}^{2} \\sigma^2_{\\underline{\\epsilon}_{\\underline{Z}}} + \\sigma^2_{\\underline{\\epsilon}_{\\underline{X}}}\n",
       "\\\\\n",
       "\\left\\langle\\underline{X}, \\underline{M}\\right\\rangle=\\alpha_{\\underline{M}|\\underline{X}} \\sigma^2_{\\underline{\\epsilon}_{\\underline{X}}} + \\alpha_{\\underline{X}|\\underline{Z}} \\sigma^2_{\\underline{\\epsilon}_{\\underline{Z}}} \\left(\\alpha_{\\underline{M}|\\underline{X}} \\alpha_{\\underline{X}|\\underline{Z}} + \\alpha_{\\underline{M}|\\underline{Z}}\\right)\n",
       "\\\\\n",
       "\\left\\langle\\underline{X}, \\underline{Y}\\right\\rangle=\\alpha_{\\underline{Y}|\\underline{M}} \\left(\\alpha_{\\underline{M}|\\underline{X}} \\sigma^2_{\\underline{\\epsilon}_{\\underline{X}}} + \\alpha_{\\underline{X}|\\underline{Z}} \\sigma^2_{\\underline{\\epsilon}_{\\underline{Z}}} \\left(\\alpha_{\\underline{M}|\\underline{X}} \\alpha_{\\underline{X}|\\underline{Z}} + \\alpha_{\\underline{M}|\\underline{Z}}\\right)\\right)\n",
       "\\\\\n",
       "\\left\\langle\\underline{M}, \\underline{Z}\\right\\rangle=\\sigma^2_{\\underline{\\epsilon}_{\\underline{Z}}} \\left(\\alpha_{\\underline{M}|\\underline{X}} \\alpha_{\\underline{X}|\\underline{Z}} + \\alpha_{\\underline{M}|\\underline{Z}}\\right)\n",
       "\\\\\n",
       "\\left\\langle\\underline{M}, \\underline{X}\\right\\rangle=\\alpha_{\\underline{M}|\\underline{X}} \\sigma^2_{\\underline{\\epsilon}_{\\underline{X}}} + \\alpha_{\\underline{X}|\\underline{Z}} \\sigma^2_{\\underline{\\epsilon}_{\\underline{Z}}} \\left(\\alpha_{\\underline{M}|\\underline{X}} \\alpha_{\\underline{X}|\\underline{Z}} + \\alpha_{\\underline{M}|\\underline{Z}}\\right)\n",
       "\\\\\n",
       "\\left\\langle\\underline{M}, \\underline{M}\\right\\rangle=\\alpha_{\\underline{M}|\\underline{X}}^{2} \\sigma^2_{\\underline{\\epsilon}_{\\underline{X}}} + \\sigma^2_{\\underline{\\epsilon}_{\\underline{M}}} + \\sigma^2_{\\underline{\\epsilon}_{\\underline{Z}}} \\left(\\alpha_{\\underline{M}|\\underline{X}} \\alpha_{\\underline{X}|\\underline{Z}} + \\alpha_{\\underline{M}|\\underline{Z}}\\right)^{2}\n",
       "\\\\\n",
       "\\left\\langle\\underline{M}, \\underline{Y}\\right\\rangle=\\alpha_{\\underline{Y}|\\underline{M}} \\left(\\alpha_{\\underline{M}|\\underline{X}}^{2} \\sigma^2_{\\underline{\\epsilon}_{\\underline{X}}} + \\sigma^2_{\\underline{\\epsilon}_{\\underline{M}}} + \\sigma^2_{\\underline{\\epsilon}_{\\underline{Z}}} \\left(\\alpha_{\\underline{M}|\\underline{X}} \\alpha_{\\underline{X}|\\underline{Z}} + \\alpha_{\\underline{M}|\\underline{Z}}\\right)^{2}\\right)\n",
       "\\\\\n",
       "\\left\\langle\\underline{Y}, \\underline{Z}\\right\\rangle=\\alpha_{\\underline{Y}|\\underline{M}} \\sigma^2_{\\underline{\\epsilon}_{\\underline{Z}}} \\left(\\alpha_{\\underline{M}|\\underline{X}} \\alpha_{\\underline{X}|\\underline{Z}} + \\alpha_{\\underline{M}|\\underline{Z}}\\right)\n",
       "\\\\\n",
       "\\left\\langle\\underline{Y}, \\underline{X}\\right\\rangle=\\alpha_{\\underline{Y}|\\underline{M}} \\left(\\alpha_{\\underline{M}|\\underline{X}} \\sigma^2_{\\underline{\\epsilon}_{\\underline{X}}} + \\alpha_{\\underline{X}|\\underline{Z}} \\sigma^2_{\\underline{\\epsilon}_{\\underline{Z}}} \\left(\\alpha_{\\underline{M}|\\underline{X}} \\alpha_{\\underline{X}|\\underline{Z}} + \\alpha_{\\underline{M}|\\underline{Z}}\\right)\\right)\n",
       "\\\\\n",
       "\\left\\langle\\underline{Y}, \\underline{M}\\right\\rangle=\\alpha_{\\underline{Y}|\\underline{M}} \\left(\\alpha_{\\underline{M}|\\underline{X}}^{2} \\sigma^2_{\\underline{\\epsilon}_{\\underline{X}}} + \\sigma^2_{\\underline{\\epsilon}_{\\underline{M}}} + \\sigma^2_{\\underline{\\epsilon}_{\\underline{Z}}} \\left(\\alpha_{\\underline{M}|\\underline{X}} \\alpha_{\\underline{X}|\\underline{Z}} + \\alpha_{\\underline{M}|\\underline{Z}}\\right)^{2}\\right)\n",
       "\\\\\n",
       "\\left\\langle\\underline{Y}, \\underline{Y}\\right\\rangle=\\alpha_{\\underline{M}|\\underline{X}}^{2} \\alpha_{\\underline{Y}|\\underline{M}}^{2} \\sigma^2_{\\underline{\\epsilon}_{\\underline{X}}} + \\alpha_{\\underline{Y}|\\underline{M}}^{2} \\sigma^2_{\\underline{\\epsilon}_{\\underline{M}}} + \\alpha_{\\underline{Y}|\\underline{M}}^{2} \\sigma^2_{\\underline{\\epsilon}_{\\underline{Z}}} \\left(\\alpha_{\\underline{M}|\\underline{X}} \\alpha_{\\underline{X}|\\underline{Z}} + \\alpha_{\\underline{M}|\\underline{Z}}\\right)^{2} + \\sigma^2_{\\underline{\\epsilon}_{\\underline{Y}}}\n",
       "\\end{array}"
      ]
     },
     "execution_count": 4,
     "metadata": {},
     "output_type": "execute_result"
    }
   ],
   "source": [
    "cal = CovMatCalculator(graph)\n",
    "cal.calculate_cov_mat_sb()\n",
    "cal.print_cov_mat_entries()"
   ]
  },
  {
   "cell_type": "code",
   "execution_count": 5,
   "id": "ce95729c-58ec-4756-bd2d-e157014b69e0",
   "metadata": {},
   "outputs": [
    {
     "data": {
      "text/latex": [
       "$\\displaystyle \\begin{array}{l}\n",
       "\\frac{\\partial\\underline{Z}}{\\partial\\underline{Z}}=1\n",
       "\\\\\n",
       "\\frac{\\partial\\underline{Z}}{\\partial\\underline{X}}=\\frac{\\alpha_{\\underline{X}|\\underline{Z}} \\sigma^2_{\\underline{\\epsilon}_{\\underline{Z}}}}{\\alpha_{\\underline{X}|\\underline{Z}}^{2} \\sigma^2_{\\underline{\\epsilon}_{\\underline{Z}}} + \\sigma^2_{\\underline{\\epsilon}_{\\underline{X}}}}\n",
       "\\\\\n",
       "\\frac{\\partial\\underline{Z}}{\\partial\\underline{M}}=\\frac{\\sigma^2_{\\underline{\\epsilon}_{\\underline{Z}}} \\left(\\alpha_{\\underline{M}|\\underline{X}} \\alpha_{\\underline{X}|\\underline{Z}} + \\alpha_{\\underline{M}|\\underline{Z}}\\right)}{\\alpha_{\\underline{M}|\\underline{X}}^{2} \\sigma^2_{\\underline{\\epsilon}_{\\underline{X}}} + \\sigma^2_{\\underline{\\epsilon}_{\\underline{M}}} + \\sigma^2_{\\underline{\\epsilon}_{\\underline{Z}}} \\left(\\alpha_{\\underline{M}|\\underline{X}} \\alpha_{\\underline{X}|\\underline{Z}} + \\alpha_{\\underline{M}|\\underline{Z}}\\right)^{2}}\n",
       "\\\\\n",
       "\\frac{\\partial\\underline{Z}}{\\partial\\underline{Y}}=\\frac{\\alpha_{\\underline{Y}|\\underline{M}} \\sigma^2_{\\underline{\\epsilon}_{\\underline{Z}}} \\left(\\alpha_{\\underline{M}|\\underline{X}} \\alpha_{\\underline{X}|\\underline{Z}} + \\alpha_{\\underline{M}|\\underline{Z}}\\right)}{\\alpha_{\\underline{M}|\\underline{X}}^{2} \\alpha_{\\underline{Y}|\\underline{M}}^{2} \\sigma^2_{\\underline{\\epsilon}_{\\underline{X}}} + \\alpha_{\\underline{Y}|\\underline{M}}^{2} \\sigma^2_{\\underline{\\epsilon}_{\\underline{M}}} + \\alpha_{\\underline{Y}|\\underline{M}}^{2} \\sigma^2_{\\underline{\\epsilon}_{\\underline{Z}}} \\left(\\alpha_{\\underline{M}|\\underline{X}} \\alpha_{\\underline{X}|\\underline{Z}} + \\alpha_{\\underline{M}|\\underline{Z}}\\right)^{2} + \\sigma^2_{\\underline{\\epsilon}_{\\underline{Y}}}}\n",
       "\\\\\n",
       "\\frac{\\partial\\underline{X}}{\\partial\\underline{Z}}=\\alpha_{\\underline{X}|\\underline{Z}}\n",
       "\\\\\n",
       "\\frac{\\partial\\underline{X}}{\\partial\\underline{X}}=1\n",
       "\\\\\n",
       "\\frac{\\partial\\underline{X}}{\\partial\\underline{M}}=\\frac{\\alpha_{\\underline{M}|\\underline{X}} \\sigma^2_{\\underline{\\epsilon}_{\\underline{X}}} + \\alpha_{\\underline{X}|\\underline{Z}} \\sigma^2_{\\underline{\\epsilon}_{\\underline{Z}}} \\left(\\alpha_{\\underline{M}|\\underline{X}} \\alpha_{\\underline{X}|\\underline{Z}} + \\alpha_{\\underline{M}|\\underline{Z}}\\right)}{\\alpha_{\\underline{M}|\\underline{X}}^{2} \\sigma^2_{\\underline{\\epsilon}_{\\underline{X}}} + \\sigma^2_{\\underline{\\epsilon}_{\\underline{M}}} + \\sigma^2_{\\underline{\\epsilon}_{\\underline{Z}}} \\left(\\alpha_{\\underline{M}|\\underline{X}} \\alpha_{\\underline{X}|\\underline{Z}} + \\alpha_{\\underline{M}|\\underline{Z}}\\right)^{2}}\n",
       "\\\\\n",
       "\\frac{\\partial\\underline{X}}{\\partial\\underline{Y}}=\\frac{\\alpha_{\\underline{Y}|\\underline{M}} \\left(\\alpha_{\\underline{M}|\\underline{X}} \\sigma^2_{\\underline{\\epsilon}_{\\underline{X}}} + \\alpha_{\\underline{X}|\\underline{Z}} \\sigma^2_{\\underline{\\epsilon}_{\\underline{Z}}} \\left(\\alpha_{\\underline{M}|\\underline{X}} \\alpha_{\\underline{X}|\\underline{Z}} + \\alpha_{\\underline{M}|\\underline{Z}}\\right)\\right)}{\\alpha_{\\underline{M}|\\underline{X}}^{2} \\alpha_{\\underline{Y}|\\underline{M}}^{2} \\sigma^2_{\\underline{\\epsilon}_{\\underline{X}}} + \\alpha_{\\underline{Y}|\\underline{M}}^{2} \\sigma^2_{\\underline{\\epsilon}_{\\underline{M}}} + \\alpha_{\\underline{Y}|\\underline{M}}^{2} \\sigma^2_{\\underline{\\epsilon}_{\\underline{Z}}} \\left(\\alpha_{\\underline{M}|\\underline{X}} \\alpha_{\\underline{X}|\\underline{Z}} + \\alpha_{\\underline{M}|\\underline{Z}}\\right)^{2} + \\sigma^2_{\\underline{\\epsilon}_{\\underline{Y}}}}\n",
       "\\\\\n",
       "\\frac{\\partial\\underline{M}}{\\partial\\underline{Z}}=\\alpha_{\\underline{M}|\\underline{X}} \\alpha_{\\underline{X}|\\underline{Z}} + \\alpha_{\\underline{M}|\\underline{Z}}\n",
       "\\\\\n",
       "\\frac{\\partial\\underline{M}}{\\partial\\underline{X}}=\\frac{\\alpha_{\\underline{M}|\\underline{X}} \\sigma^2_{\\underline{\\epsilon}_{\\underline{X}}} + \\alpha_{\\underline{X}|\\underline{Z}} \\sigma^2_{\\underline{\\epsilon}_{\\underline{Z}}} \\left(\\alpha_{\\underline{M}|\\underline{X}} \\alpha_{\\underline{X}|\\underline{Z}} + \\alpha_{\\underline{M}|\\underline{Z}}\\right)}{\\alpha_{\\underline{X}|\\underline{Z}}^{2} \\sigma^2_{\\underline{\\epsilon}_{\\underline{Z}}} + \\sigma^2_{\\underline{\\epsilon}_{\\underline{X}}}}\n",
       "\\\\\n",
       "\\frac{\\partial\\underline{M}}{\\partial\\underline{M}}=1\n",
       "\\\\\n",
       "\\frac{\\partial\\underline{M}}{\\partial\\underline{Y}}=\\frac{\\alpha_{\\underline{Y}|\\underline{M}} \\left(\\alpha_{\\underline{M}|\\underline{X}}^{2} \\sigma^2_{\\underline{\\epsilon}_{\\underline{X}}} + \\sigma^2_{\\underline{\\epsilon}_{\\underline{M}}} + \\sigma^2_{\\underline{\\epsilon}_{\\underline{Z}}} \\left(\\alpha_{\\underline{M}|\\underline{X}} \\alpha_{\\underline{X}|\\underline{Z}} + \\alpha_{\\underline{M}|\\underline{Z}}\\right)^{2}\\right)}{\\alpha_{\\underline{M}|\\underline{X}}^{2} \\alpha_{\\underline{Y}|\\underline{M}}^{2} \\sigma^2_{\\underline{\\epsilon}_{\\underline{X}}} + \\alpha_{\\underline{Y}|\\underline{M}}^{2} \\sigma^2_{\\underline{\\epsilon}_{\\underline{M}}} + \\alpha_{\\underline{Y}|\\underline{M}}^{2} \\sigma^2_{\\underline{\\epsilon}_{\\underline{Z}}} \\left(\\alpha_{\\underline{M}|\\underline{X}} \\alpha_{\\underline{X}|\\underline{Z}} + \\alpha_{\\underline{M}|\\underline{Z}}\\right)^{2} + \\sigma^2_{\\underline{\\epsilon}_{\\underline{Y}}}}\n",
       "\\\\\n",
       "\\frac{\\partial\\underline{Y}}{\\partial\\underline{Z}}=\\alpha_{\\underline{Y}|\\underline{M}} \\left(\\alpha_{\\underline{M}|\\underline{X}} \\alpha_{\\underline{X}|\\underline{Z}} + \\alpha_{\\underline{M}|\\underline{Z}}\\right)\n",
       "\\\\\n",
       "\\frac{\\partial\\underline{Y}}{\\partial\\underline{X}}=\\frac{\\alpha_{\\underline{Y}|\\underline{M}} \\left(\\alpha_{\\underline{M}|\\underline{X}} \\sigma^2_{\\underline{\\epsilon}_{\\underline{X}}} + \\alpha_{\\underline{X}|\\underline{Z}} \\sigma^2_{\\underline{\\epsilon}_{\\underline{Z}}} \\left(\\alpha_{\\underline{M}|\\underline{X}} \\alpha_{\\underline{X}|\\underline{Z}} + \\alpha_{\\underline{M}|\\underline{Z}}\\right)\\right)}{\\alpha_{\\underline{X}|\\underline{Z}}^{2} \\sigma^2_{\\underline{\\epsilon}_{\\underline{Z}}} + \\sigma^2_{\\underline{\\epsilon}_{\\underline{X}}}}\n",
       "\\\\\n",
       "\\frac{\\partial\\underline{Y}}{\\partial\\underline{M}}=\\alpha_{\\underline{Y}|\\underline{M}}\n",
       "\\\\\n",
       "\\frac{\\partial\\underline{Y}}{\\partial\\underline{Y}}=1\n",
       "\\end{array}$"
      ],
      "text/plain": [
       "\\begin{array}{l}\n",
       "\\frac{\\partial\\underline{Z}}{\\partial\\underline{Z}}=1\n",
       "\\\\\n",
       "\\frac{\\partial\\underline{Z}}{\\partial\\underline{X}}=\\frac{\\alpha_{\\underline{X}|\\underline{Z}} \\sigma^2_{\\underline{\\epsilon}_{\\underline{Z}}}}{\\alpha_{\\underline{X}|\\underline{Z}}^{2} \\sigma^2_{\\underline{\\epsilon}_{\\underline{Z}}} + \\sigma^2_{\\underline{\\epsilon}_{\\underline{X}}}}\n",
       "\\\\\n",
       "\\frac{\\partial\\underline{Z}}{\\partial\\underline{M}}=\\frac{\\sigma^2_{\\underline{\\epsilon}_{\\underline{Z}}} \\left(\\alpha_{\\underline{M}|\\underline{X}} \\alpha_{\\underline{X}|\\underline{Z}} + \\alpha_{\\underline{M}|\\underline{Z}}\\right)}{\\alpha_{\\underline{M}|\\underline{X}}^{2} \\sigma^2_{\\underline{\\epsilon}_{\\underline{X}}} + \\sigma^2_{\\underline{\\epsilon}_{\\underline{M}}} + \\sigma^2_{\\underline{\\epsilon}_{\\underline{Z}}} \\left(\\alpha_{\\underline{M}|\\underline{X}} \\alpha_{\\underline{X}|\\underline{Z}} + \\alpha_{\\underline{M}|\\underline{Z}}\\right)^{2}}\n",
       "\\\\\n",
       "\\frac{\\partial\\underline{Z}}{\\partial\\underline{Y}}=\\frac{\\alpha_{\\underline{Y}|\\underline{M}} \\sigma^2_{\\underline{\\epsilon}_{\\underline{Z}}} \\left(\\alpha_{\\underline{M}|\\underline{X}} \\alpha_{\\underline{X}|\\underline{Z}} + \\alpha_{\\underline{M}|\\underline{Z}}\\right)}{\\alpha_{\\underline{M}|\\underline{X}}^{2} \\alpha_{\\underline{Y}|\\underline{M}}^{2} \\sigma^2_{\\underline{\\epsilon}_{\\underline{X}}} + \\alpha_{\\underline{Y}|\\underline{M}}^{2} \\sigma^2_{\\underline{\\epsilon}_{\\underline{M}}} + \\alpha_{\\underline{Y}|\\underline{M}}^{2} \\sigma^2_{\\underline{\\epsilon}_{\\underline{Z}}} \\left(\\alpha_{\\underline{M}|\\underline{X}} \\alpha_{\\underline{X}|\\underline{Z}} + \\alpha_{\\underline{M}|\\underline{Z}}\\right)^{2} + \\sigma^2_{\\underline{\\epsilon}_{\\underline{Y}}}}\n",
       "\\\\\n",
       "\\frac{\\partial\\underline{X}}{\\partial\\underline{Z}}=\\alpha_{\\underline{X}|\\underline{Z}}\n",
       "\\\\\n",
       "\\frac{\\partial\\underline{X}}{\\partial\\underline{X}}=1\n",
       "\\\\\n",
       "\\frac{\\partial\\underline{X}}{\\partial\\underline{M}}=\\frac{\\alpha_{\\underline{M}|\\underline{X}} \\sigma^2_{\\underline{\\epsilon}_{\\underline{X}}} + \\alpha_{\\underline{X}|\\underline{Z}} \\sigma^2_{\\underline{\\epsilon}_{\\underline{Z}}} \\left(\\alpha_{\\underline{M}|\\underline{X}} \\alpha_{\\underline{X}|\\underline{Z}} + \\alpha_{\\underline{M}|\\underline{Z}}\\right)}{\\alpha_{\\underline{M}|\\underline{X}}^{2} \\sigma^2_{\\underline{\\epsilon}_{\\underline{X}}} + \\sigma^2_{\\underline{\\epsilon}_{\\underline{M}}} + \\sigma^2_{\\underline{\\epsilon}_{\\underline{Z}}} \\left(\\alpha_{\\underline{M}|\\underline{X}} \\alpha_{\\underline{X}|\\underline{Z}} + \\alpha_{\\underline{M}|\\underline{Z}}\\right)^{2}}\n",
       "\\\\\n",
       "\\frac{\\partial\\underline{X}}{\\partial\\underline{Y}}=\\frac{\\alpha_{\\underline{Y}|\\underline{M}} \\left(\\alpha_{\\underline{M}|\\underline{X}} \\sigma^2_{\\underline{\\epsilon}_{\\underline{X}}} + \\alpha_{\\underline{X}|\\underline{Z}} \\sigma^2_{\\underline{\\epsilon}_{\\underline{Z}}} \\left(\\alpha_{\\underline{M}|\\underline{X}} \\alpha_{\\underline{X}|\\underline{Z}} + \\alpha_{\\underline{M}|\\underline{Z}}\\right)\\right)}{\\alpha_{\\underline{M}|\\underline{X}}^{2} \\alpha_{\\underline{Y}|\\underline{M}}^{2} \\sigma^2_{\\underline{\\epsilon}_{\\underline{X}}} + \\alpha_{\\underline{Y}|\\underline{M}}^{2} \\sigma^2_{\\underline{\\epsilon}_{\\underline{M}}} + \\alpha_{\\underline{Y}|\\underline{M}}^{2} \\sigma^2_{\\underline{\\epsilon}_{\\underline{Z}}} \\left(\\alpha_{\\underline{M}|\\underline{X}} \\alpha_{\\underline{X}|\\underline{Z}} + \\alpha_{\\underline{M}|\\underline{Z}}\\right)^{2} + \\sigma^2_{\\underline{\\epsilon}_{\\underline{Y}}}}\n",
       "\\\\\n",
       "\\frac{\\partial\\underline{M}}{\\partial\\underline{Z}}=\\alpha_{\\underline{M}|\\underline{X}} \\alpha_{\\underline{X}|\\underline{Z}} + \\alpha_{\\underline{M}|\\underline{Z}}\n",
       "\\\\\n",
       "\\frac{\\partial\\underline{M}}{\\partial\\underline{X}}=\\frac{\\alpha_{\\underline{M}|\\underline{X}} \\sigma^2_{\\underline{\\epsilon}_{\\underline{X}}} + \\alpha_{\\underline{X}|\\underline{Z}} \\sigma^2_{\\underline{\\epsilon}_{\\underline{Z}}} \\left(\\alpha_{\\underline{M}|\\underline{X}} \\alpha_{\\underline{X}|\\underline{Z}} + \\alpha_{\\underline{M}|\\underline{Z}}\\right)}{\\alpha_{\\underline{X}|\\underline{Z}}^{2} \\sigma^2_{\\underline{\\epsilon}_{\\underline{Z}}} + \\sigma^2_{\\underline{\\epsilon}_{\\underline{X}}}}\n",
       "\\\\\n",
       "\\frac{\\partial\\underline{M}}{\\partial\\underline{M}}=1\n",
       "\\\\\n",
       "\\frac{\\partial\\underline{M}}{\\partial\\underline{Y}}=\\frac{\\alpha_{\\underline{Y}|\\underline{M}} \\left(\\alpha_{\\underline{M}|\\underline{X}}^{2} \\sigma^2_{\\underline{\\epsilon}_{\\underline{X}}} + \\sigma^2_{\\underline{\\epsilon}_{\\underline{M}}} + \\sigma^2_{\\underline{\\epsilon}_{\\underline{Z}}} \\left(\\alpha_{\\underline{M}|\\underline{X}} \\alpha_{\\underline{X}|\\underline{Z}} + \\alpha_{\\underline{M}|\\underline{Z}}\\right)^{2}\\right)}{\\alpha_{\\underline{M}|\\underline{X}}^{2} \\alpha_{\\underline{Y}|\\underline{M}}^{2} \\sigma^2_{\\underline{\\epsilon}_{\\underline{X}}} + \\alpha_{\\underline{Y}|\\underline{M}}^{2} \\sigma^2_{\\underline{\\epsilon}_{\\underline{M}}} + \\alpha_{\\underline{Y}|\\underline{M}}^{2} \\sigma^2_{\\underline{\\epsilon}_{\\underline{Z}}} \\left(\\alpha_{\\underline{M}|\\underline{X}} \\alpha_{\\underline{X}|\\underline{Z}} + \\alpha_{\\underline{M}|\\underline{Z}}\\right)^{2} + \\sigma^2_{\\underline{\\epsilon}_{\\underline{Y}}}}\n",
       "\\\\\n",
       "\\frac{\\partial\\underline{Y}}{\\partial\\underline{Z}}=\\alpha_{\\underline{Y}|\\underline{M}} \\left(\\alpha_{\\underline{M}|\\underline{X}} \\alpha_{\\underline{X}|\\underline{Z}} + \\alpha_{\\underline{M}|\\underline{Z}}\\right)\n",
       "\\\\\n",
       "\\frac{\\partial\\underline{Y}}{\\partial\\underline{X}}=\\frac{\\alpha_{\\underline{Y}|\\underline{M}} \\left(\\alpha_{\\underline{M}|\\underline{X}} \\sigma^2_{\\underline{\\epsilon}_{\\underline{X}}} + \\alpha_{\\underline{X}|\\underline{Z}} \\sigma^2_{\\underline{\\epsilon}_{\\underline{Z}}} \\left(\\alpha_{\\underline{M}|\\underline{X}} \\alpha_{\\underline{X}|\\underline{Z}} + \\alpha_{\\underline{M}|\\underline{Z}}\\right)\\right)}{\\alpha_{\\underline{X}|\\underline{Z}}^{2} \\sigma^2_{\\underline{\\epsilon}_{\\underline{Z}}} + \\sigma^2_{\\underline{\\epsilon}_{\\underline{X}}}}\n",
       "\\\\\n",
       "\\frac{\\partial\\underline{Y}}{\\partial\\underline{M}}=\\alpha_{\\underline{Y}|\\underline{M}}\n",
       "\\\\\n",
       "\\frac{\\partial\\underline{Y}}{\\partial\\underline{Y}}=1\n",
       "\\end{array}"
      ]
     },
     "execution_count": 5,
     "metadata": {},
     "output_type": "execute_result"
    }
   ],
   "source": [
    "cal.print_jacobian_entries()"
   ]
  },
  {
   "cell_type": "code",
   "execution_count": null,
   "id": "32f8f8fa-4427-4827-81d7-7806a5b58a96",
   "metadata": {},
   "outputs": [],
   "source": []
  }
 ],
 "metadata": {
  "kernelspec": {
   "display_name": "Python 3 (ipykernel)",
   "language": "python",
   "name": "python3"
  },
  "language_info": {
   "codemirror_mode": {
    "name": "ipython",
    "version": 3
   },
   "file_extension": ".py",
   "mimetype": "text/x-python",
   "name": "python",
   "nbconvert_exporter": "python",
   "pygments_lexer": "ipython3",
   "version": "3.10.9"
  }
 },
 "nbformat": 4,
 "nbformat_minor": 5
}
