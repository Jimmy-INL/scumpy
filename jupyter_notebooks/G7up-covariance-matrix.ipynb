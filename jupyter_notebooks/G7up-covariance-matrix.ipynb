{
 "cells": [
  {
   "cell_type": "markdown",
   "id": "68d1a8ef-f7dc-4d43-959a-878bb0aa2e97",
   "metadata": {},
   "source": [
    "# G7up covariance matrix\n",
    "Main Reference:\n",
    "\n",
    "* <a href=https://ftp.cs.ucla.edu/pub/stat_ser/r493.pdf>A Crash Course in Good and Bad Controls</a>,\n",
    "by Carlos Cinelli, Andrew Forney and Judea Pearl\n",
    "\n",
    "In this notebook, we derive, using a symbolic manipulator (SymPy), the covariance matrix and jacobian as a function of the gains, for \n",
    "\n",
    "## G7up \n",
    "\n",
    "This covariance matrix appears at the end of that paper. "
   ]
  },
  {
   "cell_type": "code",
   "execution_count": 1,
   "id": "73d99326-85ad-40c0-b3ba-cc873ed5276e",
   "metadata": {},
   "outputs": [
    {
     "name": "stdout",
     "output_type": "stream",
     "text": [
      "C:\\Users\\rrtuc\\Desktop\\backed-up\\python-projects\\scumpy\n"
     ]
    }
   ],
   "source": [
    "# this makes sure it starts looking for things from the scumpy folder down.\n",
    "import os\n",
    "import sys\n",
    "os.chdir('../')\n",
    "sys.path.insert(0,os.getcwd())\n",
    "print(os.getcwd())"
   ]
  },
  {
   "cell_type": "code",
   "execution_count": 2,
   "id": "bfa6c1fe-c023-4169-b42c-820512fbf67f",
   "metadata": {},
   "outputs": [],
   "source": [
    "from Graph import *\n",
    "from CovMatCalculator import *"
   ]
  },
  {
   "cell_type": "code",
   "execution_count": 3,
   "id": "c83d0949-c9a8-429a-b1a2-eda0d229b558",
   "metadata": {},
   "outputs": [
    {
     "data": {
      "image/png": "[encoded data removed]",
      "text/plain": [
       "<IPython.core.display.Image object>"
      ]
     },
     "metadata": {},
     "output_type": "display_data"
    }
   ],
   "source": [
    "path = 'dot_atlas/good_bad_trols_G7up.dot'\n",
    "graph = Graph(path)\n",
    "graph.draw(jupyter=True)"
   ]
  },
  {
   "cell_type": "code",
   "execution_count": 4,
   "id": "4c12a223-53ac-4d70-b124-e6f812dff43d",
   "metadata": {},
   "outputs": [
    {
     "data": {
      "text/latex": [
       "$\\displaystyle \\begin{array}{l}\n",
       "\\left\\langle\\underline{U1}, \\underline{U1}\\right\\rangle=\\sigma_{\\underline{\\epsilon}_{\\underline{U1}}}^{2}\n",
       "\\\\\n",
       "\\left\\langle\\underline{U1}, \\underline{U2}\\right\\rangle=0\n",
       "\\\\\n",
       "\\left\\langle\\underline{U1}, \\underline{X}\\right\\rangle=\\alpha_{\\underline{X}|\\underline{U1}} \\sigma_{\\underline{\\epsilon}_{\\underline{U1}}}^{2}\n",
       "\\\\\n",
       "\\left\\langle\\underline{U1}, \\underline{Z}\\right\\rangle=\\alpha_{\\underline{Z}|\\underline{U1}} \\sigma_{\\underline{\\epsilon}_{\\underline{U1}}}^{2}\n",
       "\\\\\n",
       "\\left\\langle\\underline{U1}, \\underline{Y}\\right\\rangle=\\sigma_{\\underline{\\epsilon}_{\\underline{U1}}}^{2} \\left(\\alpha_{\\underline{X}|\\underline{U1}} \\alpha_{\\underline{Y}|\\underline{X}} + \\alpha_{\\underline{Y}|\\underline{Z}} \\alpha_{\\underline{Z}|\\underline{U1}}\\right)\n",
       "\\\\\n",
       "\\left\\langle\\underline{U2}, \\underline{U1}\\right\\rangle=0\n",
       "\\\\\n",
       "\\left\\langle\\underline{U2}, \\underline{U2}\\right\\rangle=\\sigma_{\\underline{\\epsilon}_{\\underline{U2}}}^{2}\n",
       "\\\\\n",
       "\\left\\langle\\underline{U2}, \\underline{X}\\right\\rangle=0\n",
       "\\\\\n",
       "\\left\\langle\\underline{U2}, \\underline{Z}\\right\\rangle=\\alpha_{\\underline{Z}|\\underline{U2}} \\sigma_{\\underline{\\epsilon}_{\\underline{U2}}}^{2}\n",
       "\\\\\n",
       "\\left\\langle\\underline{U2}, \\underline{Y}\\right\\rangle=\\sigma_{\\underline{\\epsilon}_{\\underline{U2}}}^{2} \\left(\\alpha_{\\underline{Y}|\\underline{U2}} + \\alpha_{\\underline{Y}|\\underline{Z}} \\alpha_{\\underline{Z}|\\underline{U2}}\\right)\n",
       "\\\\\n",
       "\\left\\langle\\underline{X}, \\underline{U1}\\right\\rangle=\\alpha_{\\underline{X}|\\underline{U1}} \\sigma_{\\underline{\\epsilon}_{\\underline{U1}}}^{2}\n",
       "\\\\\n",
       "\\left\\langle\\underline{X}, \\underline{U2}\\right\\rangle=0\n",
       "\\\\\n",
       "\\left\\langle\\underline{X}, \\underline{X}\\right\\rangle=\\alpha_{\\underline{X}|\\underline{U1}}^{2} \\sigma_{\\underline{\\epsilon}_{\\underline{U1}}}^{2} + \\sigma_{\\underline{\\epsilon}_{\\underline{X}}}^{2}\n",
       "\\\\\n",
       "\\left\\langle\\underline{X}, \\underline{Z}\\right\\rangle=\\alpha_{\\underline{X}|\\underline{U1}} \\alpha_{\\underline{Z}|\\underline{U1}} \\sigma_{\\underline{\\epsilon}_{\\underline{U1}}}^{2}\n",
       "\\\\\n",
       "\\left\\langle\\underline{X}, \\underline{Y}\\right\\rangle=\\alpha_{\\underline{X}|\\underline{U1}} \\sigma_{\\underline{\\epsilon}_{\\underline{U1}}}^{2} \\left(\\alpha_{\\underline{X}|\\underline{U1}} \\alpha_{\\underline{Y}|\\underline{X}} + \\alpha_{\\underline{Y}|\\underline{Z}} \\alpha_{\\underline{Z}|\\underline{U1}}\\right) + \\alpha_{\\underline{Y}|\\underline{X}} \\sigma_{\\underline{\\epsilon}_{\\underline{X}}}^{2}\n",
       "\\\\\n",
       "\\left\\langle\\underline{Z}, \\underline{U1}\\right\\rangle=\\alpha_{\\underline{Z}|\\underline{U1}} \\sigma_{\\underline{\\epsilon}_{\\underline{U1}}}^{2}\n",
       "\\\\\n",
       "\\left\\langle\\underline{Z}, \\underline{U2}\\right\\rangle=\\alpha_{\\underline{Z}|\\underline{U2}} \\sigma_{\\underline{\\epsilon}_{\\underline{U2}}}^{2}\n",
       "\\\\\n",
       "\\left\\langle\\underline{Z}, \\underline{X}\\right\\rangle=\\alpha_{\\underline{X}|\\underline{U1}} \\alpha_{\\underline{Z}|\\underline{U1}} \\sigma_{\\underline{\\epsilon}_{\\underline{U1}}}^{2}\n",
       "\\\\\n",
       "\\left\\langle\\underline{Z}, \\underline{Z}\\right\\rangle=\\alpha_{\\underline{Z}|\\underline{U1}}^{2} \\sigma_{\\underline{\\epsilon}_{\\underline{U1}}}^{2} + \\alpha_{\\underline{Z}|\\underline{U2}}^{2} \\sigma_{\\underline{\\epsilon}_{\\underline{U2}}}^{2} + \\sigma_{\\underline{\\epsilon}_{\\underline{Z}}}^{2}\n",
       "\\\\\n",
       "\\left\\langle\\underline{Z}, \\underline{Y}\\right\\rangle=\\alpha_{\\underline{Y}|\\underline{Z}} \\sigma_{\\underline{\\epsilon}_{\\underline{Z}}}^{2} + \\alpha_{\\underline{Z}|\\underline{U1}} \\sigma_{\\underline{\\epsilon}_{\\underline{U1}}}^{2} \\left(\\alpha_{\\underline{X}|\\underline{U1}} \\alpha_{\\underline{Y}|\\underline{X}} + \\alpha_{\\underline{Y}|\\underline{Z}} \\alpha_{\\underline{Z}|\\underline{U1}}\\right) + \\alpha_{\\underline{Z}|\\underline{U2}} \\sigma_{\\underline{\\epsilon}_{\\underline{U2}}}^{2} \\left(\\alpha_{\\underline{Y}|\\underline{U2}} + \\alpha_{\\underline{Y}|\\underline{Z}} \\alpha_{\\underline{Z}|\\underline{U2}}\\right)\n",
       "\\\\\n",
       "\\left\\langle\\underline{Y}, \\underline{U1}\\right\\rangle=\\sigma_{\\underline{\\epsilon}_{\\underline{U1}}}^{2} \\left(\\alpha_{\\underline{X}|\\underline{U1}} \\alpha_{\\underline{Y}|\\underline{X}} + \\alpha_{\\underline{Y}|\\underline{Z}} \\alpha_{\\underline{Z}|\\underline{U1}}\\right)\n",
       "\\\\\n",
       "\\left\\langle\\underline{Y}, \\underline{U2}\\right\\rangle=\\sigma_{\\underline{\\epsilon}_{\\underline{U2}}}^{2} \\left(\\alpha_{\\underline{Y}|\\underline{U2}} + \\alpha_{\\underline{Y}|\\underline{Z}} \\alpha_{\\underline{Z}|\\underline{U2}}\\right)\n",
       "\\\\\n",
       "\\left\\langle\\underline{Y}, \\underline{X}\\right\\rangle=\\alpha_{\\underline{X}|\\underline{U1}} \\sigma_{\\underline{\\epsilon}_{\\underline{U1}}}^{2} \\left(\\alpha_{\\underline{X}|\\underline{U1}} \\alpha_{\\underline{Y}|\\underline{X}} + \\alpha_{\\underline{Y}|\\underline{Z}} \\alpha_{\\underline{Z}|\\underline{U1}}\\right) + \\alpha_{\\underline{Y}|\\underline{X}} \\sigma_{\\underline{\\epsilon}_{\\underline{X}}}^{2}\n",
       "\\\\\n",
       "\\left\\langle\\underline{Y}, \\underline{Z}\\right\\rangle=\\alpha_{\\underline{Y}|\\underline{Z}} \\sigma_{\\underline{\\epsilon}_{\\underline{Z}}}^{2} + \\alpha_{\\underline{Z}|\\underline{U1}} \\sigma_{\\underline{\\epsilon}_{\\underline{U1}}}^{2} \\left(\\alpha_{\\underline{X}|\\underline{U1}} \\alpha_{\\underline{Y}|\\underline{X}} + \\alpha_{\\underline{Y}|\\underline{Z}} \\alpha_{\\underline{Z}|\\underline{U1}}\\right) + \\alpha_{\\underline{Z}|\\underline{U2}} \\sigma_{\\underline{\\epsilon}_{\\underline{U2}}}^{2} \\left(\\alpha_{\\underline{Y}|\\underline{U2}} + \\alpha_{\\underline{Y}|\\underline{Z}} \\alpha_{\\underline{Z}|\\underline{U2}}\\right)\n",
       "\\\\\n",
       "\\left\\langle\\underline{Y}, \\underline{Y}\\right\\rangle=\\alpha_{\\underline{Y}|\\underline{X}}^{2} \\sigma_{\\underline{\\epsilon}_{\\underline{X}}}^{2} + \\alpha_{\\underline{Y}|\\underline{Z}}^{2} \\sigma_{\\underline{\\epsilon}_{\\underline{Z}}}^{2} + \\sigma_{\\underline{\\epsilon}_{\\underline{U1}}}^{2} \\left(\\alpha_{\\underline{X}|\\underline{U1}} \\alpha_{\\underline{Y}|\\underline{X}} + \\alpha_{\\underline{Y}|\\underline{Z}} \\alpha_{\\underline{Z}|\\underline{U1}}\\right)^{2} + \\sigma_{\\underline{\\epsilon}_{\\underline{U2}}}^{2} \\left(\\alpha_{\\underline{Y}|\\underline{U2}} + \\alpha_{\\underline{Y}|\\underline{Z}} \\alpha_{\\underline{Z}|\\underline{U2}}\\right)^{2} + \\sigma_{\\underline{\\epsilon}_{\\underline{Y}}}^{2}\n",
       "\\end{array}$"
      ],
      "text/plain": [
       "\\begin{array}{l}\n",
       "\\left\\langle\\underline{U1}, \\underline{U1}\\right\\rangle=\\sigma_{\\underline{\\epsilon}_{\\underline{U1}}}^{2}\n",
       "\\\\\n",
       "\\left\\langle\\underline{U1}, \\underline{U2}\\right\\rangle=0\n",
       "\\\\\n",
       "\\left\\langle\\underline{U1}, \\underline{X}\\right\\rangle=\\alpha_{\\underline{X}|\\underline{U1}} \\sigma_{\\underline{\\epsilon}_{\\underline{U1}}}^{2}\n",
       "\\\\\n",
       "\\left\\langle\\underline{U1}, \\underline{Z}\\right\\rangle=\\alpha_{\\underline{Z}|\\underline{U1}} \\sigma_{\\underline{\\epsilon}_{\\underline{U1}}}^{2}\n",
       "\\\\\n",
       "\\left\\langle\\underline{U1}, \\underline{Y}\\right\\rangle=\\sigma_{\\underline{\\epsilon}_{\\underline{U1}}}^{2} \\left(\\alpha_{\\underline{X}|\\underline{U1}} \\alpha_{\\underline{Y}|\\underline{X}} + \\alpha_{\\underline{Y}|\\underline{Z}} \\alpha_{\\underline{Z}|\\underline{U1}}\\right)\n",
       "\\\\\n",
       "\\left\\langle\\underline{U2}, \\underline{U1}\\right\\rangle=0\n",
       "\\\\\n",
       "\\left\\langle\\underline{U2}, \\underline{U2}\\right\\rangle=\\sigma_{\\underline{\\epsilon}_{\\underline{U2}}}^{2}\n",
       "\\\\\n",
       "\\left\\langle\\underline{U2}, \\underline{X}\\right\\rangle=0\n",
       "\\\\\n",
       "\\left\\langle\\underline{U2}, \\underline{Z}\\right\\rangle=\\alpha_{\\underline{Z}|\\underline{U2}} \\sigma_{\\underline{\\epsilon}_{\\underline{U2}}}^{2}\n",
       "\\\\\n",
       "\\left\\langle\\underline{U2}, \\underline{Y}\\right\\rangle=\\sigma_{\\underline{\\epsilon}_{\\underline{U2}}}^{2} \\left(\\alpha_{\\underline{Y}|\\underline{U2}} + \\alpha_{\\underline{Y}|\\underline{Z}} \\alpha_{\\underline{Z}|\\underline{U2}}\\right)\n",
       "\\\\\n",
       "\\left\\langle\\underline{X}, \\underline{U1}\\right\\rangle=\\alpha_{\\underline{X}|\\underline{U1}} \\sigma_{\\underline{\\epsilon}_{\\underline{U1}}}^{2}\n",
       "\\\\\n",
       "\\left\\langle\\underline{X}, \\underline{U2}\\right\\rangle=0\n",
       "\\\\\n",
       "\\left\\langle\\underline{X}, \\underline{X}\\right\\rangle=\\alpha_{\\underline{X}|\\underline{U1}}^{2} \\sigma_{\\underline{\\epsilon}_{\\underline{U1}}}^{2} + \\sigma_{\\underline{\\epsilon}_{\\underline{X}}}^{2}\n",
       "\\\\\n",
       "\\left\\langle\\underline{X}, \\underline{Z}\\right\\rangle=\\alpha_{\\underline{X}|\\underline{U1}} \\alpha_{\\underline{Z}|\\underline{U1}} \\sigma_{\\underline{\\epsilon}_{\\underline{U1}}}^{2}\n",
       "\\\\\n",
       "\\left\\langle\\underline{X}, \\underline{Y}\\right\\rangle=\\alpha_{\\underline{X}|\\underline{U1}} \\sigma_{\\underline{\\epsilon}_{\\underline{U1}}}^{2} \\left(\\alpha_{\\underline{X}|\\underline{U1}} \\alpha_{\\underline{Y}|\\underline{X}} + \\alpha_{\\underline{Y}|\\underline{Z}} \\alpha_{\\underline{Z}|\\underline{U1}}\\right) + \\alpha_{\\underline{Y}|\\underline{X}} \\sigma_{\\underline{\\epsilon}_{\\underline{X}}}^{2}\n",
       "\\\\\n",
       "\\left\\langle\\underline{Z}, \\underline{U1}\\right\\rangle=\\alpha_{\\underline{Z}|\\underline{U1}} \\sigma_{\\underline{\\epsilon}_{\\underline{U1}}}^{2}\n",
       "\\\\\n",
       "\\left\\langle\\underline{Z}, \\underline{U2}\\right\\rangle=\\alpha_{\\underline{Z}|\\underline{U2}} \\sigma_{\\underline{\\epsilon}_{\\underline{U2}}}^{2}\n",
       "\\\\\n",
       "\\left\\langle\\underline{Z}, \\underline{X}\\right\\rangle=\\alpha_{\\underline{X}|\\underline{U1}} \\alpha_{\\underline{Z}|\\underline{U1}} \\sigma_{\\underline{\\epsilon}_{\\underline{U1}}}^{2}\n",
       "\\\\\n",
       "\\left\\langle\\underline{Z}, \\underline{Z}\\right\\rangle=\\alpha_{\\underline{Z}|\\underline{U1}}^{2} \\sigma_{\\underline{\\epsilon}_{\\underline{U1}}}^{2} + \\alpha_{\\underline{Z}|\\underline{U2}}^{2} \\sigma_{\\underline{\\epsilon}_{\\underline{U2}}}^{2} + \\sigma_{\\underline{\\epsilon}_{\\underline{Z}}}^{2}\n",
       "\\\\\n",
       "\\left\\langle\\underline{Z}, \\underline{Y}\\right\\rangle=\\alpha_{\\underline{Y}|\\underline{Z}} \\sigma_{\\underline{\\epsilon}_{\\underline{Z}}}^{2} + \\alpha_{\\underline{Z}|\\underline{U1}} \\sigma_{\\underline{\\epsilon}_{\\underline{U1}}}^{2} \\left(\\alpha_{\\underline{X}|\\underline{U1}} \\alpha_{\\underline{Y}|\\underline{X}} + \\alpha_{\\underline{Y}|\\underline{Z}} \\alpha_{\\underline{Z}|\\underline{U1}}\\right) + \\alpha_{\\underline{Z}|\\underline{U2}} \\sigma_{\\underline{\\epsilon}_{\\underline{U2}}}^{2} \\left(\\alpha_{\\underline{Y}|\\underline{U2}} + \\alpha_{\\underline{Y}|\\underline{Z}} \\alpha_{\\underline{Z}|\\underline{U2}}\\right)\n",
       "\\\\\n",
       "\\left\\langle\\underline{Y}, \\underline{U1}\\right\\rangle=\\sigma_{\\underline{\\epsilon}_{\\underline{U1}}}^{2} \\left(\\alpha_{\\underline{X}|\\underline{U1}} \\alpha_{\\underline{Y}|\\underline{X}} + \\alpha_{\\underline{Y}|\\underline{Z}} \\alpha_{\\underline{Z}|\\underline{U1}}\\right)\n",
       "\\\\\n",
       "\\left\\langle\\underline{Y}, \\underline{U2}\\right\\rangle=\\sigma_{\\underline{\\epsilon}_{\\underline{U2}}}^{2} \\left(\\alpha_{\\underline{Y}|\\underline{U2}} + \\alpha_{\\underline{Y}|\\underline{Z}} \\alpha_{\\underline{Z}|\\underline{U2}}\\right)\n",
       "\\\\\n",
       "\\left\\langle\\underline{Y}, \\underline{X}\\right\\rangle=\\alpha_{\\underline{X}|\\underline{U1}} \\sigma_{\\underline{\\epsilon}_{\\underline{U1}}}^{2} \\left(\\alpha_{\\underline{X}|\\underline{U1}} \\alpha_{\\underline{Y}|\\underline{X}} + \\alpha_{\\underline{Y}|\\underline{Z}} \\alpha_{\\underline{Z}|\\underline{U1}}\\right) + \\alpha_{\\underline{Y}|\\underline{X}} \\sigma_{\\underline{\\epsilon}_{\\underline{X}}}^{2}\n",
       "\\\\\n",
       "\\left\\langle\\underline{Y}, \\underline{Z}\\right\\rangle=\\alpha_{\\underline{Y}|\\underline{Z}} \\sigma_{\\underline{\\epsilon}_{\\underline{Z}}}^{2} + \\alpha_{\\underline{Z}|\\underline{U1}} \\sigma_{\\underline{\\epsilon}_{\\underline{U1}}}^{2} \\left(\\alpha_{\\underline{X}|\\underline{U1}} \\alpha_{\\underline{Y}|\\underline{X}} + \\alpha_{\\underline{Y}|\\underline{Z}} \\alpha_{\\underline{Z}|\\underline{U1}}\\right) + \\alpha_{\\underline{Z}|\\underline{U2}} \\sigma_{\\underline{\\epsilon}_{\\underline{U2}}}^{2} \\left(\\alpha_{\\underline{Y}|\\underline{U2}} + \\alpha_{\\underline{Y}|\\underline{Z}} \\alpha_{\\underline{Z}|\\underline{U2}}\\right)\n",
       "\\\\\n",
       "\\left\\langle\\underline{Y}, \\underline{Y}\\right\\rangle=\\alpha_{\\underline{Y}|\\underline{X}}^{2} \\sigma_{\\underline{\\epsilon}_{\\underline{X}}}^{2} + \\alpha_{\\underline{Y}|\\underline{Z}}^{2} \\sigma_{\\underline{\\epsilon}_{\\underline{Z}}}^{2} + \\sigma_{\\underline{\\epsilon}_{\\underline{U1}}}^{2} \\left(\\alpha_{\\underline{X}|\\underline{U1}} \\alpha_{\\underline{Y}|\\underline{X}} + \\alpha_{\\underline{Y}|\\underline{Z}} \\alpha_{\\underline{Z}|\\underline{U1}}\\right)^{2} + \\sigma_{\\underline{\\epsilon}_{\\underline{U2}}}^{2} \\left(\\alpha_{\\underline{Y}|\\underline{U2}} + \\alpha_{\\underline{Y}|\\underline{Z}} \\alpha_{\\underline{Z}|\\underline{U2}}\\right)^{2} + \\sigma_{\\underline{\\epsilon}_{\\underline{Y}}}^{2}\n",
       "\\end{array}"
      ]
     },
     "execution_count": 4,
     "metadata": {},
     "output_type": "execute_result"
    }
   ],
   "source": [
    "cal = CovMatCalculator(graph)\n",
    "cal.calculate_cov_mat_sym()\n",
    "cal.print_cov_mat_entries(latex=True)"
   ]
  },
  {
   "cell_type": "code",
   "execution_count": 5,
   "id": "ce95729c-58ec-4756-bd2d-e157014b69e0",
   "metadata": {},
   "outputs": [
    {
     "data": {
      "text/latex": [
       "$\\displaystyle \\begin{array}{l}\n",
       "\\frac{\\partial\\underline{U1}}{\\partial\\underline{U1}}=\\frac{\\sigma_{\\underline{\\epsilon}_{\\underline{U1}}}^{2}}{\\sigma_{\\underline{U1}}^{2}}\n",
       "\\\\\n",
       "\\frac{\\partial\\underline{U1}}{\\partial\\underline{U2}}=0\n",
       "\\\\\n",
       "\\frac{\\partial\\underline{U1}}{\\partial\\underline{X}}=\\frac{\\alpha_{\\underline{X}|\\underline{U1}} \\sigma_{\\underline{\\epsilon}_{\\underline{U1}}}^{2}}{\\sigma_{\\underline{X}}^{2}}\n",
       "\\\\\n",
       "\\frac{\\partial\\underline{U1}}{\\partial\\underline{Z}}=\\frac{\\alpha_{\\underline{Z}|\\underline{U1}} \\sigma_{\\underline{\\epsilon}_{\\underline{U1}}}^{2}}{\\sigma_{\\underline{Z}}^{2}}\n",
       "\\\\\n",
       "\\frac{\\partial\\underline{U1}}{\\partial\\underline{Y}}=\\frac{\\sigma_{\\underline{\\epsilon}_{\\underline{U1}}}^{2} \\left(\\alpha_{\\underline{X}|\\underline{U1}} \\alpha_{\\underline{Y}|\\underline{X}} + \\alpha_{\\underline{Y}|\\underline{Z}} \\alpha_{\\underline{Z}|\\underline{U1}}\\right)}{\\sigma_{\\underline{Y}}^{2}}\n",
       "\\\\\n",
       "\\frac{\\partial\\underline{U2}}{\\partial\\underline{U1}}=0\n",
       "\\\\\n",
       "\\frac{\\partial\\underline{U2}}{\\partial\\underline{U2}}=\\frac{\\sigma_{\\underline{\\epsilon}_{\\underline{U2}}}^{2}}{\\sigma_{\\underline{U2}}^{2}}\n",
       "\\\\\n",
       "\\frac{\\partial\\underline{U2}}{\\partial\\underline{X}}=0\n",
       "\\\\\n",
       "\\frac{\\partial\\underline{U2}}{\\partial\\underline{Z}}=\\frac{\\alpha_{\\underline{Z}|\\underline{U2}} \\sigma_{\\underline{\\epsilon}_{\\underline{U2}}}^{2}}{\\sigma_{\\underline{Z}}^{2}}\n",
       "\\\\\n",
       "\\frac{\\partial\\underline{U2}}{\\partial\\underline{Y}}=\\frac{\\sigma_{\\underline{\\epsilon}_{\\underline{U2}}}^{2} \\left(\\alpha_{\\underline{Y}|\\underline{U2}} + \\alpha_{\\underline{Y}|\\underline{Z}} \\alpha_{\\underline{Z}|\\underline{U2}}\\right)}{\\sigma_{\\underline{Y}}^{2}}\n",
       "\\\\\n",
       "\\frac{\\partial\\underline{X}}{\\partial\\underline{U1}}=\\frac{\\alpha_{\\underline{X}|\\underline{U1}} \\sigma_{\\underline{\\epsilon}_{\\underline{U1}}}^{2}}{\\sigma_{\\underline{U1}}^{2}}\n",
       "\\\\\n",
       "\\frac{\\partial\\underline{X}}{\\partial\\underline{U2}}=0\n",
       "\\\\\n",
       "\\frac{\\partial\\underline{X}}{\\partial\\underline{X}}=\\frac{\\alpha_{\\underline{X}|\\underline{U1}}^{2} \\sigma_{\\underline{\\epsilon}_{\\underline{U1}}}^{2} + \\sigma_{\\underline{\\epsilon}_{\\underline{X}}}^{2}}{\\sigma_{\\underline{X}}^{2}}\n",
       "\\\\\n",
       "\\frac{\\partial\\underline{X}}{\\partial\\underline{Z}}=\\frac{\\alpha_{\\underline{X}|\\underline{U1}} \\alpha_{\\underline{Z}|\\underline{U1}} \\sigma_{\\underline{\\epsilon}_{\\underline{U1}}}^{2}}{\\sigma_{\\underline{Z}}^{2}}\n",
       "\\\\\n",
       "\\frac{\\partial\\underline{X}}{\\partial\\underline{Y}}=\\frac{\\alpha_{\\underline{X}|\\underline{U1}} \\sigma_{\\underline{\\epsilon}_{\\underline{U1}}}^{2} \\left(\\alpha_{\\underline{X}|\\underline{U1}} \\alpha_{\\underline{Y}|\\underline{X}} + \\alpha_{\\underline{Y}|\\underline{Z}} \\alpha_{\\underline{Z}|\\underline{U1}}\\right) + \\alpha_{\\underline{Y}|\\underline{X}} \\sigma_{\\underline{\\epsilon}_{\\underline{X}}}^{2}}{\\sigma_{\\underline{Y}}^{2}}\n",
       "\\\\\n",
       "\\frac{\\partial\\underline{Z}}{\\partial\\underline{U1}}=\\frac{\\alpha_{\\underline{Z}|\\underline{U1}} \\sigma_{\\underline{\\epsilon}_{\\underline{U1}}}^{2}}{\\sigma_{\\underline{U1}}^{2}}\n",
       "\\\\\n",
       "\\frac{\\partial\\underline{Z}}{\\partial\\underline{U2}}=\\frac{\\alpha_{\\underline{Z}|\\underline{U2}} \\sigma_{\\underline{\\epsilon}_{\\underline{U2}}}^{2}}{\\sigma_{\\underline{U2}}^{2}}\n",
       "\\\\\n",
       "\\frac{\\partial\\underline{Z}}{\\partial\\underline{X}}=\\frac{\\alpha_{\\underline{X}|\\underline{U1}} \\alpha_{\\underline{Z}|\\underline{U1}} \\sigma_{\\underline{\\epsilon}_{\\underline{U1}}}^{2}}{\\sigma_{\\underline{X}}^{2}}\n",
       "\\\\\n",
       "\\frac{\\partial\\underline{Z}}{\\partial\\underline{Z}}=\\frac{\\alpha_{\\underline{Z}|\\underline{U1}}^{2} \\sigma_{\\underline{\\epsilon}_{\\underline{U1}}}^{2} + \\alpha_{\\underline{Z}|\\underline{U2}}^{2} \\sigma_{\\underline{\\epsilon}_{\\underline{U2}}}^{2} + \\sigma_{\\underline{\\epsilon}_{\\underline{Z}}}^{2}}{\\sigma_{\\underline{Z}}^{2}}\n",
       "\\\\\n",
       "\\frac{\\partial\\underline{Z}}{\\partial\\underline{Y}}=\\frac{\\alpha_{\\underline{Y}|\\underline{Z}} \\sigma_{\\underline{\\epsilon}_{\\underline{Z}}}^{2} + \\alpha_{\\underline{Z}|\\underline{U1}} \\sigma_{\\underline{\\epsilon}_{\\underline{U1}}}^{2} \\left(\\alpha_{\\underline{X}|\\underline{U1}} \\alpha_{\\underline{Y}|\\underline{X}} + \\alpha_{\\underline{Y}|\\underline{Z}} \\alpha_{\\underline{Z}|\\underline{U1}}\\right) + \\alpha_{\\underline{Z}|\\underline{U2}} \\sigma_{\\underline{\\epsilon}_{\\underline{U2}}}^{2} \\left(\\alpha_{\\underline{Y}|\\underline{U2}} + \\alpha_{\\underline{Y}|\\underline{Z}} \\alpha_{\\underline{Z}|\\underline{U2}}\\right)}{\\sigma_{\\underline{Y}}^{2}}\n",
       "\\\\\n",
       "\\frac{\\partial\\underline{Y}}{\\partial\\underline{U1}}=\\frac{\\sigma_{\\underline{\\epsilon}_{\\underline{U1}}}^{2} \\left(\\alpha_{\\underline{X}|\\underline{U1}} \\alpha_{\\underline{Y}|\\underline{X}} + \\alpha_{\\underline{Y}|\\underline{Z}} \\alpha_{\\underline{Z}|\\underline{U1}}\\right)}{\\sigma_{\\underline{U1}}^{2}}\n",
       "\\\\\n",
       "\\frac{\\partial\\underline{Y}}{\\partial\\underline{U2}}=\\frac{\\sigma_{\\underline{\\epsilon}_{\\underline{U2}}}^{2} \\left(\\alpha_{\\underline{Y}|\\underline{U2}} + \\alpha_{\\underline{Y}|\\underline{Z}} \\alpha_{\\underline{Z}|\\underline{U2}}\\right)}{\\sigma_{\\underline{U2}}^{2}}\n",
       "\\\\\n",
       "\\frac{\\partial\\underline{Y}}{\\partial\\underline{X}}=\\frac{\\alpha_{\\underline{X}|\\underline{U1}} \\sigma_{\\underline{\\epsilon}_{\\underline{U1}}}^{2} \\left(\\alpha_{\\underline{X}|\\underline{U1}} \\alpha_{\\underline{Y}|\\underline{X}} + \\alpha_{\\underline{Y}|\\underline{Z}} \\alpha_{\\underline{Z}|\\underline{U1}}\\right) + \\alpha_{\\underline{Y}|\\underline{X}} \\sigma_{\\underline{\\epsilon}_{\\underline{X}}}^{2}}{\\sigma_{\\underline{X}}^{2}}\n",
       "\\\\\n",
       "\\frac{\\partial\\underline{Y}}{\\partial\\underline{Z}}=\\frac{\\alpha_{\\underline{Y}|\\underline{Z}} \\sigma_{\\underline{\\epsilon}_{\\underline{Z}}}^{2} + \\alpha_{\\underline{Z}|\\underline{U1}} \\sigma_{\\underline{\\epsilon}_{\\underline{U1}}}^{2} \\left(\\alpha_{\\underline{X}|\\underline{U1}} \\alpha_{\\underline{Y}|\\underline{X}} + \\alpha_{\\underline{Y}|\\underline{Z}} \\alpha_{\\underline{Z}|\\underline{U1}}\\right) + \\alpha_{\\underline{Z}|\\underline{U2}} \\sigma_{\\underline{\\epsilon}_{\\underline{U2}}}^{2} \\left(\\alpha_{\\underline{Y}|\\underline{U2}} + \\alpha_{\\underline{Y}|\\underline{Z}} \\alpha_{\\underline{Z}|\\underline{U2}}\\right)}{\\sigma_{\\underline{Z}}^{2}}\n",
       "\\\\\n",
       "\\frac{\\partial\\underline{Y}}{\\partial\\underline{Y}}=\\frac{\\alpha_{\\underline{Y}|\\underline{X}}^{2} \\sigma_{\\underline{\\epsilon}_{\\underline{X}}}^{2} + \\alpha_{\\underline{Y}|\\underline{Z}}^{2} \\sigma_{\\underline{\\epsilon}_{\\underline{Z}}}^{2} + \\sigma_{\\underline{\\epsilon}_{\\underline{U1}}}^{2} \\left(\\alpha_{\\underline{X}|\\underline{U1}} \\alpha_{\\underline{Y}|\\underline{X}} + \\alpha_{\\underline{Y}|\\underline{Z}} \\alpha_{\\underline{Z}|\\underline{U1}}\\right)^{2} + \\sigma_{\\underline{\\epsilon}_{\\underline{U2}}}^{2} \\left(\\alpha_{\\underline{Y}|\\underline{U2}} + \\alpha_{\\underline{Y}|\\underline{Z}} \\alpha_{\\underline{Z}|\\underline{U2}}\\right)^{2} + \\sigma_{\\underline{\\epsilon}_{\\underline{Y}}}^{2}}{\\sigma_{\\underline{Y}}^{2}}\n",
       "\\end{array}$"
      ],
      "text/plain": [
       "\\begin{array}{l}\n",
       "\\frac{\\partial\\underline{U1}}{\\partial\\underline{U1}}=\\frac{\\sigma_{\\underline{\\epsilon}_{\\underline{U1}}}^{2}}{\\sigma_{\\underline{U1}}^{2}}\n",
       "\\\\\n",
       "\\frac{\\partial\\underline{U1}}{\\partial\\underline{U2}}=0\n",
       "\\\\\n",
       "\\frac{\\partial\\underline{U1}}{\\partial\\underline{X}}=\\frac{\\alpha_{\\underline{X}|\\underline{U1}} \\sigma_{\\underline{\\epsilon}_{\\underline{U1}}}^{2}}{\\sigma_{\\underline{X}}^{2}}\n",
       "\\\\\n",
       "\\frac{\\partial\\underline{U1}}{\\partial\\underline{Z}}=\\frac{\\alpha_{\\underline{Z}|\\underline{U1}} \\sigma_{\\underline{\\epsilon}_{\\underline{U1}}}^{2}}{\\sigma_{\\underline{Z}}^{2}}\n",
       "\\\\\n",
       "\\frac{\\partial\\underline{U1}}{\\partial\\underline{Y}}=\\frac{\\sigma_{\\underline{\\epsilon}_{\\underline{U1}}}^{2} \\left(\\alpha_{\\underline{X}|\\underline{U1}} \\alpha_{\\underline{Y}|\\underline{X}} + \\alpha_{\\underline{Y}|\\underline{Z}} \\alpha_{\\underline{Z}|\\underline{U1}}\\right)}{\\sigma_{\\underline{Y}}^{2}}\n",
       "\\\\\n",
       "\\frac{\\partial\\underline{U2}}{\\partial\\underline{U1}}=0\n",
       "\\\\\n",
       "\\frac{\\partial\\underline{U2}}{\\partial\\underline{U2}}=\\frac{\\sigma_{\\underline{\\epsilon}_{\\underline{U2}}}^{2}}{\\sigma_{\\underline{U2}}^{2}}\n",
       "\\\\\n",
       "\\frac{\\partial\\underline{U2}}{\\partial\\underline{X}}=0\n",
       "\\\\\n",
       "\\frac{\\partial\\underline{U2}}{\\partial\\underline{Z}}=\\frac{\\alpha_{\\underline{Z}|\\underline{U2}} \\sigma_{\\underline{\\epsilon}_{\\underline{U2}}}^{2}}{\\sigma_{\\underline{Z}}^{2}}\n",
       "\\\\\n",
       "\\frac{\\partial\\underline{U2}}{\\partial\\underline{Y}}=\\frac{\\sigma_{\\underline{\\epsilon}_{\\underline{U2}}}^{2} \\left(\\alpha_{\\underline{Y}|\\underline{U2}} + \\alpha_{\\underline{Y}|\\underline{Z}} \\alpha_{\\underline{Z}|\\underline{U2}}\\right)}{\\sigma_{\\underline{Y}}^{2}}\n",
       "\\\\\n",
       "\\frac{\\partial\\underline{X}}{\\partial\\underline{U1}}=\\frac{\\alpha_{\\underline{X}|\\underline{U1}} \\sigma_{\\underline{\\epsilon}_{\\underline{U1}}}^{2}}{\\sigma_{\\underline{U1}}^{2}}\n",
       "\\\\\n",
       "\\frac{\\partial\\underline{X}}{\\partial\\underline{U2}}=0\n",
       "\\\\\n",
       "\\frac{\\partial\\underline{X}}{\\partial\\underline{X}}=\\frac{\\alpha_{\\underline{X}|\\underline{U1}}^{2} \\sigma_{\\underline{\\epsilon}_{\\underline{U1}}}^{2} + \\sigma_{\\underline{\\epsilon}_{\\underline{X}}}^{2}}{\\sigma_{\\underline{X}}^{2}}\n",
       "\\\\\n",
       "\\frac{\\partial\\underline{X}}{\\partial\\underline{Z}}=\\frac{\\alpha_{\\underline{X}|\\underline{U1}} \\alpha_{\\underline{Z}|\\underline{U1}} \\sigma_{\\underline{\\epsilon}_{\\underline{U1}}}^{2}}{\\sigma_{\\underline{Z}}^{2}}\n",
       "\\\\\n",
       "\\frac{\\partial\\underline{X}}{\\partial\\underline{Y}}=\\frac{\\alpha_{\\underline{X}|\\underline{U1}} \\sigma_{\\underline{\\epsilon}_{\\underline{U1}}}^{2} \\left(\\alpha_{\\underline{X}|\\underline{U1}} \\alpha_{\\underline{Y}|\\underline{X}} + \\alpha_{\\underline{Y}|\\underline{Z}} \\alpha_{\\underline{Z}|\\underline{U1}}\\right) + \\alpha_{\\underline{Y}|\\underline{X}} \\sigma_{\\underline{\\epsilon}_{\\underline{X}}}^{2}}{\\sigma_{\\underline{Y}}^{2}}\n",
       "\\\\\n",
       "\\frac{\\partial\\underline{Z}}{\\partial\\underline{U1}}=\\frac{\\alpha_{\\underline{Z}|\\underline{U1}} \\sigma_{\\underline{\\epsilon}_{\\underline{U1}}}^{2}}{\\sigma_{\\underline{U1}}^{2}}\n",
       "\\\\\n",
       "\\frac{\\partial\\underline{Z}}{\\partial\\underline{U2}}=\\frac{\\alpha_{\\underline{Z}|\\underline{U2}} \\sigma_{\\underline{\\epsilon}_{\\underline{U2}}}^{2}}{\\sigma_{\\underline{U2}}^{2}}\n",
       "\\\\\n",
       "\\frac{\\partial\\underline{Z}}{\\partial\\underline{X}}=\\frac{\\alpha_{\\underline{X}|\\underline{U1}} \\alpha_{\\underline{Z}|\\underline{U1}} \\sigma_{\\underline{\\epsilon}_{\\underline{U1}}}^{2}}{\\sigma_{\\underline{X}}^{2}}\n",
       "\\\\\n",
       "\\frac{\\partial\\underline{Z}}{\\partial\\underline{Z}}=\\frac{\\alpha_{\\underline{Z}|\\underline{U1}}^{2} \\sigma_{\\underline{\\epsilon}_{\\underline{U1}}}^{2} + \\alpha_{\\underline{Z}|\\underline{U2}}^{2} \\sigma_{\\underline{\\epsilon}_{\\underline{U2}}}^{2} + \\sigma_{\\underline{\\epsilon}_{\\underline{Z}}}^{2}}{\\sigma_{\\underline{Z}}^{2}}\n",
       "\\\\\n",
       "\\frac{\\partial\\underline{Z}}{\\partial\\underline{Y}}=\\frac{\\alpha_{\\underline{Y}|\\underline{Z}} \\sigma_{\\underline{\\epsilon}_{\\underline{Z}}}^{2} + \\alpha_{\\underline{Z}|\\underline{U1}} \\sigma_{\\underline{\\epsilon}_{\\underline{U1}}}^{2} \\left(\\alpha_{\\underline{X}|\\underline{U1}} \\alpha_{\\underline{Y}|\\underline{X}} + \\alpha_{\\underline{Y}|\\underline{Z}} \\alpha_{\\underline{Z}|\\underline{U1}}\\right) + \\alpha_{\\underline{Z}|\\underline{U2}} \\sigma_{\\underline{\\epsilon}_{\\underline{U2}}}^{2} \\left(\\alpha_{\\underline{Y}|\\underline{U2}} + \\alpha_{\\underline{Y}|\\underline{Z}} \\alpha_{\\underline{Z}|\\underline{U2}}\\right)}{\\sigma_{\\underline{Y}}^{2}}\n",
       "\\\\\n",
       "\\frac{\\partial\\underline{Y}}{\\partial\\underline{U1}}=\\frac{\\sigma_{\\underline{\\epsilon}_{\\underline{U1}}}^{2} \\left(\\alpha_{\\underline{X}|\\underline{U1}} \\alpha_{\\underline{Y}|\\underline{X}} + \\alpha_{\\underline{Y}|\\underline{Z}} \\alpha_{\\underline{Z}|\\underline{U1}}\\right)}{\\sigma_{\\underline{U1}}^{2}}\n",
       "\\\\\n",
       "\\frac{\\partial\\underline{Y}}{\\partial\\underline{U2}}=\\frac{\\sigma_{\\underline{\\epsilon}_{\\underline{U2}}}^{2} \\left(\\alpha_{\\underline{Y}|\\underline{U2}} + \\alpha_{\\underline{Y}|\\underline{Z}} \\alpha_{\\underline{Z}|\\underline{U2}}\\right)}{\\sigma_{\\underline{U2}}^{2}}\n",
       "\\\\\n",
       "\\frac{\\partial\\underline{Y}}{\\partial\\underline{X}}=\\frac{\\alpha_{\\underline{X}|\\underline{U1}} \\sigma_{\\underline{\\epsilon}_{\\underline{U1}}}^{2} \\left(\\alpha_{\\underline{X}|\\underline{U1}} \\alpha_{\\underline{Y}|\\underline{X}} + \\alpha_{\\underline{Y}|\\underline{Z}} \\alpha_{\\underline{Z}|\\underline{U1}}\\right) + \\alpha_{\\underline{Y}|\\underline{X}} \\sigma_{\\underline{\\epsilon}_{\\underline{X}}}^{2}}{\\sigma_{\\underline{X}}^{2}}\n",
       "\\\\\n",
       "\\frac{\\partial\\underline{Y}}{\\partial\\underline{Z}}=\\frac{\\alpha_{\\underline{Y}|\\underline{Z}} \\sigma_{\\underline{\\epsilon}_{\\underline{Z}}}^{2} + \\alpha_{\\underline{Z}|\\underline{U1}} \\sigma_{\\underline{\\epsilon}_{\\underline{U1}}}^{2} \\left(\\alpha_{\\underline{X}|\\underline{U1}} \\alpha_{\\underline{Y}|\\underline{X}} + \\alpha_{\\underline{Y}|\\underline{Z}} \\alpha_{\\underline{Z}|\\underline{U1}}\\right) + \\alpha_{\\underline{Z}|\\underline{U2}} \\sigma_{\\underline{\\epsilon}_{\\underline{U2}}}^{2} \\left(\\alpha_{\\underline{Y}|\\underline{U2}} + \\alpha_{\\underline{Y}|\\underline{Z}} \\alpha_{\\underline{Z}|\\underline{U2}}\\right)}{\\sigma_{\\underline{Z}}^{2}}\n",
       "\\\\\n",
       "\\frac{\\partial\\underline{Y}}{\\partial\\underline{Y}}=\\frac{\\alpha_{\\underline{Y}|\\underline{X}}^{2} \\sigma_{\\underline{\\epsilon}_{\\underline{X}}}^{2} + \\alpha_{\\underline{Y}|\\underline{Z}}^{2} \\sigma_{\\underline{\\epsilon}_{\\underline{Z}}}^{2} + \\sigma_{\\underline{\\epsilon}_{\\underline{U1}}}^{2} \\left(\\alpha_{\\underline{X}|\\underline{U1}} \\alpha_{\\underline{Y}|\\underline{X}} + \\alpha_{\\underline{Y}|\\underline{Z}} \\alpha_{\\underline{Z}|\\underline{U1}}\\right)^{2} + \\sigma_{\\underline{\\epsilon}_{\\underline{U2}}}^{2} \\left(\\alpha_{\\underline{Y}|\\underline{U2}} + \\alpha_{\\underline{Y}|\\underline{Z}} \\alpha_{\\underline{Z}|\\underline{U2}}\\right)^{2} + \\sigma_{\\underline{\\epsilon}_{\\underline{Y}}}^{2}}{\\sigma_{\\underline{Y}}^{2}}\n",
       "\\end{array}"
      ]
     },
     "execution_count": 5,
     "metadata": {},
     "output_type": "execute_result"
    }
   ],
   "source": [
    "cal.print_jacobian_entries(latex=True)"
   ]
  },
  {
   "cell_type": "code",
   "execution_count": null,
   "id": "32f8f8fa-4427-4827-81d7-7806a5b58a96",
   "metadata": {},
   "outputs": [],
   "source": []
  }
 ],
 "metadata": {
  "kernelspec": {
   "display_name": "Python 3 (ipykernel)",
   "language": "python",
   "name": "python3"
  },
  "language_info": {
   "codemirror_mode": {
    "name": "ipython",
    "version": 3
   },
   "file_extension": ".py",
   "mimetype": "text/x-python",
   "name": "python",
   "nbconvert_exporter": "python",
   "pygments_lexer": "ipython3",
   "version": "3.10.9"
  }
 },
 "nbformat": 4,
 "nbformat_minor": 5
}
