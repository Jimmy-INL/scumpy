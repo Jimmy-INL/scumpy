{
 "cells": [
  {
   "cell_type": "markdown",
   "id": "68d1a8ef-f7dc-4d43-959a-878bb0aa2e97",
   "metadata": {},
   "source": [
    "# G12 covariance matrix\n",
    "Main Reference:\n",
    "\n",
    "* <a href=https://ftp.cs.ucla.edu/pub/stat_ser/r493.pdf>A Crash Course in Good and Bad Controls</a>,\n",
    "by Carlos Cinelli, Andrew Forney and Judea Pearl\n",
    "\n",
    "In this notebook, we derive, using a symbolic manipulator (SymPy), the covariance matrix and jacobian as a function of the gains, for \n",
    "\n",
    "## G12 \n",
    "\n",
    "This covariance matrix appears at the end of that paper."
   ]
  },
  {
   "cell_type": "markdown",
   "id": "abb37dc4-2f03-484a-b459-2f5002bd6918",
   "metadata": {},
   "source": [
    "## Conditioning on $\\underline{Z}$\n",
    "\n",
    "When $\\underline{Z}$ is held fixed to a constant\n",
    "value $z$, we must set\n",
    "1. $\\langle \\underline{Z},\\underline{a}\\rangle=0$ \n",
    "for any node $\\underline{a}$. That's because if one of the two arguments \n",
    "of a covariance is a constant, the covariance is zero. Hence, \n",
    "for arbitrary nodes $\\underline{a}$\n",
    "and $\\underline{b}$,\n",
    "ratios such as \n",
    "$\\langle \\underline{Z},\n",
    "\\underline{a}\\rangle/\\langle \\underline{Z},\n",
    "\\underline{b}\\rangle$,\n",
    "are indefinite,\n",
    "and can take on any value.\n",
    "\n",
    "2. $\\langle\\underline{\\epsilon}_\\underline{Z},\\underline{\\epsilon}_\\underline{a}\\rangle=0$ \n",
    "for any node $\\underline{a}$.\n",
    "That's because when $\\underline{Z}$ is held fixed,\n",
    "$\\underline{\\epsilon}_\\underline{Z}$ no longer serves any \n",
    "purpose and becomes arbitrary.\n",
    "\n",
    "3. $\\langle\\underline{\\epsilon}_\\underline{a},\\underline{\\epsilon}_\\underline{b}\\rangle=0$ \n",
    "for any two distinct nodes $\\underline{a}, \\underline{b}$.\n",
    "This is the standard SCM assumption that \n",
    "$\\langle \\underline{\\epsilon}_i, \\underline{\\epsilon}_j\\rangle=0$\n",
    "if $i\\neq j$.\n",
    "\n",
    "When $\\underline{Z}$ is a \"good\" control (see, for example, \n",
    "the notebooks for graph G1),\n",
    "(1), (2) and (3) can all be satisfied without contradiction. \n",
    "\n",
    "When $\\underline{Z}$ is a \"bad\" control (see, for example, \n",
    "the notebooks for graph G7),\n",
    "(1), (2) and (3) cannot all be satisfied without contradiction. It  is possible,\n",
    "however, to satisfy constraints (1) and (2), but\n",
    "discard (3). The SCuMpy function 'CovMatCalculator()'\n",
    "has a parameter 'conditioned_nds' which is\n",
    "normally set to None, but which when set to a list of nodes as in\n",
    "'conditioned_nds=[\"Z\"]', includes all covariances\n",
    "$\\langle \\underline{\\epsilon}_i, \\underline{\\epsilon}_j\\rangle\\neq 0$,\n",
    "as long neither $i$ nor $j$ is in the conditioned nodes list.\n",
    "\n",
    "The reason that discarding constraint (3) when we condition\n",
    "on some nodes makes sense is as follows. If one of the \n",
    "nodes you are conditioning on is a collider, you might\n",
    "open an unblocked path between two of the $\\underline{\\epsilon}_j$\n",
    "nodes. This is exactly what happens when you condition\n",
    "graph G7 on node $\\underline{Z}$."
   ]
  },
  {
   "cell_type": "code",
   "execution_count": 1,
   "id": "73d99326-85ad-40c0-b3ba-cc873ed5276e",
   "metadata": {},
   "outputs": [
    {
     "name": "stdout",
     "output_type": "stream",
     "text": [
      "C:\\Users\\rrtuc\\Desktop\\backed-up\\python-projects\\scumpy\n"
     ]
    }
   ],
   "source": [
    "# this makes sure it starts looking for things from the scumpy folder down.\n",
    "import os\n",
    "import sys\n",
    "os.chdir('../')\n",
    "sys.path.insert(0,os.getcwd())\n",
    "print(os.getcwd())"
   ]
  },
  {
   "cell_type": "code",
   "execution_count": 2,
   "id": "bfa6c1fe-c023-4169-b42c-820512fbf67f",
   "metadata": {},
   "outputs": [],
   "source": [
    "from Graph import *\n",
    "from CovMatCalculator import *"
   ]
  },
  {
   "cell_type": "code",
   "execution_count": 3,
   "id": "c83d0949-c9a8-429a-b1a2-eda0d229b558",
   "metadata": {},
   "outputs": [
    {
     "data": {
      "image/png": "[encoded data removed]",
      "text/plain": [
       "<IPython.core.display.Image object>"
      ]
     },
     "metadata": {},
     "output_type": "display_data"
    }
   ],
   "source": [
    "path = 'dot_atlas/good_bad_trols_G12.dot'\n",
    "graph = Graph(path)\n",
    "graph.draw(jupyter=True)"
   ]
  },
  {
   "cell_type": "code",
   "execution_count": 4,
   "id": "4c12a223-53ac-4d70-b124-e6f812dff43d",
   "metadata": {},
   "outputs": [
    {
     "data": {
      "text/latex": [
       "$\\displaystyle \\begin{array}{l}\n",
       "\\left\\langle\\underline{X}, \\underline{X}\\right\\rangle=\\sigma^2_{\\underline{\\epsilon}_{\\underline{X}}}\n",
       "\\\\\n",
       "\\left\\langle\\underline{X}, \\underline{M}\\right\\rangle=\\alpha_{\\underline{M}|\\underline{X}} \\sigma^2_{\\underline{\\epsilon}_{\\underline{X}}}\n",
       "\\\\\n",
       "\\left\\langle\\underline{X}, \\underline{Z}\\right\\rangle=\\alpha_{\\underline{M}|\\underline{X}} \\alpha_{\\underline{Z}|\\underline{M}} \\sigma^2_{\\underline{\\epsilon}_{\\underline{X}}}\n",
       "\\\\\n",
       "\\left\\langle\\underline{X}, \\underline{Y}\\right\\rangle=\\alpha_{\\underline{M}|\\underline{X}} \\alpha_{\\underline{Y}|\\underline{M}} \\sigma^2_{\\underline{\\epsilon}_{\\underline{X}}}\n",
       "\\\\\n",
       "\\left\\langle\\underline{M}, \\underline{X}\\right\\rangle=\\alpha_{\\underline{M}|\\underline{X}} \\sigma^2_{\\underline{\\epsilon}_{\\underline{X}}}\n",
       "\\\\\n",
       "\\left\\langle\\underline{M}, \\underline{M}\\right\\rangle=\\alpha_{\\underline{M}|\\underline{X}}^{2} \\sigma^2_{\\underline{\\epsilon}_{\\underline{X}}} + \\sigma^2_{\\underline{\\epsilon}_{\\underline{M}}}\n",
       "\\\\\n",
       "\\left\\langle\\underline{M}, \\underline{Z}\\right\\rangle=\\alpha_{\\underline{Z}|\\underline{M}} \\left(\\alpha_{\\underline{M}|\\underline{X}}^{2} \\sigma^2_{\\underline{\\epsilon}_{\\underline{X}}} + \\sigma^2_{\\underline{\\epsilon}_{\\underline{M}}}\\right)\n",
       "\\\\\n",
       "\\left\\langle\\underline{M}, \\underline{Y}\\right\\rangle=\\alpha_{\\underline{Y}|\\underline{M}} \\left(\\alpha_{\\underline{M}|\\underline{X}}^{2} \\sigma^2_{\\underline{\\epsilon}_{\\underline{X}}} + \\sigma^2_{\\underline{\\epsilon}_{\\underline{M}}}\\right)\n",
       "\\\\\n",
       "\\left\\langle\\underline{Z}, \\underline{X}\\right\\rangle=\\alpha_{\\underline{M}|\\underline{X}} \\alpha_{\\underline{Z}|\\underline{M}} \\sigma^2_{\\underline{\\epsilon}_{\\underline{X}}}\n",
       "\\\\\n",
       "\\left\\langle\\underline{Z}, \\underline{M}\\right\\rangle=\\alpha_{\\underline{Z}|\\underline{M}} \\left(\\alpha_{\\underline{M}|\\underline{X}}^{2} \\sigma^2_{\\underline{\\epsilon}_{\\underline{X}}} + \\sigma^2_{\\underline{\\epsilon}_{\\underline{M}}}\\right)\n",
       "\\\\\n",
       "\\left\\langle\\underline{Z}, \\underline{Z}\\right\\rangle=\\alpha_{\\underline{M}|\\underline{X}}^{2} \\alpha_{\\underline{Z}|\\underline{M}}^{2} \\sigma^2_{\\underline{\\epsilon}_{\\underline{X}}} + \\alpha_{\\underline{Z}|\\underline{M}}^{2} \\sigma^2_{\\underline{\\epsilon}_{\\underline{M}}} + \\sigma^2_{\\underline{\\epsilon}_{\\underline{Z}}}\n",
       "\\\\\n",
       "\\left\\langle\\underline{Z}, \\underline{Y}\\right\\rangle=\\alpha_{\\underline{Y}|\\underline{M}} \\alpha_{\\underline{Z}|\\underline{M}} \\left(\\alpha_{\\underline{M}|\\underline{X}}^{2} \\sigma^2_{\\underline{\\epsilon}_{\\underline{X}}} + \\sigma^2_{\\underline{\\epsilon}_{\\underline{M}}}\\right)\n",
       "\\\\\n",
       "\\left\\langle\\underline{Y}, \\underline{X}\\right\\rangle=\\alpha_{\\underline{M}|\\underline{X}} \\alpha_{\\underline{Y}|\\underline{M}} \\sigma^2_{\\underline{\\epsilon}_{\\underline{X}}}\n",
       "\\\\\n",
       "\\left\\langle\\underline{Y}, \\underline{M}\\right\\rangle=\\alpha_{\\underline{Y}|\\underline{M}} \\left(\\alpha_{\\underline{M}|\\underline{X}}^{2} \\sigma^2_{\\underline{\\epsilon}_{\\underline{X}}} + \\sigma^2_{\\underline{\\epsilon}_{\\underline{M}}}\\right)\n",
       "\\\\\n",
       "\\left\\langle\\underline{Y}, \\underline{Z}\\right\\rangle=\\alpha_{\\underline{Y}|\\underline{M}} \\alpha_{\\underline{Z}|\\underline{M}} \\left(\\alpha_{\\underline{M}|\\underline{X}}^{2} \\sigma^2_{\\underline{\\epsilon}_{\\underline{X}}} + \\sigma^2_{\\underline{\\epsilon}_{\\underline{M}}}\\right)\n",
       "\\\\\n",
       "\\left\\langle\\underline{Y}, \\underline{Y}\\right\\rangle=\\alpha_{\\underline{M}|\\underline{X}}^{2} \\alpha_{\\underline{Y}|\\underline{M}}^{2} \\sigma^2_{\\underline{\\epsilon}_{\\underline{X}}} + \\alpha_{\\underline{Y}|\\underline{M}}^{2} \\sigma^2_{\\underline{\\epsilon}_{\\underline{M}}} + \\sigma^2_{\\underline{\\epsilon}_{\\underline{Y}}}\n",
       "\\end{array}$"
      ],
      "text/plain": [
       "\\begin{array}{l}\n",
       "\\left\\langle\\underline{X}, \\underline{X}\\right\\rangle=\\sigma^2_{\\underline{\\epsilon}_{\\underline{X}}}\n",
       "\\\\\n",
       "\\left\\langle\\underline{X}, \\underline{M}\\right\\rangle=\\alpha_{\\underline{M}|\\underline{X}} \\sigma^2_{\\underline{\\epsilon}_{\\underline{X}}}\n",
       "\\\\\n",
       "\\left\\langle\\underline{X}, \\underline{Z}\\right\\rangle=\\alpha_{\\underline{M}|\\underline{X}} \\alpha_{\\underline{Z}|\\underline{M}} \\sigma^2_{\\underline{\\epsilon}_{\\underline{X}}}\n",
       "\\\\\n",
       "\\left\\langle\\underline{X}, \\underline{Y}\\right\\rangle=\\alpha_{\\underline{M}|\\underline{X}} \\alpha_{\\underline{Y}|\\underline{M}} \\sigma^2_{\\underline{\\epsilon}_{\\underline{X}}}\n",
       "\\\\\n",
       "\\left\\langle\\underline{M}, \\underline{X}\\right\\rangle=\\alpha_{\\underline{M}|\\underline{X}} \\sigma^2_{\\underline{\\epsilon}_{\\underline{X}}}\n",
       "\\\\\n",
       "\\left\\langle\\underline{M}, \\underline{M}\\right\\rangle=\\alpha_{\\underline{M}|\\underline{X}}^{2} \\sigma^2_{\\underline{\\epsilon}_{\\underline{X}}} + \\sigma^2_{\\underline{\\epsilon}_{\\underline{M}}}\n",
       "\\\\\n",
       "\\left\\langle\\underline{M}, \\underline{Z}\\right\\rangle=\\alpha_{\\underline{Z}|\\underline{M}} \\left(\\alpha_{\\underline{M}|\\underline{X}}^{2} \\sigma^2_{\\underline{\\epsilon}_{\\underline{X}}} + \\sigma^2_{\\underline{\\epsilon}_{\\underline{M}}}\\right)\n",
       "\\\\\n",
       "\\left\\langle\\underline{M}, \\underline{Y}\\right\\rangle=\\alpha_{\\underline{Y}|\\underline{M}} \\left(\\alpha_{\\underline{M}|\\underline{X}}^{2} \\sigma^2_{\\underline{\\epsilon}_{\\underline{X}}} + \\sigma^2_{\\underline{\\epsilon}_{\\underline{M}}}\\right)\n",
       "\\\\\n",
       "\\left\\langle\\underline{Z}, \\underline{X}\\right\\rangle=\\alpha_{\\underline{M}|\\underline{X}} \\alpha_{\\underline{Z}|\\underline{M}} \\sigma^2_{\\underline{\\epsilon}_{\\underline{X}}}\n",
       "\\\\\n",
       "\\left\\langle\\underline{Z}, \\underline{M}\\right\\rangle=\\alpha_{\\underline{Z}|\\underline{M}} \\left(\\alpha_{\\underline{M}|\\underline{X}}^{2} \\sigma^2_{\\underline{\\epsilon}_{\\underline{X}}} + \\sigma^2_{\\underline{\\epsilon}_{\\underline{M}}}\\right)\n",
       "\\\\\n",
       "\\left\\langle\\underline{Z}, \\underline{Z}\\right\\rangle=\\alpha_{\\underline{M}|\\underline{X}}^{2} \\alpha_{\\underline{Z}|\\underline{M}}^{2} \\sigma^2_{\\underline{\\epsilon}_{\\underline{X}}} + \\alpha_{\\underline{Z}|\\underline{M}}^{2} \\sigma^2_{\\underline{\\epsilon}_{\\underline{M}}} + \\sigma^2_{\\underline{\\epsilon}_{\\underline{Z}}}\n",
       "\\\\\n",
       "\\left\\langle\\underline{Z}, \\underline{Y}\\right\\rangle=\\alpha_{\\underline{Y}|\\underline{M}} \\alpha_{\\underline{Z}|\\underline{M}} \\left(\\alpha_{\\underline{M}|\\underline{X}}^{2} \\sigma^2_{\\underline{\\epsilon}_{\\underline{X}}} + \\sigma^2_{\\underline{\\epsilon}_{\\underline{M}}}\\right)\n",
       "\\\\\n",
       "\\left\\langle\\underline{Y}, \\underline{X}\\right\\rangle=\\alpha_{\\underline{M}|\\underline{X}} \\alpha_{\\underline{Y}|\\underline{M}} \\sigma^2_{\\underline{\\epsilon}_{\\underline{X}}}\n",
       "\\\\\n",
       "\\left\\langle\\underline{Y}, \\underline{M}\\right\\rangle=\\alpha_{\\underline{Y}|\\underline{M}} \\left(\\alpha_{\\underline{M}|\\underline{X}}^{2} \\sigma^2_{\\underline{\\epsilon}_{\\underline{X}}} + \\sigma^2_{\\underline{\\epsilon}_{\\underline{M}}}\\right)\n",
       "\\\\\n",
       "\\left\\langle\\underline{Y}, \\underline{Z}\\right\\rangle=\\alpha_{\\underline{Y}|\\underline{M}} \\alpha_{\\underline{Z}|\\underline{M}} \\left(\\alpha_{\\underline{M}|\\underline{X}}^{2} \\sigma^2_{\\underline{\\epsilon}_{\\underline{X}}} + \\sigma^2_{\\underline{\\epsilon}_{\\underline{M}}}\\right)\n",
       "\\\\\n",
       "\\left\\langle\\underline{Y}, \\underline{Y}\\right\\rangle=\\alpha_{\\underline{M}|\\underline{X}}^{2} \\alpha_{\\underline{Y}|\\underline{M}}^{2} \\sigma^2_{\\underline{\\epsilon}_{\\underline{X}}} + \\alpha_{\\underline{Y}|\\underline{M}}^{2} \\sigma^2_{\\underline{\\epsilon}_{\\underline{M}}} + \\sigma^2_{\\underline{\\epsilon}_{\\underline{Y}}}\n",
       "\\end{array}"
      ]
     },
     "execution_count": 4,
     "metadata": {},
     "output_type": "execute_result"
    }
   ],
   "source": [
    "cal = CovMatCalculator(graph)\n",
    "cal.calculate_cov_mat_sb()\n",
    "cal.print_cov_mat_entries()"
   ]
  },
  {
   "cell_type": "code",
   "execution_count": 5,
   "id": "ce95729c-58ec-4756-bd2d-e157014b69e0",
   "metadata": {},
   "outputs": [
    {
     "data": {
      "text/latex": [
       "$\\displaystyle \\begin{array}{l}\n",
       "\\frac{\\partial\\underline{X}}{\\partial\\underline{X}}=1\n",
       "\\\\\n",
       "\\frac{\\partial\\underline{X}}{\\partial\\underline{M}}=\\frac{\\alpha_{\\underline{M}|\\underline{X}} \\sigma^2_{\\underline{\\epsilon}_{\\underline{X}}}}{\\alpha_{\\underline{M}|\\underline{X}}^{2} \\sigma^2_{\\underline{\\epsilon}_{\\underline{X}}} + \\sigma^2_{\\underline{\\epsilon}_{\\underline{M}}}}\n",
       "\\\\\n",
       "\\frac{\\partial\\underline{X}}{\\partial\\underline{Z}}=\\frac{\\alpha_{\\underline{M}|\\underline{X}} \\alpha_{\\underline{Z}|\\underline{M}} \\sigma^2_{\\underline{\\epsilon}_{\\underline{X}}}}{\\alpha_{\\underline{M}|\\underline{X}}^{2} \\alpha_{\\underline{Z}|\\underline{M}}^{2} \\sigma^2_{\\underline{\\epsilon}_{\\underline{X}}} + \\alpha_{\\underline{Z}|\\underline{M}}^{2} \\sigma^2_{\\underline{\\epsilon}_{\\underline{M}}} + \\sigma^2_{\\underline{\\epsilon}_{\\underline{Z}}}}\n",
       "\\\\\n",
       "\\frac{\\partial\\underline{X}}{\\partial\\underline{Y}}=\\frac{\\alpha_{\\underline{M}|\\underline{X}} \\alpha_{\\underline{Y}|\\underline{M}} \\sigma^2_{\\underline{\\epsilon}_{\\underline{X}}}}{\\alpha_{\\underline{M}|\\underline{X}}^{2} \\alpha_{\\underline{Y}|\\underline{M}}^{2} \\sigma^2_{\\underline{\\epsilon}_{\\underline{X}}} + \\alpha_{\\underline{Y}|\\underline{M}}^{2} \\sigma^2_{\\underline{\\epsilon}_{\\underline{M}}} + \\sigma^2_{\\underline{\\epsilon}_{\\underline{Y}}}}\n",
       "\\\\\n",
       "\\frac{\\partial\\underline{M}}{\\partial\\underline{X}}=\\alpha_{\\underline{M}|\\underline{X}}\n",
       "\\\\\n",
       "\\frac{\\partial\\underline{M}}{\\partial\\underline{M}}=1\n",
       "\\\\\n",
       "\\frac{\\partial\\underline{M}}{\\partial\\underline{Z}}=\\frac{\\alpha_{\\underline{Z}|\\underline{M}} \\left(\\alpha_{\\underline{M}|\\underline{X}}^{2} \\sigma^2_{\\underline{\\epsilon}_{\\underline{X}}} + \\sigma^2_{\\underline{\\epsilon}_{\\underline{M}}}\\right)}{\\alpha_{\\underline{M}|\\underline{X}}^{2} \\alpha_{\\underline{Z}|\\underline{M}}^{2} \\sigma^2_{\\underline{\\epsilon}_{\\underline{X}}} + \\alpha_{\\underline{Z}|\\underline{M}}^{2} \\sigma^2_{\\underline{\\epsilon}_{\\underline{M}}} + \\sigma^2_{\\underline{\\epsilon}_{\\underline{Z}}}}\n",
       "\\\\\n",
       "\\frac{\\partial\\underline{M}}{\\partial\\underline{Y}}=\\frac{\\alpha_{\\underline{Y}|\\underline{M}} \\left(\\alpha_{\\underline{M}|\\underline{X}}^{2} \\sigma^2_{\\underline{\\epsilon}_{\\underline{X}}} + \\sigma^2_{\\underline{\\epsilon}_{\\underline{M}}}\\right)}{\\alpha_{\\underline{M}|\\underline{X}}^{2} \\alpha_{\\underline{Y}|\\underline{M}}^{2} \\sigma^2_{\\underline{\\epsilon}_{\\underline{X}}} + \\alpha_{\\underline{Y}|\\underline{M}}^{2} \\sigma^2_{\\underline{\\epsilon}_{\\underline{M}}} + \\sigma^2_{\\underline{\\epsilon}_{\\underline{Y}}}}\n",
       "\\\\\n",
       "\\frac{\\partial\\underline{Z}}{\\partial\\underline{X}}=\\alpha_{\\underline{M}|\\underline{X}} \\alpha_{\\underline{Z}|\\underline{M}}\n",
       "\\\\\n",
       "\\frac{\\partial\\underline{Z}}{\\partial\\underline{M}}=\\alpha_{\\underline{Z}|\\underline{M}}\n",
       "\\\\\n",
       "\\frac{\\partial\\underline{Z}}{\\partial\\underline{Z}}=1\n",
       "\\\\\n",
       "\\frac{\\partial\\underline{Z}}{\\partial\\underline{Y}}=\\frac{\\alpha_{\\underline{Y}|\\underline{M}} \\alpha_{\\underline{Z}|\\underline{M}} \\left(\\alpha_{\\underline{M}|\\underline{X}}^{2} \\sigma^2_{\\underline{\\epsilon}_{\\underline{X}}} + \\sigma^2_{\\underline{\\epsilon}_{\\underline{M}}}\\right)}{\\alpha_{\\underline{M}|\\underline{X}}^{2} \\alpha_{\\underline{Y}|\\underline{M}}^{2} \\sigma^2_{\\underline{\\epsilon}_{\\underline{X}}} + \\alpha_{\\underline{Y}|\\underline{M}}^{2} \\sigma^2_{\\underline{\\epsilon}_{\\underline{M}}} + \\sigma^2_{\\underline{\\epsilon}_{\\underline{Y}}}}\n",
       "\\\\\n",
       "\\frac{\\partial\\underline{Y}}{\\partial\\underline{X}}=\\alpha_{\\underline{M}|\\underline{X}} \\alpha_{\\underline{Y}|\\underline{M}}\n",
       "\\\\\n",
       "\\frac{\\partial\\underline{Y}}{\\partial\\underline{M}}=\\alpha_{\\underline{Y}|\\underline{M}}\n",
       "\\\\\n",
       "\\frac{\\partial\\underline{Y}}{\\partial\\underline{Z}}=\\frac{\\alpha_{\\underline{Y}|\\underline{M}} \\alpha_{\\underline{Z}|\\underline{M}} \\left(\\alpha_{\\underline{M}|\\underline{X}}^{2} \\sigma^2_{\\underline{\\epsilon}_{\\underline{X}}} + \\sigma^2_{\\underline{\\epsilon}_{\\underline{M}}}\\right)}{\\alpha_{\\underline{M}|\\underline{X}}^{2} \\alpha_{\\underline{Z}|\\underline{M}}^{2} \\sigma^2_{\\underline{\\epsilon}_{\\underline{X}}} + \\alpha_{\\underline{Z}|\\underline{M}}^{2} \\sigma^2_{\\underline{\\epsilon}_{\\underline{M}}} + \\sigma^2_{\\underline{\\epsilon}_{\\underline{Z}}}}\n",
       "\\\\\n",
       "\\frac{\\partial\\underline{Y}}{\\partial\\underline{Y}}=1\n",
       "\\end{array}$"
      ],
      "text/plain": [
       "\\begin{array}{l}\n",
       "\\frac{\\partial\\underline{X}}{\\partial\\underline{X}}=1\n",
       "\\\\\n",
       "\\frac{\\partial\\underline{X}}{\\partial\\underline{M}}=\\frac{\\alpha_{\\underline{M}|\\underline{X}} \\sigma^2_{\\underline{\\epsilon}_{\\underline{X}}}}{\\alpha_{\\underline{M}|\\underline{X}}^{2} \\sigma^2_{\\underline{\\epsilon}_{\\underline{X}}} + \\sigma^2_{\\underline{\\epsilon}_{\\underline{M}}}}\n",
       "\\\\\n",
       "\\frac{\\partial\\underline{X}}{\\partial\\underline{Z}}=\\frac{\\alpha_{\\underline{M}|\\underline{X}} \\alpha_{\\underline{Z}|\\underline{M}} \\sigma^2_{\\underline{\\epsilon}_{\\underline{X}}}}{\\alpha_{\\underline{M}|\\underline{X}}^{2} \\alpha_{\\underline{Z}|\\underline{M}}^{2} \\sigma^2_{\\underline{\\epsilon}_{\\underline{X}}} + \\alpha_{\\underline{Z}|\\underline{M}}^{2} \\sigma^2_{\\underline{\\epsilon}_{\\underline{M}}} + \\sigma^2_{\\underline{\\epsilon}_{\\underline{Z}}}}\n",
       "\\\\\n",
       "\\frac{\\partial\\underline{X}}{\\partial\\underline{Y}}=\\frac{\\alpha_{\\underline{M}|\\underline{X}} \\alpha_{\\underline{Y}|\\underline{M}} \\sigma^2_{\\underline{\\epsilon}_{\\underline{X}}}}{\\alpha_{\\underline{M}|\\underline{X}}^{2} \\alpha_{\\underline{Y}|\\underline{M}}^{2} \\sigma^2_{\\underline{\\epsilon}_{\\underline{X}}} + \\alpha_{\\underline{Y}|\\underline{M}}^{2} \\sigma^2_{\\underline{\\epsilon}_{\\underline{M}}} + \\sigma^2_{\\underline{\\epsilon}_{\\underline{Y}}}}\n",
       "\\\\\n",
       "\\frac{\\partial\\underline{M}}{\\partial\\underline{X}}=\\alpha_{\\underline{M}|\\underline{X}}\n",
       "\\\\\n",
       "\\frac{\\partial\\underline{M}}{\\partial\\underline{M}}=1\n",
       "\\\\\n",
       "\\frac{\\partial\\underline{M}}{\\partial\\underline{Z}}=\\frac{\\alpha_{\\underline{Z}|\\underline{M}} \\left(\\alpha_{\\underline{M}|\\underline{X}}^{2} \\sigma^2_{\\underline{\\epsilon}_{\\underline{X}}} + \\sigma^2_{\\underline{\\epsilon}_{\\underline{M}}}\\right)}{\\alpha_{\\underline{M}|\\underline{X}}^{2} \\alpha_{\\underline{Z}|\\underline{M}}^{2} \\sigma^2_{\\underline{\\epsilon}_{\\underline{X}}} + \\alpha_{\\underline{Z}|\\underline{M}}^{2} \\sigma^2_{\\underline{\\epsilon}_{\\underline{M}}} + \\sigma^2_{\\underline{\\epsilon}_{\\underline{Z}}}}\n",
       "\\\\\n",
       "\\frac{\\partial\\underline{M}}{\\partial\\underline{Y}}=\\frac{\\alpha_{\\underline{Y}|\\underline{M}} \\left(\\alpha_{\\underline{M}|\\underline{X}}^{2} \\sigma^2_{\\underline{\\epsilon}_{\\underline{X}}} + \\sigma^2_{\\underline{\\epsilon}_{\\underline{M}}}\\right)}{\\alpha_{\\underline{M}|\\underline{X}}^{2} \\alpha_{\\underline{Y}|\\underline{M}}^{2} \\sigma^2_{\\underline{\\epsilon}_{\\underline{X}}} + \\alpha_{\\underline{Y}|\\underline{M}}^{2} \\sigma^2_{\\underline{\\epsilon}_{\\underline{M}}} + \\sigma^2_{\\underline{\\epsilon}_{\\underline{Y}}}}\n",
       "\\\\\n",
       "\\frac{\\partial\\underline{Z}}{\\partial\\underline{X}}=\\alpha_{\\underline{M}|\\underline{X}} \\alpha_{\\underline{Z}|\\underline{M}}\n",
       "\\\\\n",
       "\\frac{\\partial\\underline{Z}}{\\partial\\underline{M}}=\\alpha_{\\underline{Z}|\\underline{M}}\n",
       "\\\\\n",
       "\\frac{\\partial\\underline{Z}}{\\partial\\underline{Z}}=1\n",
       "\\\\\n",
       "\\frac{\\partial\\underline{Z}}{\\partial\\underline{Y}}=\\frac{\\alpha_{\\underline{Y}|\\underline{M}} \\alpha_{\\underline{Z}|\\underline{M}} \\left(\\alpha_{\\underline{M}|\\underline{X}}^{2} \\sigma^2_{\\underline{\\epsilon}_{\\underline{X}}} + \\sigma^2_{\\underline{\\epsilon}_{\\underline{M}}}\\right)}{\\alpha_{\\underline{M}|\\underline{X}}^{2} \\alpha_{\\underline{Y}|\\underline{M}}^{2} \\sigma^2_{\\underline{\\epsilon}_{\\underline{X}}} + \\alpha_{\\underline{Y}|\\underline{M}}^{2} \\sigma^2_{\\underline{\\epsilon}_{\\underline{M}}} + \\sigma^2_{\\underline{\\epsilon}_{\\underline{Y}}}}\n",
       "\\\\\n",
       "\\frac{\\partial\\underline{Y}}{\\partial\\underline{X}}=\\alpha_{\\underline{M}|\\underline{X}} \\alpha_{\\underline{Y}|\\underline{M}}\n",
       "\\\\\n",
       "\\frac{\\partial\\underline{Y}}{\\partial\\underline{M}}=\\alpha_{\\underline{Y}|\\underline{M}}\n",
       "\\\\\n",
       "\\frac{\\partial\\underline{Y}}{\\partial\\underline{Z}}=\\frac{\\alpha_{\\underline{Y}|\\underline{M}} \\alpha_{\\underline{Z}|\\underline{M}} \\left(\\alpha_{\\underline{M}|\\underline{X}}^{2} \\sigma^2_{\\underline{\\epsilon}_{\\underline{X}}} + \\sigma^2_{\\underline{\\epsilon}_{\\underline{M}}}\\right)}{\\alpha_{\\underline{M}|\\underline{X}}^{2} \\alpha_{\\underline{Z}|\\underline{M}}^{2} \\sigma^2_{\\underline{\\epsilon}_{\\underline{X}}} + \\alpha_{\\underline{Z}|\\underline{M}}^{2} \\sigma^2_{\\underline{\\epsilon}_{\\underline{M}}} + \\sigma^2_{\\underline{\\epsilon}_{\\underline{Z}}}}\n",
       "\\\\\n",
       "\\frac{\\partial\\underline{Y}}{\\partial\\underline{Y}}=1\n",
       "\\end{array}"
      ]
     },
     "execution_count": 5,
     "metadata": {},
     "output_type": "execute_result"
    }
   ],
   "source": [
    "cal.print_jacobian_entries()"
   ]
  },
  {
   "cell_type": "code",
   "execution_count": null,
   "id": "32f8f8fa-4427-4827-81d7-7806a5b58a96",
   "metadata": {},
   "outputs": [],
   "source": []
  }
 ],
 "metadata": {
  "kernelspec": {
   "display_name": "Python 3 (ipykernel)",
   "language": "python",
   "name": "python3"
  },
  "language_info": {
   "codemirror_mode": {
    "name": "ipython",
    "version": 3
   },
   "file_extension": ".py",
   "mimetype": "text/x-python",
   "name": "python",
   "nbconvert_exporter": "python",
   "pygments_lexer": "ipython3",
   "version": "3.10.9"
  }
 },
 "nbformat": 4,
 "nbformat_minor": 5
}
